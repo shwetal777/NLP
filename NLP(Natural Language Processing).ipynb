{
 "cells": [
  {
   "cell_type": "code",
   "execution_count": 4,
   "id": "dedicated-calcium",
   "metadata": {},
   "outputs": [
    {
     "name": "stderr",
     "output_type": "stream",
     "text": [
      "[nltk_data] Downloading package punkt to /home/shwetal/nltk_data...\n",
      "[nltk_data]   Package punkt is already up-to-date!\n"
     ]
    },
    {
     "data": {
      "text/plain": [
       "True"
      ]
     },
     "execution_count": 4,
     "metadata": {},
     "output_type": "execute_result"
    }
   ],
   "source": [
    "# !pip install nltk -U\n",
    "import nltk\n",
    "nltk.download('punkt')"
   ]
  },
  {
   "cell_type": "code",
   "execution_count": 3,
   "id": "closed-publisher",
   "metadata": {},
   "outputs": [
    {
     "data": {
      "text/plain": [
       "'3.6.2'"
      ]
     },
     "execution_count": 3,
     "metadata": {},
     "output_type": "execute_result"
    }
   ],
   "source": [
    "nltk.__version__"
   ]
  },
  {
   "cell_type": "code",
   "execution_count": 4,
   "id": "breeding-medium",
   "metadata": {},
   "outputs": [
    {
     "data": {
      "text/plain": [
       "['Hello,', 'how', 'are', 'you?']"
      ]
     },
     "execution_count": 4,
     "metadata": {},
     "output_type": "execute_result"
    }
   ],
   "source": [
    "sent = 'Hello, how are you?'\n",
    "words = sent.split()\n",
    "words"
   ]
  },
  {
   "cell_type": "code",
   "execution_count": 5,
   "id": "right-borough",
   "metadata": {},
   "outputs": [
    {
     "data": {
      "text/plain": [
       "['Hello', ',', 'how', 'are', 'you', '?']"
      ]
     },
     "execution_count": 5,
     "metadata": {},
     "output_type": "execute_result"
    }
   ],
   "source": [
    "nltk.word_tokenize(sent)"
   ]
  },
  {
   "cell_type": "code",
   "execution_count": 6,
   "id": "constant-growth",
   "metadata": {},
   "outputs": [
    {
     "data": {
      "text/plain": [
       "['Hello, how are you?', 'Welcome to Pune.', 'Good Bye!']"
      ]
     },
     "execution_count": 6,
     "metadata": {},
     "output_type": "execute_result"
    }
   ],
   "source": [
    "para = 'Hello, how are you? Welcome to Pune. Good Bye!'\n",
    "nltk.sent_tokenize(para)"
   ]
  },
  {
   "cell_type": "code",
   "execution_count": 7,
   "id": "extraordinary-postcard",
   "metadata": {},
   "outputs": [
    {
     "name": "stdout",
     "output_type": "stream",
     "text": [
      "Hello, how are you? \tWelcome to Pune. Good Bye!\n"
     ]
    }
   ],
   "source": [
    "para = 'Hello, how are you? \\tWelcome to Pune. Good Bye!'\n",
    "print(para)"
   ]
  },
  {
   "cell_type": "code",
   "execution_count": 7,
   "id": "anonymous-missile",
   "metadata": {},
   "outputs": [],
   "source": [
    "from nltk.tokenize import TabTokenizer\n",
    "tk = TabTokenizer()"
   ]
  },
  {
   "cell_type": "code",
   "execution_count": 8,
   "id": "criminal-truth",
   "metadata": {},
   "outputs": [
    {
     "data": {
      "text/plain": [
       "['Hello, how are you? ', 'Welcome to Pune. Good Bye!']"
      ]
     },
     "execution_count": 8,
     "metadata": {},
     "output_type": "execute_result"
    }
   ],
   "source": [
    "tk.tokenize(para)"
   ]
  },
  {
   "cell_type": "code",
   "execution_count": 9,
   "id": "ancient-festival",
   "metadata": {},
   "outputs": [
    {
     "data": {
      "text/plain": [
       "['Hello',\n",
       " ',',\n",
       " 'how',\n",
       " 'are',\n",
       " 'you',\n",
       " '?',\n",
       " 'Welcome',\n",
       " 'to',\n",
       " 'Pune',\n",
       " '.',\n",
       " 'Good',\n",
       " 'Bye',\n",
       " '!']"
      ]
     },
     "execution_count": 9,
     "metadata": {},
     "output_type": "execute_result"
    }
   ],
   "source": [
    "nltk.word_tokenize(para)"
   ]
  },
  {
   "cell_type": "code",
   "execution_count": 10,
   "id": "southwest-detector",
   "metadata": {},
   "outputs": [],
   "source": [
    "from nltk.tokenize import SpaceTokenizer\n",
    "tk = SpaceTokenizer()"
   ]
  },
  {
   "cell_type": "code",
   "execution_count": 11,
   "id": "external-clinton",
   "metadata": {},
   "outputs": [
    {
     "data": {
      "text/plain": [
       "['Hello,', 'how', 'are', 'you?', '\\tWelcome', 'to', 'Pune.', 'Good', 'Bye!']"
      ]
     },
     "execution_count": 11,
     "metadata": {},
     "output_type": "execute_result"
    }
   ],
   "source": [
    "tk.tokenize(para)"
   ]
  },
  {
   "cell_type": "code",
   "execution_count": 12,
   "id": "visible-truck",
   "metadata": {},
   "outputs": [],
   "source": [
    "para = '''Hello, how are you? Welcome to Pune. \n",
    "Good Bye!'''"
   ]
  },
  {
   "cell_type": "code",
   "execution_count": 13,
   "id": "logical-frame",
   "metadata": {},
   "outputs": [],
   "source": [
    "from nltk.tokenize import LineTokenizer\n",
    "tk = LineTokenizer()"
   ]
  },
  {
   "cell_type": "code",
   "execution_count": 14,
   "id": "tested-contract",
   "metadata": {},
   "outputs": [
    {
     "data": {
      "text/plain": [
       "['Hello, how are you? Welcome to Pune. ', 'Good Bye!']"
      ]
     },
     "execution_count": 14,
     "metadata": {},
     "output_type": "execute_result"
    }
   ],
   "source": [
    "tk.tokenize(para)"
   ]
  },
  {
   "cell_type": "code",
   "execution_count": 15,
   "id": "fiscal-understanding",
   "metadata": {},
   "outputs": [],
   "source": [
    "para = '''Hello, how are you? \\tWelcome to Pune. \n",
    "Good Bye!'''"
   ]
  },
  {
   "cell_type": "code",
   "execution_count": 16,
   "id": "italic-rubber",
   "metadata": {},
   "outputs": [
    {
     "name": "stdout",
     "output_type": "stream",
     "text": [
      "Hello, how are you? \tWelcome to Pune. \n",
      "Good Bye!\n"
     ]
    }
   ],
   "source": [
    "print(para)"
   ]
  },
  {
   "cell_type": "code",
   "execution_count": 17,
   "id": "laden-insertion",
   "metadata": {},
   "outputs": [],
   "source": [
    "from nltk.tokenize import WhitespaceTokenizer\n",
    "tk = WhitespaceTokenizer()"
   ]
  },
  {
   "cell_type": "code",
   "execution_count": 18,
   "id": "junior-edwards",
   "metadata": {},
   "outputs": [
    {
     "data": {
      "text/plain": [
       "['Hello,', 'how', 'are', 'you?', 'Welcome', 'to', 'Pune.', 'Good', 'Bye!']"
      ]
     },
     "execution_count": 18,
     "metadata": {},
     "output_type": "execute_result"
    }
   ],
   "source": [
    "tk.tokenize(para)"
   ]
  },
  {
   "cell_type": "code",
   "execution_count": 19,
   "id": "abandoned-province",
   "metadata": {},
   "outputs": [],
   "source": [
    "gfg = \"(a * (b + c))ab(a - c)\""
   ]
  },
  {
   "cell_type": "code",
   "execution_count": 20,
   "id": "based-cylinder",
   "metadata": {},
   "outputs": [],
   "source": [
    "from nltk.tokenize import SExprTokenizer\n",
    "tk = SExprTokenizer()"
   ]
  },
  {
   "cell_type": "code",
   "execution_count": 21,
   "id": "heavy-position",
   "metadata": {},
   "outputs": [
    {
     "data": {
      "text/plain": [
       "['(a * (b + c))', 'ab', '(a - c)']"
      ]
     },
     "execution_count": 21,
     "metadata": {},
     "output_type": "execute_result"
    }
   ],
   "source": [
    "tk.tokenize(gfg)"
   ]
  },
  {
   "cell_type": "code",
   "execution_count": 22,
   "id": "numerical-trout",
   "metadata": {},
   "outputs": [],
   "source": [
    "gfg = \":-) <> () :() {} [] :-p\""
   ]
  },
  {
   "cell_type": "code",
   "execution_count": 23,
   "id": "portable-bacteria",
   "metadata": {},
   "outputs": [],
   "source": [
    "from nltk.tokenize import TweetTokenizer\n",
    "tk = TweetTokenizer()"
   ]
  },
  {
   "cell_type": "code",
   "execution_count": 24,
   "id": "potential-membrane",
   "metadata": {},
   "outputs": [
    {
     "data": {
      "text/plain": [
       "[':-)', '<', '>', '(', ')', ':(', ')', '{', '}', '[', ']', ':-p']"
      ]
     },
     "execution_count": 24,
     "metadata": {},
     "output_type": "execute_result"
    }
   ],
   "source": [
    "tk.tokenize(gfg)"
   ]
  },
  {
   "cell_type": "code",
   "execution_count": 25,
   "id": "brazilian-headline",
   "metadata": {},
   "outputs": [],
   "source": [
    "gfg = '''Hello friends\n",
    "\n",
    "How are you?\n",
    "Good Bye!'''"
   ]
  },
  {
   "cell_type": "code",
   "execution_count": 26,
   "id": "light-great",
   "metadata": {},
   "outputs": [],
   "source": [
    "from nltk.tokenize import BlanklineTokenizer\n",
    "tk = BlanklineTokenizer()"
   ]
  },
  {
   "cell_type": "code",
   "execution_count": 27,
   "id": "drawn-completion",
   "metadata": {},
   "outputs": [
    {
     "data": {
      "text/plain": [
       "['Hello friends', 'How are you?\\nGood Bye!']"
      ]
     },
     "execution_count": 27,
     "metadata": {},
     "output_type": "execute_result"
    }
   ],
   "source": [
    "tk.tokenize(gfg)"
   ]
  },
  {
   "cell_type": "code",
   "execution_count": 28,
   "id": "facial-procedure",
   "metadata": {},
   "outputs": [],
   "source": [
    "import urllib"
   ]
  },
  {
   "cell_type": "code",
   "execution_count": 29,
   "id": "automated-census",
   "metadata": {},
   "outputs": [
    {
     "data": {
      "text/plain": [
       "b'<!DOCTYPE html>\\n<html class=\"client-nojs\" lang=\"en\" dir=\"ltr\">\\n<head>\\n<meta charset=\"UTF-8\"/>\\n<title>Rajgad Fort - Wikipedia</title>\\n<script>document.documentElement.className=\"client-js\";RLCONF={\"wgBreakFrames\":!1,\"wgSeparatorTransformTable\":[\"\",\"\"],\"wgDigitTransformTable\":[\"\",\"\"],\"wgDefaultDateFormat\":\"dmy\",\"wgMonthNames\":[\"\",\"January\",\"February\",\"March\",\"April\",\"May\",\"June\",\"July\",\"August\",\"September\",\"October\",\"November\",\"December\"],\"wgRequestId\":\"248a8d65-e04b-4550-aa88-6d88c0a097c1\",\"wgCSPNonce\":!1,\"wgCanonicalNamespace\":\"\",\"wgCanonicalSpecialPageName\":!1,\"wgNamespaceNumber\":0,\"wgPageName\":\"Rajgad_Fort\",\"wgTitle\":\"Rajgad Fort\",\"wgCurRevisionId\":1025588610,\"wgRevisionId\":1025588610,\"wgArticleId\":12475798,\"wgIsArticle\":!0,\"wgIsRedirect\":!1,\"wgAction\":\"view\",\"wgUserName\":null,\"wgUserGroups\":[\"*\"],\"wgCategories\":[\"Articles with short description\",\"Short description matches Wikidata\",\"Use dmy dates from July 2017\",\"Use Indian English from July 2017\",\"All Wikipedia articles written in Indian English\",\"All articles with unsourced statements\",\"Articles with unsourced statements from July 2017\",\\n\"Commons category link is on Wikidata\",\"Forts in Pune district\",\"Former capital cities in India\"],\"wgPageContentLanguage\":\"en\",\"wgPageContentModel\":\"wikitext\",\"wgRelevantPageName\":\"Rajgad_Fort\",\"wgRelevantArticleId\":12475798,\"wgIsProbablyEditable\":!0,\"wgRelevantPageIsProbablyEditable\":!0,\"wgRestrictionEdit\":[],\"wgRestrictionMove\":[],\"wgFlaggedRevsParams\":{\"tags\":{\"status\":{\"levels\":-1}}},\"wgMediaViewerOnClick\":!0,\"wgMediaViewerEnabledByDefault\":!0,\"wgPopupsFlags\":10,\"wgVisualEditor\":{\"pageLanguageCode\":\"en\",\"pageLanguageDir\":\"ltr\",\"pageVariantFallbacks\":\"en\"},\"wgMFDisplayWikibaseDescriptions\":{\"search\":!0,\"nearby\":!0,\"watchlist\":!0,\"tagline\":!1},\"wgWMESchemaEditAttemptStepOversample\":!1,\"wgULSCurrentAutonym\":\"English\",\"wgNoticeProject\":\"wikipedia\",\"wgCentralAuthMobileDomain\":!1,\"wgEditSubmitButtonLabelPublish\":!0,\"wgULSPosition\":\"interlanguage\",\"wgGENewcomerTasksGuidanceEnabled\":!0,\"wgGEAskQuestionEnabled\":!1,\"wgGELinkRecommendationsFrontendEnabled\":!1,\\n\"wgWikibaseItemId\":\"Q7286112\"};RLSTATE={\"ext.globalCssJs.user.styles\":\"ready\",\"site.styles\":\"ready\",\"noscript\":\"ready\",\"user.styles\":\"ready\",\"ext.globalCssJs.user\":\"ready\",\"user\":\"ready\",\"user.options\":\"loading\",\"ext.cite.styles\":\"ready\",\"mediawiki.page.gallery.styles\":\"ready\",\"skins.vector.styles.legacy\":\"ready\",\"jquery.makeCollapsible.styles\":\"ready\",\"ext.visualEditor.desktopArticleTarget.noscript\":\"ready\",\"ext.uls.interlanguage\":\"ready\",\"ext.wikimediaBadges\":\"ready\",\"wikibase.client.init\":\"ready\"};RLPAGEMODULES=[\"ext.cite.ux-enhancements\",\"site\",\"mediawiki.page.ready\",\"jquery.makeCollapsible\",\"mediawiki.toc\",\"skins.vector.legacy.js\",\"ext.gadget.ReferenceTooltips\",\"ext.gadget.charinsert\",\"ext.gadget.extra-toolbar-buttons\",\"ext.gadget.refToolbar\",\"ext.gadget.switcher\",\"ext.centralauth.centralautologin\",\"mmv.head\",\"mmv.bootstrap.autostart\",\"ext.popups\",\"ext.visualEditor.desktopArticleTarget.init\",\"ext.visualEditor.targetLoader\",\"ext.eventLogging\",\"ext.wikimediaEvents\",\\n\"ext.navigationTiming\",\"ext.uls.compactlinks\",\"ext.uls.interface\",\"ext.cx.eventlogging.campaigns\",\"ext.centralNotice.geoIP\",\"ext.centralNotice.startUp\",\"ext.growthExperiments.SuggestedEditSession\"];</script>\\n<script>(RLQ=window.RLQ||[]).push(function(){mw.loader.implement(\"user.options@1hzgi\",function($,jQuery,require,module){/*@nomin*/mw.user.tokens.set({\"patrolToken\":\"+\\\\\\\\\",\"watchToken\":\"+\\\\\\\\\",\"csrfToken\":\"+\\\\\\\\\"});\\n});});</script>\\n<link rel=\"stylesheet\" href=\"/w/load.php?lang=en&amp;modules=ext.cite.styles%7Cext.uls.interlanguage%7Cext.visualEditor.desktopArticleTarget.noscript%7Cext.wikimediaBadges%7Cjquery.makeCollapsible.styles%7Cmediawiki.page.gallery.styles%7Cskins.vector.styles.legacy%7Cwikibase.client.init&amp;only=styles&amp;skin=vector\"/>\\n<script async=\"\" src=\"/w/load.php?lang=en&amp;modules=startup&amp;only=scripts&amp;raw=1&amp;skin=vector\"></script>\\n<meta name=\"ResourceLoaderDynamicStyles\" content=\"\"/>\\n<link rel=\"stylesheet\" href=\"/w/load.php?lang=en&amp;modules=site.styles&amp;only=styles&amp;skin=vector\"/>\\n<meta name=\"generator\" content=\"MediaWiki 1.37.0-wmf.7\"/>\\n<meta name=\"referrer\" content=\"origin\"/>\\n<meta name=\"referrer\" content=\"origin-when-crossorigin\"/>\\n<meta name=\"referrer\" content=\"origin-when-cross-origin\"/>\\n<meta property=\"og:image\" content=\"https://upload.wikimedia.org/wikipedia/commons/thumb/1/14/India_Maharashtra_location_map.svg/1200px-India_Maharashtra_location_map.svg.png\"/>\\n<meta property=\"og:title\" content=\"Rajgad Fort - Wikipedia\"/>\\n<meta property=\"og:type\" content=\"website\"/>\\n<link rel=\"preconnect\" href=\"//upload.wikimedia.org\"/>\\n<link rel=\"alternate\" media=\"only screen and (max-width: 720px)\" href=\"//en.m.wikipedia.org/wiki/Rajgad_Fort\"/>\\n<link rel=\"alternate\" type=\"application/x-wiki\" title=\"Edit this page\" href=\"/w/index.php?title=Rajgad_Fort&amp;action=edit\"/>\\n<link rel=\"edit\" title=\"Edit this page\" href=\"/w/index.php?title=Rajgad_Fort&amp;action=edit\"/>\\n<link rel=\"apple-touch-icon\" href=\"/static/apple-touch/wikipedia.png\"/>\\n<link rel=\"shortcut icon\" href=\"/static/favicon/wikipedia.ico\"/>\\n<link rel=\"search\" type=\"application/opensearchdescription+xml\" href=\"/w/opensearch_desc.php\" title=\"Wikipedia (en)\"/>\\n<link rel=\"EditURI\" type=\"application/rsd+xml\" href=\"//en.wikipedia.org/w/api.php?action=rsd\"/>\\n<link rel=\"license\" href=\"//creativecommons.org/licenses/by-sa/3.0/\"/>\\n<link rel=\"canonical\" href=\"https://en.wikipedia.org/wiki/Rajgad_Fort\"/>\\n<link rel=\"dns-prefetch\" href=\"//login.wikimedia.org\"/>\\n<link rel=\"dns-prefetch\" href=\"//meta.wikimedia.org\" />\\n</head>\\n<body class=\"mediawiki ltr sitedir-ltr mw-hide-empty-elt ns-0 ns-subject mw-editable page-Rajgad_Fort rootpage-Rajgad_Fort skin-vector action-view skin-vector-legacy\"><div id=\"mw-page-base\" class=\"noprint\"></div>\\n<div id=\"mw-head-base\" class=\"noprint\"></div>\\n<div id=\"content\" class=\"mw-body\" role=\"main\">\\n\\t<a id=\"top\"></a>\\n\\t<div id=\"siteNotice\"><!-- CentralNotice --></div>\\n\\t<div class=\"mw-indicators\">\\n\\t</div>\\n\\t<h1 id=\"firstHeading\" class=\"firstHeading\" >Rajgad Fort</h1>\\n\\t<div id=\"bodyContent\" class=\"vector-body\">\\n\\t\\t<div id=\"siteSub\" class=\"noprint\">From Wikipedia, the free encyclopedia</div>\\n\\t\\t<div id=\"contentSub\"></div>\\n\\t\\t<div id=\"contentSub2\"></div>\\n\\t\\t\\n\\t\\t<div id=\"jump-to-nav\"></div>\\n\\t\\t<a class=\"mw-jump-link\" href=\"#mw-head\">Jump to navigation</a>\\n\\t\\t<a class=\"mw-jump-link\" href=\"#searchInput\">Jump to search</a>\\n\\t\\t<div id=\"mw-content-text\" class=\"mw-body-content mw-content-ltr\" lang=\"en\" dir=\"ltr\"><div class=\"mw-parser-output\"><div class=\"shortdescription nomobile noexcerpt noprint searchaux\" style=\"display:none\">Hill fort in Pune district, Maharashtra, India</div>\\n<div role=\"note\" class=\"hatnote navigation-not-searchable\">Not to be confused with <a href=\"/wiki/Raigad_Fort\" title=\"Raigad Fort\">Raigad Fort</a>.</div>\\n<p class=\"mw-empty-elt\">\\n\\n</p>\\n<table class=\"infobox vcard\" style=\"width:25.5em;border-spacing:2px;\"><tbody><tr><th colspan=\"2\" class=\"infobox-above\" style=\"background-color:#C3D6EF;text-align:center;vertical-align:middle;font-size:110%;\">Rajgad Fort</th></tr><tr><td colspan=\"2\" class=\"infobox-subheader\" style=\"background-color:#DCDCDC;text-align:center;vertical-align:middle;\">Part of on Maharashtra</td></tr><tr><td colspan=\"2\" class=\"infobox-subheader\" style=\"background-color:#DCDCDC;text-align:center;vertical-align:middle;\"><span class=\"label\"><a href=\"/wiki/Pune_District\" class=\"mw-redirect\" title=\"Pune District\">Pune District</a>, <a href=\"/wiki/Maharashtra\" title=\"Maharashtra\">Maharashtra</a> <span class=\"flagicon\"><a href=\"/wiki/India\" title=\"India\"><img alt=\"India\" src=\"//upload.wikimedia.org/wikipedia/en/thumb/4/41/Flag_of_India.svg/23px-Flag_of_India.svg.png\" decoding=\"async\" width=\"23\" height=\"15\" class=\"thumbborder\" srcset=\"//upload.wikimedia.org/wikipedia/en/thumb/4/41/Flag_of_India.svg/35px-Flag_of_India.svg.png 1.5x, //upload.wikimedia.org/wikipedia/en/thumb/4/41/Flag_of_India.svg/45px-Flag_of_India.svg.png 2x\" data-file-width=\"1350\" data-file-height=\"900\" /></a></span> </span></td></tr><tr><td colspan=\"2\" class=\"infobox-image\"><div class=\"switcher-container\"><style data-mw-deduplicate=\"TemplateStyles:r997900035\">.mw-parser-output .locmap .od{position:absolute}.mw-parser-output .locmap .id{position:absolute;line-height:0}.mw-parser-output .locmap .l0{font-size:0;position:absolute}.mw-parser-output .locmap .pv{line-height:110%;position:absolute;text-align:center}.mw-parser-output .locmap .pl{line-height:110%;position:absolute;top:-0.75em;text-align:right}.mw-parser-output .locmap .pr{line-height:110%;position:absolute;top:-0.75em;text-align:left}.mw-parser-output .locmap .pv>div{display:inline;padding:1px}.mw-parser-output .locmap .pl>div{display:inline;padding:1px;float:right}.mw-parser-output .locmap .pr>div{display:inline;padding:1px;float:left}</style><div class=\"center\"><div class=\"locmap\" style=\"width:300px;float:none;clear:both;margin-left:auto;margin-right:auto\"><div style=\"width:300px;padding:0\"><div style=\"position:relative;width:300px\"><a href=\"/wiki/File:India_Maharashtra_location_map.svg\" class=\"image\" title=\"Rajgad Fort is located in Maharashtra\"><img alt=\"Rajgad Fort is located in Maharashtra\" src=\"//upload.wikimedia.org/wikipedia/commons/thumb/1/14/India_Maharashtra_location_map.svg/300px-India_Maharashtra_location_map.svg.png\" decoding=\"async\" width=\"300\" height=\"219\" srcset=\"//upload.wikimedia.org/wikipedia/commons/thumb/1/14/India_Maharashtra_location_map.svg/450px-India_Maharashtra_location_map.svg.png 1.5x, //upload.wikimedia.org/wikipedia/commons/thumb/1/14/India_Maharashtra_location_map.svg/600px-India_Maharashtra_location_map.svg.png 2x\" data-file-width=\"875\" data-file-height=\"640\" /></a><div class=\"od\" style=\"top:58.934%;left:14.831%\"><div class=\"id\" style=\"left:-5px;top:-5px\"><img alt=\"Rajgad Fort\" src=\"//upload.wikimedia.org/wikipedia/commons/thumb/0/0c/Red_pog.svg/10px-Red_pog.svg.png\" decoding=\"async\" title=\"Rajgad Fort\" width=\"10\" height=\"10\" srcset=\"//upload.wikimedia.org/wikipedia/commons/thumb/0/0c/Red_pog.svg/15px-Red_pog.svg.png 1.5x, //upload.wikimedia.org/wikipedia/commons/thumb/0/0c/Red_pog.svg/20px-Red_pog.svg.png 2x\" data-file-width=\"64\" data-file-height=\"64\" /></div><div class=\"pr\" style=\"font-size:91%;width:6em;left:6px\"><div>Rajgad Fort</div></div></div></div><div style=\"padding-top:0.2em\">Shown within <a href=\"/wiki/Maharashtra\" title=\"Maharashtra\">Maharashtra</a></div><span class=\"switcher-label\" style=\"display:none\">Show map of Maharashtra</span></div></div></div><link rel=\"mw-deduplicated-inline-style\" href=\"mw-data:TemplateStyles:r997900035\"/><div class=\"center\"><div class=\"locmap\" style=\"width:300px;float:none;clear:both;margin-left:auto;margin-right:auto\"><div style=\"width:300px;padding:0\"><div style=\"position:relative;width:300px\"><a href=\"/wiki/File:India_location_map.svg\" class=\"image\" title=\"Rajgad Fort is located in India\"><img alt=\"Rajgad Fort is located in India\" src=\"//upload.wikimedia.org/wikipedia/commons/thumb/d/dc/India_location_map.svg/300px-India_location_map.svg.png\" decoding=\"async\" width=\"300\" height=\"323\" srcset=\"//upload.wikimedia.org/wikipedia/commons/thumb/d/dc/India_location_map.svg/450px-India_location_map.svg.png 1.5x, //upload.wikimedia.org/wikipedia/commons/thumb/d/dc/India_location_map.svg/600px-India_location_map.svg.png 2x\" data-file-width=\"1500\" data-file-height=\"1615\" /></a><div class=\"od\" style=\"top:59.241%;left:20.882%\"><div class=\"id\" style=\"left:-5px;top:-5px\"><img alt=\"Rajgad Fort\" src=\"//upload.wikimedia.org/wikipedia/commons/thumb/0/0c/Red_pog.svg/10px-Red_pog.svg.png\" decoding=\"async\" title=\"Rajgad Fort\" width=\"10\" height=\"10\" srcset=\"//upload.wikimedia.org/wikipedia/commons/thumb/0/0c/Red_pog.svg/15px-Red_pog.svg.png 1.5x, //upload.wikimedia.org/wikipedia/commons/thumb/0/0c/Red_pog.svg/20px-Red_pog.svg.png 2x\" data-file-width=\"64\" data-file-height=\"64\" /></div><div class=\"pr\" style=\"font-size:91%;width:6em;left:6px\"><div>Rajgad Fort</div></div></div></div><div style=\"padding-top:0.2em\">Rajgad Fort (India)</div><span class=\"switcher-label\" style=\"display:none\">Show map of India</span></div></div></div></div></td></tr><tr><th scope=\"row\" class=\"infobox-label\" style=\"padding-right:1em\">Coordinates</th><td class=\"infobox-data\"><style data-mw-deduplicate=\"TemplateStyles:r994658806\">.mw-parser-output .geo-default,.mw-parser-output .geo-dms,.mw-parser-output .geo-dec{display:inline}.mw-parser-output .geo-nondefault,.mw-parser-output .geo-multi-punct{display:none}.mw-parser-output .longitude,.mw-parser-output .latitude{white-space:nowrap}</style><span class=\"plainlinks nourlexpansion\"><a rel=\"nofollow\" class=\"external text\" href=\"//geohack.toolforge.org/geohack.php?pagename=Rajgad_Fort&amp;params=18.2467_N_73.6823_E_type:landmark_region:IN-MH\"><span class=\"geo-default\"><span class=\"geo-dms\" title=\"Maps, aerial photos, and other data for this location\"><span class=\"latitude\">18\\xc2\\xb014\\xe2\\x80\\xb248\\xe2\\x80\\xb3N</span> <span class=\"longitude\">73\\xc2\\xb040\\xe2\\x80\\xb256\\xe2\\x80\\xb3E</span></span></span><span class=\"geo-multi-punct\">&#xfeff; / &#xfeff;</span><span class=\"geo-nondefault\"><span class=\"geo-dec\" title=\"Maps, aerial photos, and other data for this location\">18.2467\\xc2\\xb0N 73.6823\\xc2\\xb0E</span><span style=\"display:none\">&#xfeff; / <span class=\"geo\">18.2467; 73.6823</span></span></span></a></span></td></tr><tr><th scope=\"row\" class=\"infobox-label\" style=\"padding-right:1em\">Type</th><td class=\"infobox-data\">Hill fort</td></tr><tr><th scope=\"row\" class=\"infobox-label\" style=\"padding-right:1em\">Height</th><td class=\"infobox-data\">1376 m</td></tr></tbody></table>\\n<p><b>Rajgad</b> (literal meaning <i>Ruling Fort</i>) is a hill fort situated in the <a href=\"/wiki/Pune\" title=\"Pune\">Pune</a> district of <a href=\"/wiki/Maharashtra\" title=\"Maharashtra\">Maharashtra</a>, <a href=\"/wiki/India\" title=\"India\">India</a>. Formerly known as <i>Murumdev</i>, the fort was the capital of the <a href=\"/wiki/Maratha_Empire\" title=\"Maratha Empire\">Maratha Empire</a> under the rule of <a href=\"/wiki/Chatrapati_Shivaji_Maharaj\" class=\"mw-redirect\" title=\"Chatrapati Shivaji Maharaj\">Chatrapati Shivaji Maharaj</a> for almost 26 years, after which the capital was moved to the <a href=\"/wiki/Raigad_Fort\" title=\"Raigad Fort\">Raigad Fort</a>.<sup id=\"cite_ref-Kulkarni2008_1-0\" class=\"reference\"><a href=\"#cite_note-Kulkarni2008-1\">&#91;1&#93;</a></sup> Treasures discovered from an adjacent fort called Torna were used to completely build and fortify the Rajgad Fort.<sup class=\"noprint Inline-Template Template-Fact\" style=\"white-space:nowrap;\">&#91;<i><a href=\"/wiki/Wikipedia:Citation_needed\" title=\"Wikipedia:Citation needed\"><span title=\"This claim needs references to reliable sources. (July 2017)\">citation needed</span></a></i>&#93;</sup>\\n</p><p>The Rajgad Fort is located around 60&#160;km (37&#160;mi) to the south-west of Pune and about 15&#160;km (9.3&#160;mi) west of <a href=\"/wiki/Nasrapur\" title=\"Nasrapur\">Nasrapur</a> in the <a href=\"/wiki/Sahyadris\" class=\"mw-redirect\" title=\"Sahyadris\">Sahyadris</a> range. The fort lies 1,376&#160;m (4,514&#160;ft) above the sea level. The diameter of the base of the fort was about 40&#160;km (25&#160;mi) which made it difficult to lay siege on it, which added to its strategic value. The fort\\'s ruins consist of palaces, water cisterns, and caves. This fort was built on a hill called Murumbadevi Dongar (<i>Mountain of the Goddess Murumba</i>). Rajgad boasts of the highest number of days stayed by Chatrapati Shivaji Maharaj on any fort.<sup class=\"noprint Inline-Template Template-Fact\" style=\"white-space:nowrap;\">&#91;<i><a href=\"/wiki/Wikipedia:Citation_needed\" title=\"Wikipedia:Citation needed\"><span title=\"This claim needs references to reliable sources. (July 2017)\">citation needed</span></a></i>&#93;</sup>\\n</p>\\n<div id=\"toc\" class=\"toc\" role=\"navigation\" aria-labelledby=\"mw-toc-heading\"><input type=\"checkbox\" role=\"button\" id=\"toctogglecheckbox\" class=\"toctogglecheckbox\" style=\"display:none\" /><div class=\"toctitle\" lang=\"en\" dir=\"ltr\"><h2 id=\"mw-toc-heading\">Contents</h2><span class=\"toctogglespan\"><label class=\"toctogglelabel\" for=\"toctogglecheckbox\"></label></span></div>\\n<ul>\\n<li class=\"toclevel-1 tocsection-1\"><a href=\"#History\"><span class=\"tocnumber\">1</span> <span class=\"toctext\">History</span></a>\\n<ul>\\n<li class=\"toclevel-2 tocsection-2\"><a href=\"#List_of_Chronological_events\"><span class=\"tocnumber\">1.1</span> <span class=\"toctext\">List of Chronological events</span></a></li>\\n</ul>\\n</li>\\n<li class=\"toclevel-1 tocsection-3\"><a href=\"#Tourism\"><span class=\"tocnumber\">2</span> <span class=\"toctext\">Tourism</span></a></li>\\n<li class=\"toclevel-1 tocsection-4\"><a href=\"#Gallery\"><span class=\"tocnumber\">3</span> <span class=\"toctext\">Gallery</span></a></li>\\n<li class=\"toclevel-1 tocsection-5\"><a href=\"#See_also\"><span class=\"tocnumber\">4</span> <span class=\"toctext\">See also</span></a></li>\\n<li class=\"toclevel-1 tocsection-6\"><a href=\"#References\"><span class=\"tocnumber\">5</span> <span class=\"toctext\">References</span></a></li>\\n<li class=\"toclevel-1 tocsection-7\"><a href=\"#External_links\"><span class=\"tocnumber\">6</span> <span class=\"toctext\">External links</span></a></li>\\n</ul>\\n</div>\\n\\n<h2><span class=\"mw-headline\" id=\"History\">History</span><span class=\"mw-editsection\"><span class=\"mw-editsection-bracket\">[</span><a href=\"/w/index.php?title=Rajgad_Fort&amp;action=edit&amp;section=1\" title=\"Edit section: History\">edit</a><span class=\"mw-editsection-bracket\">]</span></span></h2>\\n<p>The fort has stood witness to many significant historic events including the birth of Chatrapati Shivaji Maharaj\\'s son <a href=\"/wiki/Rajaram_I\" title=\"Rajaram I\">Rajaram I</a>, the death of Chatrapati Shivaji Maharaj\\'s Queen <a href=\"/wiki/Maharani_Saibai\" class=\"mw-redirect\" title=\"Maharani Saibai\">Saibai</a>, the return of <a href=\"/wiki/Chatrapati_Shivaji_Maharaj\" class=\"mw-redirect\" title=\"Chatrapati Shivaji Maharaj\">Chatrapati Shivaji Maharaj</a> from <a href=\"/wiki/Agra\" title=\"Agra\">Agra</a>, the burial of <a href=\"/wiki/Afzal_Khan_(general)\" title=\"Afzal Khan (general)\">Afzal Khan</a>\\'s head in the Mahadarwaja walls of Balle Killa, the strict words of Sonopant Dabir to <a href=\"/wiki/Chhatrapati_Shivaji_Maharaj\" class=\"mw-redirect\" title=\"Chhatrapati Shivaji Maharaj\">Chhatrapati Shivaji Maharaj</a>.<sup class=\"noprint Inline-Template Template-Fact\" style=\"white-space:nowrap;\">&#91;<i><a href=\"/wiki/Wikipedia:Citation_needed\" title=\"Wikipedia:Citation needed\"><span title=\"This claim needs references to reliable sources. (July 2017)\">citation needed</span></a></i>&#93;</sup>\\n</p><p>The Rajgad Fort was also one of the 12 forts that <a href=\"/wiki/Chatrapati_Shivaji_Maharaj\" class=\"mw-redirect\" title=\"Chatrapati Shivaji Maharaj\">Chatrapati Shivaji Maharaj</a> kept when he signed the <a href=\"/wiki/Treaty_of_Purandar_(1665)\" title=\"Treaty of Purandar (1665)\">Treaty of Purandar</a> in 1665, with the Mughal general <a href=\"/wiki/Jai_Singh_I\" title=\"Jai Singh I\">Jai Singh I</a>, leader of the Mughal forces. Under this treaty, 23 forts were handed over to the Mughals.<sup id=\"cite_ref-2\" class=\"reference\"><a href=\"#cite_note-2\">&#91;2&#93;</a></sup>\\n</p>\\n<h3><span class=\"mw-headline\" id=\"List_of_Chronological_events\">List of Chronological events</span><span class=\"mw-editsection\"><span class=\"mw-editsection-bracket\">[</span><a href=\"/w/index.php?title=Rajgad_Fort&amp;action=edit&amp;section=2\" title=\"Edit section: List of Chronological events\">edit</a><span class=\"mw-editsection-bracket\">]</span></span></h3>\\n<table class=\"wikitable\" style=\"width:100%;\">\\n\\n<tbody><tr>\\n<th style=\"width:6%\">Year</th>\\n<th style=\"width:10%\">Date</th>\\n<th>Event\\n</th></tr>\\n<tr>\\n<td>1490</td>\\n<td></td>\\n<td><a href=\"/wiki/Malik_Ahmad_Nizam_Shah_I\" title=\"Malik Ahmad Nizam Shah I\">Ahmed Bahiri Nizamshah</a> captured the fort.\\n</td></tr>\\n<tr>\\n<td>1626</td>\\n<td></td>\\n<td>During the Nizam\\'s last struggle, Adilshah captured the fort.\\n</td></tr>\\n<tr>\\n<td>1630</td>\\n<td></td>\\n<td>The fort was recaptured by Nizamshah with the help of <a href=\"/wiki/Shahaji\" title=\"Shahaji\">Shahaji</a>.\\n</td></tr>\\n<tr>\\n<td>1642</td>\\n<td></td>\\n<td>The fort was  in the <a href=\"/wiki/Jagir\" title=\"Jagir\">jagir</a> of Shahaji Raje.\\n</td></tr>\\n<tr>\\n<td>1647</td>\\n<td></td>\\n<td>Chatrapati Shivaji Maharaj captured the fort.\\n</td></tr>\\n<tr>\\n<td>1649</td>\\n<td></td>\\n<td>Repairs on the fort began and Shamrao Neelkanth Ranzekar was appointed as the <a href=\"/wiki/Peshwa\" title=\"Peshwa\">Peshwa</a>.\\n</td></tr>\\n<tr>\\n<td>1654</td>\\n<td></td>\\n<td>The fort was renamed as \"Rajgad\". Construction on new fortifications and buildings commenced.\\n</td></tr>\\n<tr>\\n<td>1658</td>\\n<td>14 January</td>\\n<td>Chatrapati Shivaji Maharaj returned to Rajgad after conquering North Konkan.\\n</td></tr>\\n<tr>\\n<td>1659</td>\\n<td>11 July</td>\\n<td>Chatrapati Shivaji Maharaj shifted to <a href=\"/wiki/Pratapgad\" title=\"Pratapgad\">Pratapgad</a> in order to battle with <a href=\"/wiki/Afzal_Khan_(general)\" title=\"Afzal Khan (general)\">Afzal Khan</a>.\\n</td></tr>\\n<tr>\\n<td>1659</td>\\n<td>5 September</td>\\n<td><a href=\"/wiki/Sai_Bhosale\" class=\"mw-redirect\" title=\"Sai Bhosale\">Maharani Saibai</a> (Chatrapati Shivaji Maharaj\\'s wife) died in the Rajgad Fort.\\n</td></tr>\\n<tr>\\n<td>1660</td>\\n<td>July</td>\\n<td>Chatrapati Shivaji Maharaj escaped from Siddi Jouhar\\'s siege of Panhala and came to Rajgad.\\n</td></tr>\\n<tr>\\n<td>1661</td>\\n<td>July</td>\\n<td>The idol of <a href=\"/wiki/Bhavani\" title=\"Bhavani\">Bhavanimata</a>, which was to be established in <a rel=\"nofollow\" class=\"external text\" href=\"https://www.newblogger.in/2020/04/Pratapgad-information-hindi.html\">Pratapgad</a>, was first brought to Rajgad to be inspected by <a href=\"/wiki/Jijabai\" title=\"Jijabai\">Jijabai</a>.\\n</td></tr>\\n<tr>\\n<td>1662</td>\\n<td>January</td>\\n<td>The construction of the Rajgad fort was completed and Chatrapati Shivaji Maharaj returned to the fort after capturing Pen and Kalyan.\\n</td></tr>\\n<tr>\\n<td>1664</td>\\n<td>February</td>\\n<td>The booty of Surat was brought to Rajgad.\\n</td></tr>\\n<tr>\\n<td>1665</td>\\n<td>30 April</td>\\n<td>The Mughals were unsuccessful on their attack of the fort.\\n</td></tr>\\n<tr>\\n<td>1665</td>\\n<td>June</td>\\n<td>Chatrapati Shivaji Maharaj\\'s letter of accepting defeat was sent to Jaisingh.\\n</td></tr>\\n<tr>\\n<td>1670</td>\\n<td>24 February</td>\\n<td>Rajaram was born on the Fort.\\n</td></tr>\\n<tr>\\n<td>1671</td>\\n<td></td>\\n<td>The repairing of the fort began at an expected cost of 10,000 hons.\\n</td></tr>\\n<tr>\\n<td>1689</td>\\n<td>June</td>\\n<td>The fort was captured by the Mughals after <a href=\"/wiki/Sambhaji_Maharaj\" class=\"mw-redirect\" title=\"Sambhaji Maharaj\">Sambhaji Maharaj</a> was murdered.\\n</td></tr>\\n<tr>\\n<td>1692</td>\\n<td></td>\\n<td>Shankarji Narayan captured the fort from the Mughals.\\n</td></tr>\\n<tr>\\n<td>1697</td>\\n<td></td>\\n<td>Rajaram returned to Maharashtra and made Rajgad his new capital<sup id=\"cite_ref-Kulkarni2008_1-1\" class=\"reference\"><a href=\"#cite_note-Kulkarni2008-1\">&#91;1&#93;</a></sup>\\n</td></tr>\\n<tr>\\n<td>1701</td>\\n<td>4 August</td>\\n<td>Shahaji Mohite was made the havaldar of Padmavati Machi\\n</td></tr>\\n<tr>\\n<td>1704</td>\\n<td>18 February</td>\\n<td>The fort was handed over to <a href=\"/wiki/Aurangzeb\" title=\"Aurangzeb\">Aurangzeb</a> as part of a treaty. The fort was renamed to <i>Nabishahagad</i>.  Sidojirao Thopte and Santaji Shilimkar were killed here by Aurangzeb.\\n</td></tr>\\n<tr>\\n<td>1707</td>\\n<td>29 May</td>\\n<td>Gunaji Sawant captured the fort and The Maratha War of Independence ended.\\n</td></tr>\\n<tr>\\n<td>1709</td>\\n<td></td>\\n<td><a href=\"/wiki/Chhattrapati_Shahu\" class=\"mw-redirect\" title=\"Chhattrapati Shahu\">Chhattrapati Shahu</a> made provisions for the repairs of the fort.\\n</td></tr>\\n<tr>\\n<td>1818</td>\\n<td></td>\\n<td>The Rajgad Fort passed into the hands of the British.\\n</td></tr></tbody></table>\\n<h2><span class=\"mw-headline\" id=\"Tourism\">Tourism</span><span class=\"mw-editsection\"><span class=\"mw-editsection-bracket\">[</span><a href=\"/w/index.php?title=Rajgad_Fort&amp;action=edit&amp;section=3\" title=\"Edit section: Tourism\">edit</a><span class=\"mw-editsection-bracket\">]</span></span></h2>\\n<p>The fort is a significant tourist destination and is most sought after especially during <a href=\"/wiki/Monsoon\" title=\"Monsoon\">monsoon</a>. Visitors prefer to stay overnight on the fort considering the fort itself is huge and cannot be explored in a single day. The Padmavati temple on the fort can accommodate around 50 people. Water tanks provide fresh water all throughout the year. Villagers from the foothills of Rajgad sell local antiques and items to these tourists.\\n</p>\\n<h2><span class=\"mw-headline\" id=\"Gallery\">Gallery</span><span class=\"mw-editsection\"><span class=\"mw-editsection-bracket\">[</span><a href=\"/w/index.php?title=Rajgad_Fort&amp;action=edit&amp;section=4\" title=\"Edit section: Gallery\">edit</a><span class=\"mw-editsection-bracket\">]</span></span></h2>\\n<ul class=\"gallery mw-gallery-traditional\">\\n\\t\\t<li class=\"gallerybox\" style=\"width: 155px\"><div style=\"width: 155px\">\\n\\t\\t\\t<div class=\"thumb\" style=\"width: 150px;\"><div style=\"margin:34.5px auto;\"><a href=\"/wiki/File:Gadancha_Raja,_Rajancha_Gad.jpg\" class=\"image\"><img alt=\"\" src=\"//upload.wikimedia.org/wikipedia/commons/thumb/f/fc/Gadancha_Raja%2C_Rajancha_Gad.jpg/120px-Gadancha_Raja%2C_Rajancha_Gad.jpg\" decoding=\"async\" width=\"120\" height=\"81\" srcset=\"//upload.wikimedia.org/wikipedia/commons/thumb/f/fc/Gadancha_Raja%2C_Rajancha_Gad.jpg/180px-Gadancha_Raja%2C_Rajancha_Gad.jpg 1.5x, //upload.wikimedia.org/wikipedia/commons/thumb/f/fc/Gadancha_Raja%2C_Rajancha_Gad.jpg/240px-Gadancha_Raja%2C_Rajancha_Gad.jpg 2x\" data-file-width=\"1024\" data-file-height=\"687\" /></a></div></div>\\n\\t\\t\\t<div class=\"gallerytext\">\\n<p>The Fort\\n</p>\\n\\t\\t\\t</div>\\n\\t\\t</div></li>\\n\\t\\t<li class=\"gallerybox\" style=\"width: 155px\"><div style=\"width: 155px\">\\n\\t\\t\\t<div class=\"thumb\" style=\"width: 150px;\"><div style=\"margin:30px auto;\"><a href=\"/wiki/File:Rajgad_28.JPG\" class=\"image\"><img alt=\"Rajgad 28.JPG\" src=\"//upload.wikimedia.org/wikipedia/commons/thumb/9/91/Rajgad_28.JPG/120px-Rajgad_28.JPG\" decoding=\"async\" width=\"120\" height=\"90\" srcset=\"//upload.wikimedia.org/wikipedia/commons/thumb/9/91/Rajgad_28.JPG/180px-Rajgad_28.JPG 1.5x, //upload.wikimedia.org/wikipedia/commons/thumb/9/91/Rajgad_28.JPG/240px-Rajgad_28.JPG 2x\" data-file-width=\"3648\" data-file-height=\"2736\" /></a></div></div>\\n\\t\\t\\t<div class=\"gallerytext\">\\n\\t\\t\\t</div>\\n\\t\\t</div></li>\\n\\t\\t<li class=\"gallerybox\" style=\"width: 155px\"><div style=\"width: 155px\">\\n\\t\\t\\t<div class=\"thumb\" style=\"width: 150px;\"><div style=\"margin:30px auto;\"><a href=\"/wiki/File:Rajgad_Fort.jpg\" class=\"image\"><img alt=\"Rajgad Fort.jpg\" src=\"//upload.wikimedia.org/wikipedia/commons/thumb/d/d8/Rajgad_Fort.jpg/120px-Rajgad_Fort.jpg\" decoding=\"async\" width=\"120\" height=\"90\" srcset=\"//upload.wikimedia.org/wikipedia/commons/thumb/d/d8/Rajgad_Fort.jpg/180px-Rajgad_Fort.jpg 1.5x, //upload.wikimedia.org/wikipedia/commons/thumb/d/d8/Rajgad_Fort.jpg/240px-Rajgad_Fort.jpg 2x\" data-file-width=\"3648\" data-file-height=\"2736\" /></a></div></div>\\n\\t\\t\\t<div class=\"gallerytext\">\\n\\t\\t\\t</div>\\n\\t\\t</div></li>\\n\\t\\t<li class=\"gallerybox\" style=\"width: 155px\"><div style=\"width: 155px\">\\n\\t\\t\\t<div class=\"thumb\" style=\"width: 150px;\"><div style=\"margin:30px auto;\"><a href=\"/wiki/File:Rajgad_30.JPG\" class=\"image\"><img alt=\"Rajgad 30.JPG\" src=\"//upload.wikimedia.org/wikipedia/commons/thumb/8/8c/Rajgad_30.JPG/120px-Rajgad_30.JPG\" decoding=\"async\" width=\"120\" height=\"90\" srcset=\"//upload.wikimedia.org/wikipedia/commons/thumb/8/8c/Rajgad_30.JPG/180px-Rajgad_30.JPG 1.5x, //upload.wikimedia.org/wikipedia/commons/thumb/8/8c/Rajgad_30.JPG/240px-Rajgad_30.JPG 2x\" data-file-width=\"3648\" data-file-height=\"2736\" /></a></div></div>\\n\\t\\t\\t<div class=\"gallerytext\">\\n\\t\\t\\t</div>\\n\\t\\t</div></li>\\n\\t\\t<li class=\"gallerybox\" style=\"width: 155px\"><div style=\"width: 155px\">\\n\\t\\t\\t<div class=\"thumb\" style=\"width: 150px;\"><div style=\"margin:30px auto;\"><a href=\"/wiki/File:Rajgad_37.JPG\" class=\"image\"><img alt=\"Rajgad 37.JPG\" src=\"//upload.wikimedia.org/wikipedia/commons/thumb/5/55/Rajgad_37.JPG/120px-Rajgad_37.JPG\" decoding=\"async\" width=\"120\" height=\"90\" srcset=\"//upload.wikimedia.org/wikipedia/commons/thumb/5/55/Rajgad_37.JPG/180px-Rajgad_37.JPG 1.5x, //upload.wikimedia.org/wikipedia/commons/thumb/5/55/Rajgad_37.JPG/240px-Rajgad_37.JPG 2x\" data-file-width=\"3648\" data-file-height=\"2736\" /></a></div></div>\\n\\t\\t\\t<div class=\"gallerytext\">\\n\\t\\t\\t</div>\\n\\t\\t</div></li>\\n\\t\\t<li class=\"gallerybox\" style=\"width: 155px\"><div style=\"width: 155px\">\\n\\t\\t\\t<div class=\"thumb\" style=\"width: 150px;\"><div style=\"margin:30px auto;\"><a href=\"/wiki/File:Rajgad3.jpg\" class=\"image\"><img alt=\"Rajgad3.jpg\" src=\"//upload.wikimedia.org/wikipedia/commons/thumb/0/06/Rajgad3.jpg/120px-Rajgad3.jpg\" decoding=\"async\" width=\"120\" height=\"90\" srcset=\"//upload.wikimedia.org/wikipedia/commons/thumb/0/06/Rajgad3.jpg/180px-Rajgad3.jpg 1.5x, //upload.wikimedia.org/wikipedia/commons/thumb/0/06/Rajgad3.jpg/240px-Rajgad3.jpg 2x\" data-file-width=\"2816\" data-file-height=\"2112\" /></a></div></div>\\n\\t\\t\\t<div class=\"gallerytext\">\\n\\t\\t\\t</div>\\n\\t\\t</div></li>\\n\\t\\t<li class=\"gallerybox\" style=\"width: 155px\"><div style=\"width: 155px\">\\n\\t\\t\\t<div class=\"thumb\" style=\"width: 150px;\"><div style=\"margin:30px auto;\"><a href=\"/wiki/File:Rajgad5.jpg\" class=\"image\"><img alt=\"Rajgad5.jpg\" src=\"//upload.wikimedia.org/wikipedia/commons/thumb/8/8c/Rajgad5.jpg/120px-Rajgad5.jpg\" decoding=\"async\" width=\"120\" height=\"90\" srcset=\"//upload.wikimedia.org/wikipedia/commons/thumb/8/8c/Rajgad5.jpg/180px-Rajgad5.jpg 1.5x, //upload.wikimedia.org/wikipedia/commons/thumb/8/8c/Rajgad5.jpg/240px-Rajgad5.jpg 2x\" data-file-width=\"2816\" data-file-height=\"2112\" /></a></div></div>\\n\\t\\t\\t<div class=\"gallerytext\">\\n\\t\\t\\t</div>\\n\\t\\t</div></li>\\n\\t\\t<li class=\"gallerybox\" style=\"width: 155px\"><div style=\"width: 155px\">\\n\\t\\t\\t<div class=\"thumb\" style=\"width: 150px;\"><div style=\"margin:30px auto;\"><a href=\"/wiki/File:Rajgad012.jpg\" class=\"image\"><img alt=\"Rajgad012.jpg\" src=\"//upload.wikimedia.org/wikipedia/commons/thumb/2/28/Rajgad012.jpg/120px-Rajgad012.jpg\" decoding=\"async\" width=\"120\" height=\"90\" srcset=\"//upload.wikimedia.org/wikipedia/commons/thumb/2/28/Rajgad012.jpg/180px-Rajgad012.jpg 1.5x, //upload.wikimedia.org/wikipedia/commons/thumb/2/28/Rajgad012.jpg/240px-Rajgad012.jpg 2x\" data-file-width=\"2816\" data-file-height=\"2112\" /></a></div></div>\\n\\t\\t\\t<div class=\"gallerytext\">\\n\\t\\t\\t</div>\\n\\t\\t</div></li>\\n\\t\\t<li class=\"gallerybox\" style=\"width: 155px\"><div style=\"width: 155px\">\\n\\t\\t\\t<div class=\"thumb\" style=\"width: 150px;\"><div style=\"margin:44px auto;\"><a href=\"/wiki/File:Bali_Khila_Rajgad_Maharashtra.jpg\" class=\"image\"><img alt=\"\" src=\"//upload.wikimedia.org/wikipedia/commons/thumb/7/73/Bali_Khila_Rajgad_Maharashtra.jpg/120px-Bali_Khila_Rajgad_Maharashtra.jpg\" decoding=\"async\" width=\"120\" height=\"62\" srcset=\"//upload.wikimedia.org/wikipedia/commons/thumb/7/73/Bali_Khila_Rajgad_Maharashtra.jpg/180px-Bali_Khila_Rajgad_Maharashtra.jpg 1.5x, //upload.wikimedia.org/wikipedia/commons/thumb/7/73/Bali_Khila_Rajgad_Maharashtra.jpg/240px-Bali_Khila_Rajgad_Maharashtra.jpg 2x\" data-file-width=\"4746\" data-file-height=\"2471\" /></a></div></div>\\n\\t\\t\\t<div class=\"gallerytext\">\\n<p>Bale Killa, Rajgad\\n</p>\\n\\t\\t\\t</div>\\n\\t\\t</div></li>\\n\\t\\t<li class=\"gallerybox\" style=\"width: 155px\"><div style=\"width: 155px\">\\n\\t\\t\\t<div class=\"thumb\" style=\"width: 150px;\"><div style=\"margin:44px auto;\"><a href=\"/wiki/File:Ballekilla,_Rajgad.jpg\" class=\"image\"><img alt=\"\" src=\"//upload.wikimedia.org/wikipedia/commons/thumb/7/78/Ballekilla%2C_Rajgad.jpg/120px-Ballekilla%2C_Rajgad.jpg\" decoding=\"async\" width=\"120\" height=\"62\" srcset=\"//upload.wikimedia.org/wikipedia/commons/thumb/7/78/Ballekilla%2C_Rajgad.jpg/180px-Ballekilla%2C_Rajgad.jpg 1.5x, //upload.wikimedia.org/wikipedia/commons/thumb/7/78/Ballekilla%2C_Rajgad.jpg/240px-Ballekilla%2C_Rajgad.jpg 2x\" data-file-width=\"4000\" data-file-height=\"2059\" /></a></div></div>\\n\\t\\t\\t<div class=\"gallerytext\">\\n<p>Ballekilla, Rajgad\\n</p>\\n\\t\\t\\t</div>\\n\\t\\t</div></li>\\n\\t\\t<li class=\"gallerybox\" style=\"width: 155px\"><div style=\"width: 155px\">\\n\\t\\t\\t<div class=\"thumb\" style=\"width: 150px;\"><div style=\"margin:15px auto;\"><a href=\"/wiki/File:Sanjivani_Machi-view_from_Rajgad_Mahadwar.jpg\" class=\"image\"><img alt=\"\" src=\"//upload.wikimedia.org/wikipedia/commons/thumb/5/58/Sanjivani_Machi-view_from_Rajgad_Mahadwar.jpg/70px-Sanjivani_Machi-view_from_Rajgad_Mahadwar.jpg\" decoding=\"async\" width=\"70\" height=\"120\" srcset=\"//upload.wikimedia.org/wikipedia/commons/thumb/5/58/Sanjivani_Machi-view_from_Rajgad_Mahadwar.jpg/106px-Sanjivani_Machi-view_from_Rajgad_Mahadwar.jpg 1.5x, //upload.wikimedia.org/wikipedia/commons/thumb/5/58/Sanjivani_Machi-view_from_Rajgad_Mahadwar.jpg/141px-Sanjivani_Machi-view_from_Rajgad_Mahadwar.jpg 2x\" data-file-width=\"3048\" data-file-height=\"5184\" /></a></div></div>\\n\\t\\t\\t<div class=\"gallerytext\">\\n<p>Sanjivani Machi-view from Rajgad Mahadwar\\n</p>\\n\\t\\t\\t</div>\\n\\t\\t</div></li>\\n\\t\\t<li class=\"gallerybox\" style=\"width: 155px\"><div style=\"width: 155px\">\\n\\t\\t\\t<div class=\"thumb\" style=\"width: 150px;\"><div style=\"margin:30px auto;\"><a href=\"/wiki/File:...._Rajgad_16.JPG\" class=\"image\"><img alt=\"\" src=\"//upload.wikimedia.org/wikipedia/commons/thumb/5/56/...._Rajgad_16.JPG/120px-...._Rajgad_16.JPG\" decoding=\"async\" width=\"120\" height=\"90\" srcset=\"//upload.wikimedia.org/wikipedia/commons/thumb/5/56/...._Rajgad_16.JPG/180px-...._Rajgad_16.JPG 1.5x, //upload.wikimedia.org/wikipedia/commons/thumb/5/56/...._Rajgad_16.JPG/240px-...._Rajgad_16.JPG 2x\" data-file-width=\"3648\" data-file-height=\"2736\" /></a></div></div>\\n\\t\\t\\t<div class=\"gallerytext\">\\n<p>Rajgad\\n</p>\\n\\t\\t\\t</div>\\n\\t\\t</div></li>\\n</ul>\\n<p><br />\\n</p>\\n<h2><span class=\"mw-headline\" id=\"See_also\">See also</span><span class=\"mw-editsection\"><span class=\"mw-editsection-bracket\">[</span><a href=\"/w/index.php?title=Rajgad_Fort&amp;action=edit&amp;section=5\" title=\"Edit section: See also\">edit</a><span class=\"mw-editsection-bracket\">]</span></span></h2>\\n<style data-mw-deduplicate=\"TemplateStyles:r936637989\">.mw-parser-output .portal{border:solid #aaa 1px;padding:0}.mw-parser-output .portal.tleft{margin:0.5em 1em 0.5em 0}.mw-parser-output .portal.tright{margin:0.5em 0 0.5em 1em}.mw-parser-output .portal>ul{display:table;box-sizing:border-box;padding:0.1em;max-width:175px;background:#f9f9f9;font-size:85%;line-height:110%;font-style:italic;font-weight:bold}.mw-parser-output .portal>ul>li{display:table-row}.mw-parser-output .portal>ul>li>span:first-child{display:table-cell;padding:0.2em;vertical-align:middle;text-align:center}.mw-parser-output .portal>ul>li>span:last-child{display:table-cell;padding:0.2em 0.2em 0.2em 0.3em;vertical-align:middle}</style><div role=\"navigation\" aria-label=\"Portals\" class=\"noprint portal plainlist tright\">\\n<ul>\\n<li><span><img alt=\"flag\" src=\"//upload.wikimedia.org/wikipedia/en/thumb/4/41/Flag_of_India.svg/32px-Flag_of_India.svg.png\" decoding=\"async\" width=\"32\" height=\"21\" class=\"noviewer thumbborder\" srcset=\"//upload.wikimedia.org/wikipedia/en/thumb/4/41/Flag_of_India.svg/48px-Flag_of_India.svg.png 1.5x, //upload.wikimedia.org/wikipedia/en/thumb/4/41/Flag_of_India.svg/64px-Flag_of_India.svg.png 2x\" data-file-width=\"1350\" data-file-height=\"900\" /></span><span><a href=\"/wiki/Portal:India\" title=\"Portal:India\">India portal</a></span></li></ul></div>\\n<ul><li><a rel=\"nofollow\" class=\"external text\" href=\"https://www.newblogger.in/2020/04/Rajgad-fort-information-in-hindi.html\">Rajgad fort full information in hindi</a></li>\\n<li><a href=\"/wiki/List_of_forts_in_Maharashtra\" title=\"List of forts in Maharashtra\">List of forts in Maharashtra</a></li></ul>\\n<div style=\"clear:both;\"></div>\\n<h2><span class=\"mw-headline\" id=\"References\">References</span><span class=\"mw-editsection\"><span class=\"mw-editsection-bracket\">[</span><a href=\"/w/index.php?title=Rajgad_Fort&amp;action=edit&amp;section=6\" title=\"Edit section: References\">edit</a><span class=\"mw-editsection-bracket\">]</span></span></h2>\\n<style data-mw-deduplicate=\"TemplateStyles:r1011085734\">.mw-parser-output .reflist{font-size:90%;margin-bottom:0.5em;list-style-type:decimal}.mw-parser-output .reflist .references{font-size:100%;margin-bottom:0;list-style-type:inherit}.mw-parser-output .reflist-columns-2{column-width:30em}.mw-parser-output .reflist-columns-3{column-width:25em}.mw-parser-output .reflist-columns{margin-top:0.3em}.mw-parser-output .reflist-columns ol{margin-top:0}.mw-parser-output .reflist-columns li{page-break-inside:avoid;break-inside:avoid-column}.mw-parser-output .reflist-upper-alpha{list-style-type:upper-alpha}.mw-parser-output .reflist-upper-roman{list-style-type:upper-roman}.mw-parser-output .reflist-lower-alpha{list-style-type:lower-alpha}.mw-parser-output .reflist-lower-greek{list-style-type:lower-greek}.mw-parser-output .reflist-lower-roman{list-style-type:lower-roman}</style><div class=\"reflist\">\\n<div class=\"mw-references-wrap\"><ol class=\"references\">\\n<li id=\"cite_note-Kulkarni2008-1\"><span class=\"mw-cite-backlink\">^ <a href=\"#cite_ref-Kulkarni2008_1-0\"><sup><i><b>a</b></i></sup></a> <a href=\"#cite_ref-Kulkarni2008_1-1\"><sup><i><b>b</b></i></sup></a></span> <span class=\"reference-text\"><style data-mw-deduplicate=\"TemplateStyles:r999302996\">.mw-parser-output cite.citation{font-style:inherit}.mw-parser-output .citation q{quotes:\"\\\\\"\"\"\\\\\"\"\"\\'\"\"\\'\"}.mw-parser-output .id-lock-free a,.mw-parser-output .citation .cs1-lock-free a{background:linear-gradient(transparent,transparent),url(\"//upload.wikimedia.org/wikipedia/commons/6/65/Lock-green.svg\")right 0.1em center/9px no-repeat}.mw-parser-output .id-lock-limited a,.mw-parser-output .id-lock-registration a,.mw-parser-output .citation .cs1-lock-limited a,.mw-parser-output .citation .cs1-lock-registration a{background:linear-gradient(transparent,transparent),url(\"//upload.wikimedia.org/wikipedia/commons/d/d6/Lock-gray-alt-2.svg\")right 0.1em center/9px no-repeat}.mw-parser-output .id-lock-subscription a,.mw-parser-output .citation .cs1-lock-subscription a{background:linear-gradient(transparent,transparent),url(\"//upload.wikimedia.org/wikipedia/commons/a/aa/Lock-red-alt-2.svg\")right 0.1em center/9px no-repeat}.mw-parser-output .cs1-subscription,.mw-parser-output .cs1-registration{color:#555}.mw-parser-output .cs1-subscription span,.mw-parser-output .cs1-registration span{border-bottom:1px dotted;cursor:help}.mw-parser-output .cs1-ws-icon a{background:linear-gradient(transparent,transparent),url(\"//upload.wikimedia.org/wikipedia/commons/4/4c/Wikisource-logo.svg\")right 0.1em center/12px no-repeat}.mw-parser-output code.cs1-code{color:inherit;background:inherit;border:none;padding:inherit}.mw-parser-output .cs1-hidden-error{display:none;font-size:100%}.mw-parser-output .cs1-visible-error{font-size:100%}.mw-parser-output .cs1-maint{display:none;color:#33aa33;margin-left:0.3em}.mw-parser-output .cs1-format{font-size:95%}.mw-parser-output .cs1-kern-left,.mw-parser-output .cs1-kern-wl-left{padding-left:0.2em}.mw-parser-output .cs1-kern-right,.mw-parser-output .cs1-kern-wl-right{padding-right:0.2em}.mw-parser-output .citation .mw-selflink{font-weight:inherit}</style><cite id=\"CITEREFProf._A._R._Kulkarni2008\" class=\"citation book cs1\">Prof. A. R. Kulkarni (1 July 2008). \"Rajgad: The first capital of Chatrapati Shivaji Maharaj\". <a rel=\"nofollow\" class=\"external text\" href=\"https://books.google.com/books?id=OY5LDwAAQBAJ\"><i>Medieval Maratha Country</i></a>. Diamond Publications. <a href=\"/wiki/ISBN_(identifier)\" class=\"mw-redirect\" title=\"ISBN (identifier)\">ISBN</a>&#160;<a href=\"/wiki/Special:BookSources/978-81-8483-072-9\" title=\"Special:BookSources/978-81-8483-072-9\"><bdi>978-81-8483-072-9</bdi></a>.</cite><span title=\"ctx_ver=Z39.88-2004&amp;rft_val_fmt=info%3Aofi%2Ffmt%3Akev%3Amtx%3Abook&amp;rft.genre=bookitem&amp;rft.atitle=Rajgad%3A+The+first+capital+of+Chatrapati+Shivaji+Maharaj&amp;rft.btitle=Medieval+Maratha+Country&amp;rft.pub=Diamond+Publications&amp;rft.date=2008-07-01&amp;rft.isbn=978-81-8483-072-9&amp;rft.au=Prof.+A.+R.+Kulkarni&amp;rft_id=https%3A%2F%2Fbooks.google.com%2Fbooks%3Fid%3DOY5LDwAAQBAJ&amp;rfr_id=info%3Asid%2Fen.wikipedia.org%3ARajgad+Fort\" class=\"Z3988\"></span></span>\\n</li>\\n<li id=\"cite_note-2\"><span class=\"mw-cite-backlink\"><b><a href=\"#cite_ref-2\">^</a></b></span> <span class=\"reference-text\"><link rel=\"mw-deduplicated-inline-style\" href=\"mw-data:TemplateStyles:r999302996\"/><cite class=\"citation web cs1\"><a rel=\"nofollow\" class=\"external text\" href=\"http://www.travelomy.com/rajgarh-fort/\">\"Rajgarh Fort History\"</a>. Travelomy<span class=\"reference-accessdate\">. Retrieved <span class=\"nowrap\">8 February</span> 2012</span>.</cite><span title=\"ctx_ver=Z39.88-2004&amp;rft_val_fmt=info%3Aofi%2Ffmt%3Akev%3Amtx%3Abook&amp;rft.genre=unknown&amp;rft.btitle=Rajgarh+Fort+History&amp;rft.pub=Travelomy&amp;rft_id=http%3A%2F%2Fwww.travelomy.com%2Frajgarh-fort%2F&amp;rfr_id=info%3Asid%2Fen.wikipedia.org%3ARajgad+Fort\" class=\"Z3988\"></span></span>\\n</li>\\n</ol></div></div>\\n<div style=\"clear:both;\"></div>\\n<h2><span class=\"mw-headline\" id=\"External_links\">External links</span><span class=\"mw-editsection\"><span class=\"mw-editsection-bracket\">[</span><a href=\"/w/index.php?title=Rajgad_Fort&amp;action=edit&amp;section=7\" title=\"Edit section: External links\">edit</a><span class=\"mw-editsection-bracket\">]</span></span></h2>\\n<table role=\"presentation\" class=\"mbox-small plainlinks sistersitebox\" style=\"background-color:#f9f9f9;border:1px solid #aaa;color:#000\">\\n<tbody><tr>\\n<td class=\"mbox-image\"><img alt=\"\" src=\"//upload.wikimedia.org/wikipedia/en/thumb/4/4a/Commons-logo.svg/30px-Commons-logo.svg.png\" decoding=\"async\" width=\"30\" height=\"40\" class=\"noviewer\" srcset=\"//upload.wikimedia.org/wikipedia/en/thumb/4/4a/Commons-logo.svg/45px-Commons-logo.svg.png 1.5x, //upload.wikimedia.org/wikipedia/en/thumb/4/4a/Commons-logo.svg/59px-Commons-logo.svg.png 2x\" data-file-width=\"1024\" data-file-height=\"1376\" /></td>\\n<td class=\"mbox-text plainlist\">Wikimedia Commons has media related to <span style=\"font-weight: bold; font-style: italic;\"><a href=\"https://commons.wikimedia.org/wiki/Category:Rajgad_Fort\" class=\"extiw\" title=\"commons:Category:Rajgad Fort\">Rajgad Fort</a></span>.</td></tr>\\n</tbody></table>\\n<ul><li><a rel=\"nofollow\" class=\"external text\" href=\"http://www.amazingmaharashtra.com/2012/12/rajgad.html\">Amazing Maharashtra</a></li>\\n<li><a rel=\"nofollow\" class=\"external text\" href=\"http://www.punetrekkers.com/rajgad-fort\">Pune Trekkers</a></li></ul>\\n<div role=\"navigation\" class=\"navbox\" aria-labelledby=\"Forts_in_Maharashtra\" style=\"padding:3px\"><table class=\"nowraplinks mw-collapsible mw-collapsed navbox-inner\" style=\"border-spacing:0;background:transparent;color:inherit\"><tbody><tr><th scope=\"col\" class=\"navbox-title\" colspan=\"2\"><style data-mw-deduplicate=\"TemplateStyles:r992953826\">.mw-parser-output .navbar{display:inline;font-size:88%;font-weight:normal}.mw-parser-output .navbar-collapse{float:left;text-align:left}.mw-parser-output .navbar-boxtext{word-spacing:0}.mw-parser-output .navbar ul{display:inline-block;white-space:nowrap;line-height:inherit}.mw-parser-output .navbar-brackets::before{margin-right:-0.125em;content:\"[ \"}.mw-parser-output .navbar-brackets::after{margin-left:-0.125em;content:\" ]\"}.mw-parser-output .navbar li{word-spacing:-0.125em}.mw-parser-output .navbar-mini abbr{font-variant:small-caps;border-bottom:none;text-decoration:none;cursor:inherit}.mw-parser-output .navbar-ct-full{font-size:114%;margin:0 7em}.mw-parser-output .navbar-ct-mini{font-size:114%;margin:0 4em}.mw-parser-output .infobox .navbar{font-size:100%}.mw-parser-output .navbox .navbar{display:block;font-size:100%}.mw-parser-output .navbox-title .navbar{float:left;text-align:left;margin-right:0.5em}</style><div class=\"navbar plainlinks hlist navbar-mini\"><ul><li class=\"nv-view\"><a href=\"/wiki/Template:Forts_in_Maharashtra\" title=\"Template:Forts in Maharashtra\"><abbr title=\"View this template\" style=\";;background:none transparent;border:none;box-shadow:none;padding:0;\">v</abbr></a></li><li class=\"nv-talk\"><a href=\"/wiki/Template_talk:Forts_in_Maharashtra\" title=\"Template talk:Forts in Maharashtra\"><abbr title=\"Discuss this template\" style=\";;background:none transparent;border:none;box-shadow:none;padding:0;\">t</abbr></a></li><li class=\"nv-edit\"><a class=\"external text\" href=\"https://en.wikipedia.org/w/index.php?title=Template:Forts_in_Maharashtra&amp;action=edit\"><abbr title=\"Edit this template\" style=\";;background:none transparent;border:none;box-shadow:none;padding:0;\">e</abbr></a></li></ul></div><div id=\"Forts_in_Maharashtra\" style=\"font-size:114%;margin:0 4em\"><a href=\"/wiki/List_of_forts_in_Maharashtra\" title=\"List of forts in Maharashtra\">Forts in</a> <a href=\"/wiki/Maharashtra\" title=\"Maharashtra\">Maharashtra</a></div></th></tr><tr><th scope=\"row\" class=\"navbox-group\" style=\"width:1%\"><a href=\"/wiki/Ahmednagar_district\" title=\"Ahmednagar district\">Ahmednagar district</a></th><td class=\"navbox-list navbox-odd hlist\" style=\"text-align:left;border-left-width:2px;border-left-style:solid;width:100%;padding:0px\"><div style=\"padding:0em 0.25em\">\\n<ul><li><a href=\"/wiki/Ahmednagar_Fort\" title=\"Ahmednagar Fort\">Ahmednagar Fort</a></li>\\n<li><a href=\"/wiki/Bahadurgad\" class=\"mw-redirect\" title=\"Bahadurgad\">Bahadurgad</a></li>\\n<li><a href=\"/wiki/Bhairavgad_(fort)\" title=\"Bhairavgad (fort)\">Bhairavgad</a></li>\\n<li><a href=\"/wiki/Bitangad\" title=\"Bitangad\">Bitangad</a></li>\\n<li><a href=\"/wiki/Harishchandragad\" title=\"Harishchandragad\">Harishchandragad</a></li>\\n<li><a href=\"/w/index.php?title=Kaladgad&amp;action=edit&amp;redlink=1\" class=\"new\" title=\"Kaladgad (page does not exist)\">Kaladgad</a></li>\\n<li><a href=\"/wiki/Kharda\" title=\"Kharda\">Kharda</a></li>\\n<li><a href=\"/wiki/Kunjargad\" title=\"Kunjargad\">Kunjargad</a></li>\\n<li><a href=\"/w/index.php?title=Madan_Fort&amp;action=edit&amp;redlink=1\" class=\"new\" title=\"Madan Fort (page does not exist)\">Madan Fort</a></li>\\n<li><a href=\"/w/index.php?title=Manjarsumbha_fort&amp;action=edit&amp;redlink=1\" class=\"new\" title=\"Manjarsumbha fort (page does not exist)\">Manjarsumbha fort</a></li>\\n<li><a href=\"/wiki/Pabargad\" title=\"Pabargad\">Pabargad</a></li>\\n<li><a href=\"/wiki/Patta_Fort\" title=\"Patta Fort\">Patta Fort</a></li>\\n<li><a href=\"/wiki/Ratangad\" title=\"Ratangad\">Ratangad</a></li></ul>\\n</div></td></tr><tr><th scope=\"row\" class=\"navbox-group\" style=\"width:1%\"><a href=\"/wiki/Akola_district\" title=\"Akola district\">Akola district</a></th><td class=\"navbox-list navbox-even hlist\" style=\"text-align:left;border-left-width:2px;border-left-style:solid;width:100%;padding:0px\"><div style=\"padding:0em 0.25em\">\\n<ul><li><a href=\"/wiki/Akola_Fort\" title=\"Akola Fort\">Akola Fort</a></li>\\n<li><a href=\"/wiki/Balapur_Fort\" title=\"Balapur Fort\">Balapur</a></li>\\n<li><a href=\"/wiki/Narnala\" title=\"Narnala\">Narnala</a></li></ul>\\n</div></td></tr><tr><th scope=\"row\" class=\"navbox-group\" style=\"width:1%\"><a href=\"/wiki/Amravati_district\" title=\"Amravati district\">Amravati district</a></th><td class=\"navbox-list navbox-odd hlist\" style=\"text-align:left;border-left-width:2px;border-left-style:solid;width:100%;padding:0px\"><div style=\"padding:0em 0.25em\">\\n<ul><li><a href=\"/w/index.php?title=Amner_Fort&amp;action=edit&amp;redlink=1\" class=\"new\" title=\"Amner Fort (page does not exist)\">Amner Fort</a></li>\\n<li><a href=\"/wiki/Gawilghur\" title=\"Gawilghur\">Gawilghur</a></li></ul>\\n</div></td></tr><tr><th scope=\"row\" class=\"navbox-group\" style=\"width:1%\"><a href=\"/wiki/Aurangabad_district,_Maharashtra\" title=\"Aurangabad district, Maharashtra\">Aurangabad district</a></th><td class=\"navbox-list navbox-even hlist\" style=\"text-align:left;border-left-width:2px;border-left-style:solid;width:100%;padding:0px\"><div style=\"padding:0em 0.25em\">\\n<ul><li><a href=\"/wiki/Antur_Fort\" title=\"Antur Fort\">Antur Fort</a></li>\\n<li><a href=\"/wiki/Daulatabad_Fort\" title=\"Daulatabad Fort\">Daulatabad Fort</a></li></ul>\\n</div></td></tr><tr><th scope=\"row\" class=\"navbox-group\" style=\"width:1%\"><a href=\"/wiki/Chandrapur_district\" title=\"Chandrapur district\">Chandrapur district</a></th><td class=\"navbox-list navbox-odd hlist\" style=\"text-align:left;border-left-width:2px;border-left-style:solid;width:100%;padding:0px\"><div style=\"padding:0em 0.25em\">\\n<ul><li><a href=\"/w/index.php?title=Chandrapur_Fort&amp;action=edit&amp;redlink=1\" class=\"new\" title=\"Chandrapur Fort (page does not exist)\">Chandrapur Fort</a></li>\\n<li><a href=\"/wiki/Ballarpur_Fort\" title=\"Ballarpur Fort\">Ballarpur Fort</a></li>\\n<li><a href=\"/w/index.php?title=Bhadravati_Fort&amp;action=edit&amp;redlink=1\" class=\"new\" title=\"Bhadravati Fort (page does not exist)\">Bhadravati Fort</a></li>\\n<li><a href=\"/wiki/Manikgad\" title=\"Manikgad\">Manikgad</a></li></ul>\\n</div></td></tr><tr><th scope=\"row\" class=\"navbox-group\" style=\"width:1%\"><a href=\"/wiki/Dhule_district\" title=\"Dhule district\">Dhule district</a></th><td class=\"navbox-list navbox-even hlist\" style=\"text-align:left;border-left-width:2px;border-left-style:solid;width:100%;padding:0px\"><div style=\"padding:0em 0.25em\">\\n<ul><li><a href=\"/wiki/Bhamer_Dhule\" title=\"Bhamer Dhule\">Bhamer</a></li>\\n<li><a href=\"/wiki/Laling_fort\" title=\"Laling fort\">Laling</a></li>\\n<li><a href=\"/wiki/Thalner\" title=\"Thalner\">Thalner</a></li></ul>\\n</div></td></tr><tr><th scope=\"row\" class=\"navbox-group\" style=\"width:1%\"><a href=\"/wiki/Kolhapur_district\" title=\"Kolhapur district\">Kolhapur district</a></th><td class=\"navbox-list navbox-odd hlist\" style=\"text-align:left;border-left-width:2px;border-left-style:solid;width:100%;padding:0px\"><div style=\"padding:0em 0.25em\">\\n<ul><li><a href=\"/wiki/Bhudargad\" title=\"Bhudargad\">Bhudargad</a></li>\\n<li><a href=\"/w/index.php?title=Gandharvgad&amp;action=edit&amp;redlink=1\" class=\"new\" title=\"Gandharvgad (page does not exist)\">Gandharvgad</a></li>\\n<li><a href=\"/wiki/Panhala_Fort\" title=\"Panhala Fort\">Panhala</a></li>\\n<li><a href=\"/wiki/Pargadh\" class=\"mw-redirect\" title=\"Pargadh\">Pargadh</a></li>\\n<li><a href=\"/wiki/Pavangad\" title=\"Pavangad\">Pavangad</a></li>\\n<li><a href=\"/wiki/Samangad\" title=\"Samangad\">Samangad</a></li>\\n<li><a href=\"/wiki/Vishalgad\" title=\"Vishalgad\">Vishalgad</a></li></ul>\\n</div></td></tr><tr><th scope=\"row\" class=\"navbox-group\" style=\"width:1%\"><a href=\"/wiki/Latur_district\" title=\"Latur district\">Latur district</a></th><td class=\"navbox-list navbox-even hlist\" style=\"text-align:left;border-left-width:2px;border-left-style:solid;width:100%;padding:0px\"><div style=\"padding:0em 0.25em\">\\n<ul><li><a href=\"/wiki/Udgir_Fort\" title=\"Udgir Fort\">Udgir</a></li></ul>\\n</div></td></tr><tr><th scope=\"row\" class=\"navbox-group\" style=\"width:1%\"><a href=\"/wiki/Mumbai_City_district\" title=\"Mumbai City district\">Mumbai City district</a></th><td class=\"navbox-list navbox-odd hlist\" style=\"text-align:left;border-left-width:2px;border-left-style:solid;width:100%;padding:0px\"><div style=\"padding:0em 0.25em\">\\n<ul><li><a href=\"/wiki/Bombay_Castle\" title=\"Bombay Castle\">Bombay Castle</a></li>\\n<li><a href=\"/wiki/Dongri_Fort\" title=\"Dongri Fort\">Dongri Fort</a></li>\\n<li><a href=\"/wiki/Fort_George,_Bombay\" title=\"Fort George, Bombay\">Fort George</a></li>\\n<li><a href=\"/wiki/Mahim_Fort\" title=\"Mahim Fort\">Mahim Fort</a></li>\\n<li><a href=\"/wiki/Mazagon_Fort\" title=\"Mazagon Fort\">Mazagon Fort</a></li>\\n<li><a href=\"/wiki/Riwa_Fort\" title=\"Riwa Fort\">Riwa Fort</a></li>\\n<li><a href=\"/wiki/Sewri_Fort\" title=\"Sewri Fort\">Sewri Fort</a></li>\\n<li><a href=\"/wiki/Sion_Hillock_Fort\" title=\"Sion Hillock Fort\">Sion Hillock Fort</a></li>\\n<li><a href=\"/wiki/Worli_Fort\" title=\"Worli Fort\">Worli Fort</a></li></ul>\\n</div></td></tr><tr><th scope=\"row\" class=\"navbox-group\" style=\"width:1%\"><a href=\"/wiki/Mumbai_Suburban_district\" title=\"Mumbai Suburban district\">Mumbai Suburban district</a></th><td class=\"navbox-list navbox-even hlist\" style=\"text-align:left;border-left-width:2px;border-left-style:solid;width:100%;padding:0px\"><div style=\"padding:0em 0.25em\">\\n<ul><li><a href=\"/wiki/Castella_de_Aguada\" title=\"Castella de Aguada\">Castella de Aguada</a></li>\\n<li><a href=\"/wiki/Madh_Fort\" class=\"mw-redirect\" title=\"Madh Fort\">Madh</a></li></ul>\\n</div></td></tr><tr><th scope=\"row\" class=\"navbox-group\" style=\"width:1%\"><a href=\"/wiki/Nagpur_district\" title=\"Nagpur district\">Nagpur district</a></th><td class=\"navbox-list navbox-odd hlist\" style=\"text-align:left;border-left-width:2px;border-left-style:solid;width:100%;padding:0px\"><div style=\"padding:0em 0.25em\">\\n<ul><li><a href=\"/wiki/Sitabuldi\" class=\"mw-redirect\" title=\"Sitabuldi\">Sitabuldi</a></li></ul>\\n</div></td></tr><tr><th scope=\"row\" class=\"navbox-group\" style=\"width:1%\"><a href=\"/wiki/Nanded_district\" title=\"Nanded district\">Nanded district</a></th><td class=\"navbox-list navbox-even hlist\" style=\"text-align:left;border-left-width:2px;border-left-style:solid;width:100%;padding:0px\"><div style=\"padding:0em 0.25em\">\\n<ul><li><a href=\"/wiki/Kandhar_Fort\" title=\"Kandhar Fort\">Kandhar Fort</a></li></ul>\\n</div></td></tr><tr><th scope=\"row\" class=\"navbox-group\" style=\"width:1%\"><a href=\"/wiki/Nashik_district\" title=\"Nashik district\">Nashik district</a></th><td class=\"navbox-list navbox-odd hlist\" style=\"text-align:left;border-left-width:2px;border-left-style:solid;width:100%;padding:0px\"><div style=\"padding:0em 0.25em\">\\n<ul><li><a href=\"/w/index.php?title=Aavandhagad&amp;action=edit&amp;redlink=1\" class=\"new\" title=\"Aavandhagad (page does not exist)\">Aavandhagad</a></li>\\n<li><a href=\"/wiki/Achala_Fort\" title=\"Achala Fort\">Achala Fort</a></li>\\n<li><a href=\"/wiki/Ahivant_Fort\" title=\"Ahivant Fort\">Ahivant Fort</a></li>\\n<li><a href=\"/wiki/Alang_Fort\" title=\"Alang Fort\">Alang</a></li>\\n<li><a href=\"/wiki/Anjaneri\" title=\"Anjaneri\">Anjaneri</a></li>\\n<li><a href=\"/wiki/Ankai_Fort\" title=\"Ankai Fort\">Ankai Fort</a></li>\\n<li><a href=\"/w/index.php?title=Bahulagad&amp;action=edit&amp;redlink=1\" class=\"new\" title=\"Bahulagad (page does not exist)\">Bahulagad</a></li>\\n<li><a href=\"/wiki/Bhaskargad\" title=\"Bhaskargad\">Bhaskargad</a></li>\\n<li><a href=\"/wiki/Chandwad\" title=\"Chandwad\">Chandwad</a></li>\\n<li><a href=\"/wiki/Chauler_Fort\" title=\"Chauler Fort\">Chauler Fort</a></li>\\n<li><a href=\"/wiki/Dermal\" class=\"mw-redirect\" title=\"Dermal\">Dermal</a></li>\\n<li><a href=\"/wiki/Dhodap\" title=\"Dhodap\">Dhodap</a></li>\\n<li><a href=\"/wiki/Hargad\" title=\"Hargad\">Hargad</a></li>\\n<li><a href=\"/wiki/Harihar_fort\" title=\"Harihar fort\">Harihar fort</a></li>\\n<li><a href=\"/wiki/Hatgadh_Fort\" title=\"Hatgadh Fort\">Hatgad</a></li>\\n<li><a href=\"/wiki/Indrai_fort\" title=\"Indrai fort\">Indrai</a></li>\\n<li><a href=\"/w/index.php?title=Kanchangad&amp;action=edit&amp;redlink=1\" class=\"new\" title=\"Kanchangad (page does not exist)\">Kanchangad</a></li>\\n<li><a href=\"/w/index.php?title=Kanhergad&amp;action=edit&amp;redlink=1\" class=\"new\" title=\"Kanhergad (page does not exist)\">Kanhergad</a></li>\\n<li><a href=\"/wiki/Kavnai_fort\" title=\"Kavnai fort\">Kavnai fort</a></li>\\n<li><a href=\"/wiki/Kulang_Fort\" title=\"Kulang Fort\">Kulang</a></li>\\n<li><a href=\"/wiki/Madangad_Fort\" title=\"Madangad Fort\">Madangad</a></li>\\n<li><a href=\"/wiki/Malegaon_fort\" title=\"Malegaon fort\"> Malegaon</a></li>\\n<li><a href=\"/wiki/Mangi-Tungi\" title=\"Mangi-Tungi\">Mangi-Tungi</a></li>\\n<li><a href=\"/w/index.php?title=Moragad&amp;action=edit&amp;redlink=1\" class=\"new\" title=\"Moragad (page does not exist)\">Moragad</a></li>\\n<li><a href=\"/wiki/Mulher\" title=\"Mulher\">Mulher</a></li>\\n<li><a href=\"/wiki/Nhavigad\" title=\"Nhavigad\">Nhavigad</a></li>\\n<li><a href=\"/wiki/Rajdher_fort\" title=\"Rajdher fort\">Rajdher fort</a></li>\\n<li><a href=\"/wiki/Ramsej\" title=\"Ramsej\">Ramsej</a></li>\\n<li><a href=\"/wiki/Salher\" title=\"Salher\">Salher</a></li>\\n<li><a href=\"/wiki/Salota_fort\" title=\"Salota fort\">Salota</a></li>\\n<li><a href=\"/wiki/Saptashrungi\" title=\"Saptashrungi\">Saptashrungi</a></li>\\n<li><a href=\"/wiki/Tankai_fort\" title=\"Tankai fort\">Tankai fort</a></li>\\n<li><a href=\"/wiki/Tringalwadi\" title=\"Tringalwadi\">Tringalwadi</a></li>\\n<li><a href=\"/w/index.php?title=Waghera&amp;action=edit&amp;redlink=1\" class=\"new\" title=\"Waghera (page does not exist)\">Waghera</a></li></ul>\\n</div></td></tr><tr><th scope=\"row\" class=\"navbox-group\" style=\"width:1%\"><a href=\"/wiki/Osmanabad_district\" title=\"Osmanabad district\">Osmanabad district</a></th><td class=\"navbox-list navbox-even hlist\" style=\"text-align:left;border-left-width:2px;border-left-style:solid;width:100%;padding:0px\"><div style=\"padding:0em 0.25em\">\\n<ul><li><a href=\"/wiki/Naldurg_Fort\" title=\"Naldurg Fort\">Naldurg Fort</a></li>\\n<li><a href=\"/wiki/Paranda_Fort\" title=\"Paranda Fort\">Paranda Fort</a></li></ul>\\n</div></td></tr><tr><th scope=\"row\" class=\"navbox-group\" style=\"width:1%\"><a href=\"/wiki/Palghar_district\" title=\"Palghar district\">Palghar district</a></th><td class=\"navbox-list navbox-odd hlist\" style=\"text-align:left;border-left-width:2px;border-left-style:solid;width:100%;padding:0px\"><div style=\"padding:0em 0.25em\">\\n<ul><li><a href=\"/wiki/Fort_Bassein\" title=\"Fort Bassein\">Bassein</a></li>\\n<li><a href=\"/wiki/Tandulwadi_Fort\" title=\"Tandulwadi Fort\">Tandulwadi</a></li></ul>\\n</div></td></tr><tr><th scope=\"row\" class=\"navbox-group\" style=\"width:1%\"><a href=\"/wiki/Pune_district\" title=\"Pune district\">Pune district</a></th><td class=\"navbox-list navbox-even hlist\" style=\"text-align:left;border-left-width:2px;border-left-style:solid;width:100%;padding:0px\"><div style=\"padding:0em 0.25em\">\\n<ul><li><a href=\"/w/index.php?title=Anghaai_Fort&amp;action=edit&amp;redlink=1\" class=\"new\" title=\"Anghaai Fort (page does not exist)\">Anghaai Fort</a></li>\\n<li><a href=\"/w/index.php?title=Bhorgiri_Fort&amp;action=edit&amp;redlink=1\" class=\"new\" title=\"Bhorgiri Fort (page does not exist)\">Bhorgiri Fort</a></li>\\n<li><a href=\"/wiki/Chavand,_Maharashtra\" title=\"Chavand, Maharashtra\">Chawand</a></li>\\n<li><a href=\"/w/index.php?title=Dhakoba&amp;action=edit&amp;redlink=1\" class=\"new\" title=\"Dhakoba (page does not exist)\">Dhakoba</a></li>\\n<li><a href=\"/wiki/Ghangad\" title=\"Ghangad\">Ghangad</a></li>\\n<li><a href=\"/w/index.php?title=Hadsar_Fort&amp;action=edit&amp;redlink=1\" class=\"new\" title=\"Hadsar Fort (page does not exist)\">Hadsar Fort</a></li>\\n<li><a href=\"/w/index.php?title=Induri_Fort&amp;action=edit&amp;redlink=1\" class=\"new\" title=\"Induri Fort (page does not exist)\">Induri Fort</a></li>\\n<li><a href=\"/wiki/Jivdhan\" title=\"Jivdhan\">Jivdhan</a></li>\\n<li><a href=\"/w/index.php?title=Kailasgad&amp;action=edit&amp;redlink=1\" class=\"new\" title=\"Kailasgad (page does not exist)\">Kailasgad</a></li>\\n<li><a href=\"/w/index.php?title=Kawla&amp;action=edit&amp;redlink=1\" class=\"new\" title=\"Kawla (page does not exist)\">Kawla</a></li>\\n<li><a href=\"/wiki/Korigad\" title=\"Korigad\">Korigad</a>/<a href=\"/wiki/Koraigad\" class=\"mw-redirect\" title=\"Koraigad\">Koraigad</a></li>\\n<li><a href=\"/wiki/Lohagad\" title=\"Lohagad\">Lohagad</a></li>\\n<li><a href=\"/wiki/Malhargad\" title=\"Malhargad\">Malhargad</a></li>\\n<li><a href=\"/wiki/Manaranjan_Fort\" title=\"Manaranjan Fort\">Manaranjan</a></li>\\n<li><a href=\"/wiki/Mangalgad\" title=\"Mangalgad\">Mangalgad</a></li>\\n<li><a href=\"/w/index.php?title=Morgiri_Fort&amp;action=edit&amp;redlink=1\" class=\"new\" title=\"Morgiri Fort (page does not exist)\">Morgiri Fort</a></li>\\n<li><a href=\"/wiki/Narayangad\" title=\"Narayangad\">Narayangad</a></li>\\n<li><a href=\"/w/index.php?title=Nimgiri&amp;action=edit&amp;redlink=1\" class=\"new\" title=\"Nimgiri (page does not exist)\">Nimgiri</a></li>\\n<li><a href=\"/wiki/Purandar_fort\" class=\"mw-redirect\" title=\"Purandar fort\">Purandar</a></li>\\n<li><a href=\"/wiki/Rajgad\" class=\"mw-redirect\" title=\"Rajgad\">Rajgad</a></li>\\n<li><a href=\"/wiki/Rajmachi\" title=\"Rajmachi\">Rajmachi</a></li>\\n<li><a href=\"/w/index.php?title=Rayri_Fort&amp;action=edit&amp;redlink=1\" class=\"new\" title=\"Rayri Fort (page does not exist)\">Rayri Fort</a></li>\\n<li><a href=\"/wiki/Rohida_fort\" title=\"Rohida fort\">Rohida</a></li>\\n<li><a href=\"/wiki/Sangram_Durg\" title=\"Sangram Durg\">Sangram Durg</a></li>\\n<li><a href=\"/w/index.php?title=Sindola_Fort&amp;action=edit&amp;redlink=1\" class=\"new\" title=\"Sindola Fort (page does not exist)\">Sindola Fort</a></li>\\n<li><a href=\"/wiki/Shaniwar_Wada\" title=\"Shaniwar Wada\">Shaniwar Wada</a></li>\\n<li><a href=\"/wiki/Shivneri\" title=\"Shivneri\">Shivneri</a></li>\\n<li><a href=\"/wiki/Shrivardhan_Fort\" title=\"Shrivardhan Fort\">Shrivardhan</a></li>\\n<li><a href=\"/wiki/Sinhagad\" title=\"Sinhagad\">Sinhagad</a></li>\\n<li><a href=\"/wiki/Tikona\" title=\"Tikona\">Tikona</a></li>\\n<li><a href=\"/wiki/Torna_Fort\" title=\"Torna Fort\">Torna</a></li>\\n<li><a href=\"/wiki/Tung_Fort\" title=\"Tung Fort\">Tung</a></li>\\n<li><a href=\"/w/index.php?title=Vajragad_Fort&amp;action=edit&amp;redlink=1\" class=\"new\" title=\"Vajragad Fort (page does not exist)\">Vajragad Fort</a></li>\\n<li><a href=\"/wiki/Visapur_Fort\" title=\"Visapur Fort\">Visapur</a></li></ul>\\n</div></td></tr><tr><th scope=\"row\" class=\"navbox-group\" style=\"width:1%\"><a href=\"/wiki/Raigad_district\" title=\"Raigad district\">Raigad district</a></th><td class=\"navbox-list navbox-odd hlist\" style=\"text-align:left;border-left-width:2px;border-left-style:solid;width:100%;padding:0px\"><div style=\"padding:0em 0.25em\">\\n<ul><li><a href=\"/w/index.php?title=Agarkot&amp;action=edit&amp;redlink=1\" class=\"new\" title=\"Agarkot (page does not exist)\">Agarkot</a></li>\\n<li><a href=\"/wiki/Avchitgad\" title=\"Avchitgad\">Avchitgad</a></li>\\n<li><a href=\"/w/index.php?title=Bhimashankar_Fort&amp;action=edit&amp;redlink=1\" class=\"new\" title=\"Bhimashankar Fort (page does not exist)\">Bhimashankar Fort</a></li>\\n<li><a href=\"/w/index.php?title=Bhiwgad&amp;action=edit&amp;redlink=1\" class=\"new\" title=\"Bhiwgad (page does not exist)\">Bhiwgad</a></li>\\n<li><a href=\"/wiki/Birwadi\" title=\"Birwadi\">Birwadi</a></li>\\n<li><a href=\"/w/index.php?title=Chambhargad&amp;action=edit&amp;redlink=1\" class=\"new\" title=\"Chambhargad (page does not exist)\">Chambhargad</a></li>\\n<li><a href=\"/wiki/Chandragad\" title=\"Chandragad\">Chandragad</a></li>\\n<li><a href=\"/wiki/Dhak_Bahiri\" title=\"Dhak Bahiri\">Dhak Bahiri</a></li>\\n<li><a href=\"/wiki/Dronagiri\" title=\"Dronagiri\">Dronagiri</a></li>\\n<li><a href=\"/w/index.php?title=Gadad_Bahiri&amp;action=edit&amp;redlink=1\" class=\"new\" title=\"Gadad Bahiri (page does not exist)\">Gadad Bahiri</a></li>\\n<li><a href=\"/wiki/Ghangad\" title=\"Ghangad\">Ghangad</a></li>\\n<li><a href=\"/w/index.php?title=Ghosalgad&amp;action=edit&amp;redlink=1\" class=\"new\" title=\"Ghosalgad (page does not exist)\">Ghosalgad</a></li>\\n<li><a href=\"/wiki/Irshalgad\" title=\"Irshalgad\">Irshalgad</a></li>\\n<li><a href=\"/wiki/Karnala_fort\" class=\"mw-redirect\" title=\"Karnala fort\">Karnala</a></li>\\n<li><a href=\"/w/index.php?title=Khaderi&amp;action=edit&amp;redlink=1\" class=\"new\" title=\"Khaderi (page does not exist)\">Khaderi</a></li>\\n<li><a href=\"/wiki/Khanderi\" title=\"Khanderi\">Khanderi</a></li>\\n<li><a href=\"/w/index.php?title=Kondhawi_Fort&amp;action=edit&amp;redlink=1\" class=\"new\" title=\"Kondhawi Fort (page does not exist)\">Kondhawi Fort</a></li>\\n<li><a href=\"/wiki/Korlai_Fort\" title=\"Korlai Fort\">Korlai</a></li>\\n<li><a href=\"/wiki/Kothaligad\" title=\"Kothaligad\">Kothaligad</a> <a href=\"/w/index.php?title=Peb_fort&amp;action=edit&amp;redlink=1\" class=\"new\" title=\"Peb fort (page does not exist)\">Peb fort</a></li>\\n<li><a href=\"/wiki/Kolaba_Fort\" title=\"Kolaba Fort\">Kulaba</a></li>\\n<li><a href=\"/wiki/Kurdugad\" title=\"Kurdugad\">Kurdugad</a></li>\\n<li><a href=\"/wiki/Lingana\" title=\"Lingana\">Lingana</a></li>\\n<li><a href=\"/wiki/Fort_Mangad\" title=\"Fort Mangad\">Maangad</a></li>\\n<li><a href=\"/w/index.php?title=Madgad&amp;action=edit&amp;redlink=1\" class=\"new\" title=\"Madgad (page does not exist)\">Madgad</a></li>\\n<li><a href=\"/wiki/Malanggad\" title=\"Malanggad\">Malanggad</a></li>\\n<li><a href=\"/w/index.php?title=Mangalgad_(Kangori)&amp;action=edit&amp;redlink=1\" class=\"new\" title=\"Mangalgad (Kangori) (page does not exist)\">Mangalgad (Kangori)</a></li>\\n<li><a href=\"/wiki/Manikgad\" title=\"Manikgad\">Manikgad</a></li>\\n<li><a href=\"/w/index.php?title=Mirgad&amp;action=edit&amp;redlink=1\" class=\"new\" title=\"Mirgad (page does not exist)\">Mirgad</a></li>\\n<li><a href=\"/wiki/Mrugagad\" title=\"Mrugagad\">Mrugagad</a></li>\\n<li><a href=\"/wiki/Murud-Janjira\" title=\"Murud-Janjira\">Murud-Janjira</a></li>\\n<li><a href=\"/wiki/Padargad\" title=\"Padargad\">Padargad</a></li>\\n<li><a href=\"/wiki/Padmadurg\" title=\"Padmadurg\">Padmadurg</a>/ <a href=\"/wiki/Kasa_Fort\" class=\"mw-redirect\" title=\"Kasa Fort\">Kasa Fort</a></li>\\n<li><a href=\"/wiki/Prabalgad\" title=\"Prabalgad\">Prabalgad</a></li>\\n<li><a href=\"/wiki/Raigad_fort\" class=\"mw-redirect\" title=\"Raigad fort\">Raigad</a></li>\\n<li><a href=\"/w/index.php?title=Ratnagad&amp;action=edit&amp;redlink=1\" class=\"new\" title=\"Ratnagad (page does not exist)\">Ratnagad</a></li>\\n<li><a href=\"/wiki/Revdanda_fort\" title=\"Revdanda fort\">Revdanda</a></li>\\n<li><a href=\"/wiki/Sagargad\" title=\"Sagargad\">Sagargad</a></li>\\n<li><a href=\"/w/index.php?title=Samrajgad&amp;action=edit&amp;redlink=1\" class=\"new\" title=\"Samrajgad (page does not exist)\">Samrajgad</a></li>\\n<li><a href=\"/w/index.php?title=Sankshi_Fort&amp;action=edit&amp;redlink=1\" class=\"new\" title=\"Sankshi Fort (page does not exist)\">Sankshi Fort</a></li>\\n<li><a href=\"/wiki/Sarasgad\" title=\"Sarasgad\">Sarasgad</a></li>\\n<li><a href=\"/w/index.php?title=Sarjekot&amp;action=edit&amp;redlink=1\" class=\"new\" title=\"Sarjekot (page does not exist)\">Sarjekot</a></li>\\n<li><a href=\"/w/index.php?title=Songad&amp;action=edit&amp;redlink=1\" class=\"new\" title=\"Songad (page does not exist)\">Songad</a></li>\\n<li><a href=\"/w/index.php?title=Songiri_Fort&amp;action=edit&amp;redlink=1\" class=\"new\" title=\"Songiri Fort (page does not exist)\">Songiri Fort</a></li>\\n<li><a href=\"/wiki/Sudhagad\" title=\"Sudhagad\">Sudhagad</a></li>\\n<li><a href=\"/wiki/Surgad\" title=\"Surgad\">Surgad</a></li>\\n<li><a href=\"/wiki/Talagad\" title=\"Talagad\">Talagad</a></li>\\n<li><a href=\"/wiki/Underi\" title=\"Underi\">Underi</a></li>\\n<li><a href=\"/wiki/Vikatgad\" title=\"Vikatgad\">Vikatgad</a> <a href=\"/w/index.php?title=Peb_fort&amp;action=edit&amp;redlink=1\" class=\"new\" title=\"Peb fort (page does not exist)\">Peb fort</a></li></ul>\\n</div></td></tr><tr><th scope=\"row\" class=\"navbox-group\" style=\"width:1%\"><a href=\"/wiki/Ratnagiri_district\" title=\"Ratnagiri district\">Ratnagiri district</a></th><td class=\"navbox-list navbox-even hlist\" style=\"text-align:left;border-left-width:2px;border-left-style:solid;width:100%;padding:0px\"><div style=\"padding:0em 0.25em\">\\n<ul><li><a href=\"/w/index.php?title=Aambolgad&amp;action=edit&amp;redlink=1\" class=\"new\" title=\"Aambolgad (page does not exist)\">Aambolgad</a></li>\\n<li><a href=\"/w/index.php?title=Anjanwel&amp;action=edit&amp;redlink=1\" class=\"new\" title=\"Anjanwel (page does not exist)\">Anjanwel</a></li>\\n<li><a href=\"/wiki/Bankot\" title=\"Bankot\">Bankot</a></li>\\n<li><a href=\"/w/index.php?title=Fattedurg&amp;action=edit&amp;redlink=1\" class=\"new\" title=\"Fattedurg (page does not exist)\">Fattedurg</a></li>\\n<li><a href=\"/w/index.php?title=Gopalgad&amp;action=edit&amp;redlink=1\" class=\"new\" title=\"Gopalgad (page does not exist)\">Gopalgad</a></li>\\n<li><a href=\"/w/index.php?title=Govindgad&amp;action=edit&amp;redlink=1\" class=\"new\" title=\"Govindgad (page does not exist)\">Govindgad</a></li>\\n<li><a href=\"/wiki/Gowalkot\" title=\"Gowalkot\">Gowalkot</a></li>\\n<li><a href=\"/wiki/Jaigad_Fort\" title=\"Jaigad Fort\">Jaigad</a></li>\\n<li><a href=\"/w/index.php?title=Kanakdurg&amp;action=edit&amp;redlink=1\" class=\"new\" title=\"Kanakdurg (page does not exist)\">Kanakdurg</a></li>\\n<li><a href=\"/wiki/Mahipatgad\" title=\"Mahipatgad\">Mahipatgad</a></li>\\n<li><a href=\"/wiki/Mandangad_fort\" title=\"Mandangad fort\">Mandangad</a></li>\\n<li><a href=\"/wiki/Prachitgad\" title=\"Prachitgad\">Prachitgad</a></li>\\n<li><a href=\"/w/index.php?title=Prunagad&amp;action=edit&amp;redlink=1\" class=\"new\" title=\"Prunagad (page does not exist)\">Prunagad</a></li>\\n<li><a href=\"/wiki/Rasalgad\" title=\"Rasalgad\">Rasalgad</a></li>\\n<li><a href=\"/wiki/Ratnagiri_Fort\" title=\"Ratnagiri Fort\">Ratnagiri Fort</a>/ <a href=\"/w/index.php?title=Ratnadurg&amp;action=edit&amp;redlink=1\" class=\"new\" title=\"Ratnadurg (page does not exist)\">Ratnadurg</a></li>\\n<li><a href=\"/wiki/Sumargad\" class=\"mw-redirect\" title=\"Sumargad\">Sumargad</a></li>\\n<li><a href=\"/wiki/Suvarnadurg\" title=\"Suvarnadurg\">Suvarnadurg</a></li>\\n<li><a href=\"/wiki/Yeshwantgad\" title=\"Yeshwantgad\">Yashwantgad</a></li></ul>\\n</div></td></tr><tr><th scope=\"row\" class=\"navbox-group\" style=\"width:1%\"><a href=\"/wiki/Satara_district\" title=\"Satara district\">Satara district</a></th><td class=\"navbox-list navbox-odd hlist\" style=\"text-align:left;border-left-width:2px;border-left-style:solid;width:100%;padding:0px\"><div style=\"padding:0em 0.25em\">\\n<ul><li><a href=\"/wiki/Ajinkyatara\" title=\"Ajinkyatara\">Ajinkyatara</a></li>\\n<li><a href=\"/wiki/Bhairavgad\" title=\"Bhairavgad\">Bhairavgad</a></li>\\n<li><a href=\"/wiki/Bhushangad\" title=\"Bhushangad\">Bhushangad</a></li>\\n<li><a href=\"/w/index.php?title=Chandan-Vandan&amp;action=edit&amp;redlink=1\" class=\"new\" title=\"Chandan-Vandan (page does not exist)\">Chandan-Vandan</a></li>\\n<li><a href=\"/wiki/Dategad\" title=\"Dategad\">Dategad</a></li>\\n<li><a href=\"/w/index.php?title=Gunavantgad&amp;action=edit&amp;redlink=1\" class=\"new\" title=\"Gunavantgad (page does not exist)\">Gunavantgad</a></li>\\n<li><a href=\"/wiki/Jangali_Jayagad\" title=\"Jangali Jayagad\">Jangali Jayagad</a></li>\\n<li><a href=\"/wiki/Kalyangad\" title=\"Kalyangad\">Kalyangad</a></li>\\n<li><a href=\"/wiki/Kamalgad\" title=\"Kamalgad\">Kamalgad</a></li>\\n<li><a href=\"/wiki/Kenjalgad\" title=\"Kenjalgad\">Kenjalgad</a></li>\\n<li><a href=\"/wiki/Mahimangad\" title=\"Mahimangad\">Mahimangad</a></li>\\n<li><a href=\"/wiki/Pandavgad\" title=\"Pandavgad\">Pandavgad</a></li>\\n<li><a href=\"/wiki/Prachitgad\" title=\"Prachitgad\">Prachitgad</a></li>\\n<li><a href=\"/wiki/Pratapgad\" title=\"Pratapgad\">Pratapgad</a></li>\\n<li><a href=\"/wiki/Sajjangad\" title=\"Sajjangad\">Sajjangad</a></li>\\n<li><a href=\"/wiki/Santoshgad\" title=\"Santoshgad\">Santoshgad</a></li>\\n<li><a href=\"/wiki/Vairatgad\" class=\"mw-redirect\" title=\"Vairatgad\">Vairatgad</a></li>\\n<li><a href=\"/wiki/Vardhangad_Fort\" title=\"Vardhangad Fort\">Vardhangad</a></li>\\n<li><a href=\"/wiki/Varugad\" title=\"Varugad\">Varugad</a></li>\\n<li><a href=\"/w/index.php?title=Vasantgad&amp;action=edit&amp;redlink=1\" class=\"new\" title=\"Vasantgad (page does not exist)\">Vasantgad</a></li>\\n<li><a href=\"/wiki/Vasota\" class=\"mw-redirect\" title=\"Vasota\">Vasota</a></li></ul>\\n</div></td></tr><tr><th scope=\"row\" class=\"navbox-group\" style=\"width:1%\"><a href=\"/wiki/Sindhudurg_district\" title=\"Sindhudurg district\">Sindhudurg district</a></th><td class=\"navbox-list navbox-even hlist\" style=\"text-align:left;border-left-width:2px;border-left-style:solid;width:100%;padding:0px\"><div style=\"padding:0em 0.25em\">\\n<ul><li><a href=\"/w/index.php?title=Aasavgad&amp;action=edit&amp;redlink=1\" class=\"new\" title=\"Aasavgad (page does not exist)\">Aasavgad</a></li>\\n<li><a href=\"/wiki/Bharatgad\" title=\"Bharatgad\">Bharatgad</a></li>\\n<li><a href=\"/w/index.php?title=Rajkot_Fort&amp;action=edit&amp;redlink=1\" class=\"new\" title=\"Rajkot Fort (page does not exist)\">Rajkot Fort</a></li>\\n<li><a href=\"/w/index.php?title=Sanrjekot&amp;action=edit&amp;redlink=1\" class=\"new\" title=\"Sanrjekot (page does not exist)\">Sanrjekot</a></li>\\n<li><a href=\"/wiki/Sindhudurg\" class=\"mw-redirect\" title=\"Sindhudurg\">Sindhudurg</a></li>\\n<li><a href=\"/wiki/Vijaydurg_Fort\" title=\"Vijaydurg Fort\">Vijaydurg</a></li></ul>\\n</div></td></tr><tr><th scope=\"row\" class=\"navbox-group\" style=\"width:1%\"><a href=\"/wiki/Thane_district\" title=\"Thane district\">Thane district</a></th><td class=\"navbox-list navbox-odd hlist\" style=\"text-align:left;border-left-width:2px;border-left-style:solid;width:100%;padding:0px\"><div style=\"padding:0em 0.25em\">\\n<ul><li><a href=\"/w/index.php?title=Aajobagad&amp;action=edit&amp;redlink=1\" class=\"new\" title=\"Aajobagad (page does not exist)\">Aajobagad</a></li>\\n<li><a href=\"/w/index.php?title=Aasawa&amp;action=edit&amp;redlink=1\" class=\"new\" title=\"Aasawa (page does not exist)\">Aasawa</a></li>\\n<li><a href=\"/wiki/Fort_Arnala\" class=\"mw-redirect\" title=\"Fort Arnala\">Arnala</a></li>\\n<li><a href=\"/w/index.php?title=Asherigad&amp;action=edit&amp;redlink=1\" class=\"new\" title=\"Asherigad (page does not exist)\">Asherigad</a></li>\\n<li><a href=\"/w/index.php?title=Ballalgad&amp;action=edit&amp;redlink=1\" class=\"new\" title=\"Ballalgad (page does not exist)\">Ballalgad</a></li>\\n<li><a href=\"/w/index.php?title=Balwantgad&amp;action=edit&amp;redlink=1\" class=\"new\" title=\"Balwantgad (page does not exist)\">Balwantgad</a></li>\\n<li><a href=\"/wiki/Belapur_Fort\" title=\"Belapur Fort\">Belapur Fort</a></li>\\n<li><a href=\"/wiki/Bhairavgad\" title=\"Bhairavgad\">Bhairavgad</a></li>\\n<li><a href=\"/w/index.php?title=Bhandargad&amp;action=edit&amp;redlink=1\" class=\"new\" title=\"Bhandargad (page does not exist)\">Bhandargad</a></li>\\n<li><a href=\"/w/index.php?title=Bhavanigad&amp;action=edit&amp;redlink=1\" class=\"new\" title=\"Bhavanigad (page does not exist)\">Bhavanigad</a></li>\\n<li><a href=\"/w/index.php?title=Bhupatgad&amp;action=edit&amp;redlink=1\" class=\"new\" title=\"Bhupatgad (page does not exist)\">Bhupatgad</a></li>\\n<li><a href=\"/w/index.php?title=Chanderigad&amp;action=edit&amp;redlink=1\" class=\"new\" title=\"Chanderigad (page does not exist)\">Chanderigad</a></li>\\n<li><a href=\"/w/index.php?title=Dahanugad&amp;action=edit&amp;redlink=1\" class=\"new\" title=\"Dahanugad (page does not exist)\">Dahanugad</a></li>\\n<li><a href=\"/w/index.php?title=Daulatmandal&amp;action=edit&amp;redlink=1\" class=\"new\" title=\"Daulatmandal (page does not exist)\">Daulatmandal</a></li>\\n<li><a href=\"/wiki/Dharavi\" title=\"Dharavi\">Dharavi</a></li>\\n<li><a href=\"/wiki/Durgadi_Fort\" class=\"mw-redirect\" title=\"Durgadi Fort\">Durgadi Fort</a></li>\\n<li><a href=\"/wiki/Gambhirgad\" title=\"Gambhirgad\">Gambhirgad</a></li>\\n<li><a href=\"/wiki/Ghodbunder_Fort\" title=\"Ghodbunder Fort\">Ghodbunder Fort</a></li>\\n<li><a href=\"/wiki/Gorakhgad\" title=\"Gorakhgad\">Gorakhgad</a></li>\\n<li><a href=\"/w/index.php?title=Gotara&amp;action=edit&amp;redlink=1\" class=\"new\" title=\"Gotara (page does not exist)\">Gotara</a></li>\\n<li><a href=\"/w/index.php?title=Jivdhaanigad&amp;action=edit&amp;redlink=1\" class=\"new\" title=\"Jivdhaanigad (page does not exist)\">Jivdhaanigad</a></li>\\n<li><a href=\"/wiki/Kaldurg_Fort\" title=\"Kaldurg Fort\">Kaldurg</a></li>\\n<li><a href=\"/wiki/Kamandurg_Fort\" title=\"Kamandurg Fort\">Kamandurg</a></li>\\n<li><a href=\"/w/index.php?title=Kelwegad&amp;action=edit&amp;redlink=1\" class=\"new\" title=\"Kelwegad (page does not exist)\">Kelwegad</a></li>\\n<li><a href=\"/wiki/Kohoj\" title=\"Kohoj\">Kohojgad</a></li>\\n<li><a href=\"/wiki/Mahuli\" title=\"Mahuli\">Mahuli</a></li>\\n<li><a href=\"/wiki/Malang_gad\" class=\"mw-redirect\" title=\"Malang gad\">Malang gad</a></li>\\n<li><a href=\"/w/index.php?title=Palasgad&amp;action=edit&amp;redlink=1\" class=\"new\" title=\"Palasgad (page does not exist)\">Palasgad</a></li>\\n<li><a href=\"/w/index.php?title=Pankot&amp;action=edit&amp;redlink=1\" class=\"new\" title=\"Pankot (page does not exist)\">Pankot</a></li>\\n<li><a href=\"/w/index.php?title=Tahuli&amp;action=edit&amp;redlink=1\" class=\"new\" title=\"Tahuli (page does not exist)\">Tahuli</a></li>\\n<li><a href=\"/w/index.php?title=Segwa&amp;action=edit&amp;redlink=1\" class=\"new\" title=\"Segwa (page does not exist)\">Segwa</a></li>\\n<li><a href=\"/w/index.php?title=Shirgav_Fort&amp;action=edit&amp;redlink=1\" class=\"new\" title=\"Shirgav Fort (page does not exist)\">Shirgav Fort</a></li>\\n<li><a href=\"/w/index.php?title=Siddhgad&amp;action=edit&amp;redlink=1\" class=\"new\" title=\"Siddhgad (page does not exist)\">Siddhgad</a></li>\\n<li><a href=\"/w/index.php?title=Tarapur_Fort&amp;action=edit&amp;redlink=1\" class=\"new\" title=\"Tarapur Fort (page does not exist)\">Tarapur Fort</a></li></ul>\\n</div></td></tr></tbody></table></div>\\n<div role=\"navigation\" class=\"navbox\" aria-labelledby=\"23x15px&amp;#124;border_&amp;#124;alt=India&amp;#124;link=India_Forts_in_India\" style=\"padding:3px\"><table class=\"nowraplinks mw-collapsible mw-collapsed navbox-inner\" style=\"border-spacing:0;background:transparent;color:inherit\"><tbody><tr><th scope=\"col\" class=\"navbox-title\" colspan=\"2\"><link rel=\"mw-deduplicated-inline-style\" href=\"mw-data:TemplateStyles:r992953826\"/><div class=\"navbar plainlinks hlist navbar-mini\"><ul><li class=\"nv-view\"><a href=\"/wiki/Template:Forts_in_India\" title=\"Template:Forts in India\"><abbr title=\"View this template\" style=\";;background:none transparent;border:none;box-shadow:none;padding:0;\">v</abbr></a></li><li class=\"nv-talk\"><a href=\"/wiki/Template_talk:Forts_in_India\" title=\"Template talk:Forts in India\"><abbr title=\"Discuss this template\" style=\";;background:none transparent;border:none;box-shadow:none;padding:0;\">t</abbr></a></li><li class=\"nv-edit\"><a class=\"external text\" href=\"https://en.wikipedia.org/w/index.php?title=Template:Forts_in_India&amp;action=edit\"><abbr title=\"Edit this template\" style=\";;background:none transparent;border:none;box-shadow:none;padding:0;\">e</abbr></a></li></ul></div><div id=\"23x15px&amp;#124;border_&amp;#124;alt=India&amp;#124;link=India_Forts_in_India\" style=\"font-size:114%;margin:0 4em\"><span class=\"flagicon\"><a href=\"/wiki/India\" title=\"India\"><img alt=\"India\" src=\"//upload.wikimedia.org/wikipedia/en/thumb/4/41/Flag_of_India.svg/23px-Flag_of_India.svg.png\" decoding=\"async\" width=\"23\" height=\"15\" class=\"thumbborder\" srcset=\"//upload.wikimedia.org/wikipedia/en/thumb/4/41/Flag_of_India.svg/35px-Flag_of_India.svg.png 1.5x, //upload.wikimedia.org/wikipedia/en/thumb/4/41/Flag_of_India.svg/45px-Flag_of_India.svg.png 2x\" data-file-width=\"1350\" data-file-height=\"900\" /></a></span> <a href=\"/wiki/List_of_forts_in_India\" title=\"List of forts in India\">Forts in India</a></div></th></tr><tr><th scope=\"row\" class=\"navbox-group\" style=\"width:1%\"><a href=\"/wiki/Vijayanagara\" title=\"Vijayanagara\">Vijayanagara</a></th><td class=\"navbox-list navbox-odd hlist\" style=\"text-align:left;border-left-width:2px;border-left-style:solid;width:100%;padding:0px\"><div style=\"padding:0em 0.25em\">\\n<ul><li><a href=\"/wiki/Gingee_Fort\" title=\"Gingee Fort\">Gingee</a></li>\\n<li><a href=\"/wiki/Bangalore_Fort\" title=\"Bangalore Fort\">Bangalore</a></li>\\n<li><a href=\"/wiki/Udayagiri_Fort\" title=\"Udayagiri Fort\">Udayagiri</a></li>\\n<li><a href=\"/wiki/Vellore_Fort\" title=\"Vellore Fort\">Vellore</a></li></ul>\\n</div></td></tr><tr><th scope=\"row\" class=\"navbox-group\" style=\"width:1%\"><a href=\"/wiki/Deccan_sultanates\" title=\"Deccan sultanates\">Deccan sultanates</a></th><td class=\"navbox-list navbox-even hlist\" style=\"text-align:left;border-left-width:2px;border-left-style:solid;width:100%;padding:0px\"><div style=\"padding:0em 0.25em\">\\n<ul><li><a href=\"/wiki/Ahmednagar_Fort\" title=\"Ahmednagar Fort\">Ahmednagar</a></li>\\n<li><a href=\"/wiki/Daulatabad_Fort\" title=\"Daulatabad Fort\">Daulatabad</a></li>\\n<li><a href=\"/wiki/Gawilghur\" title=\"Gawilghur\">Gawilghur</a></li>\\n<li><a href=\"/wiki/Golconda_Fort\" title=\"Golconda Fort\">Golconda</a></li>\\n<li><a href=\"/wiki/Narnala\" title=\"Narnala\">Narnala</a></li>\\n<li><a href=\"/wiki/Panhala_Fort\" title=\"Panhala Fort\">Panhala</a></li></ul>\\n</div></td></tr><tr><th scope=\"row\" class=\"navbox-group\" style=\"width:1%\"><a href=\"/wiki/Gujarat_Sultanate\" title=\"Gujarat Sultanate\">Gujarat Sultanate</a></th><td class=\"navbox-list navbox-odd hlist\" style=\"text-align:left;border-left-width:2px;border-left-style:solid;width:100%;padding:0px\"><div style=\"padding:0em 0.25em\">\\n<ul><li><a href=\"/wiki/Bhadra_Fort\" title=\"Bhadra Fort\">Bhadra</a></li></ul>\\n</div></td></tr><tr><th scope=\"row\" class=\"navbox-group\" style=\"width:1%\"><a href=\"/wiki/Delhi_Sultanate\" title=\"Delhi Sultanate\">Delhi Sultanate</a></th><td class=\"navbox-list navbox-even hlist\" style=\"text-align:left;border-left-width:2px;border-left-style:solid;width:100%;padding:0px\"><div style=\"padding:0em 0.25em\">\\n<ul><li><a href=\"/wiki/Aligarh_Fort\" title=\"Aligarh Fort\">Aligarh</a></li>\\n<li><a href=\"/wiki/Bandhavgarh_Fort\" title=\"Bandhavgarh Fort\">Bandhavgarh</a></li>\\n<li><a href=\"/wiki/Hathras_Fort\" title=\"Hathras Fort\">Hathras</a></li>\\n<li><a href=\"/wiki/Qila_Mubarak\" title=\"Qila Mubarak\">Qila Mubarak</a></li>\\n<li><a href=\"/wiki/Siri_Fort\" title=\"Siri Fort\">Siri</a></li>\\n<li><a href=\"/wiki/Tughlaqabad\" class=\"mw-redirect\" title=\"Tughlaqabad\">Tughlaqabad</a></li>\\n<li><a href=\"/wiki/Salimgarh_Fort\" title=\"Salimgarh Fort\">Salimgarh</a></li></ul>\\n</div></td></tr><tr><th scope=\"row\" class=\"navbox-group\" style=\"width:1%\"><a href=\"/wiki/Nayak_dynasty\" class=\"mw-redirect\" title=\"Nayak dynasty\">Nayak dynasty</a></th><td class=\"navbox-list navbox-odd hlist\" style=\"text-align:left;border-left-width:2px;border-left-style:solid;width:100%;padding:0px\"><div style=\"padding:0em 0.25em\">\\n<ul><li><a href=\"/wiki/Chitradurga_Fort\" title=\"Chitradurga Fort\">Chitradurga</a></li>\\n<li><a href=\"/wiki/Bekal_Fort\" title=\"Bekal Fort\">Bekal</a></li>\\n<li><a href=\"/wiki/Dindigul_Fort\" title=\"Dindigul Fort\">Dindigul</a></li>\\n<li><a href=\"/wiki/Gingee_Fort\" title=\"Gingee Fort\">Gingee</a></li>\\n<li><a href=\"/wiki/Tiruchirapalli_Rock_Fort\" title=\"Tiruchirapalli Rock Fort\">Tiruchirapalli Rock</a></li>\\n<li><a href=\"/wiki/Chandragiri_Fort,_Kerala\" title=\"Chandragiri Fort, Kerala\">Chandragiri Fort</a></li>\\n<li><a href=\"/wiki/Hosdurg_Fort\" title=\"Hosdurg Fort\">Hosdurg</a></li></ul>\\n</div></td></tr><tr><th scope=\"row\" class=\"navbox-group\" style=\"width:1%\"><a href=\"/wiki/Malwa_Sultanate\" title=\"Malwa Sultanate\">Malwa Sultanate</a></th><td class=\"navbox-list navbox-even hlist\" style=\"text-align:left;border-left-width:2px;border-left-style:solid;width:100%;padding:0px\"><div style=\"padding:0em 0.25em\">\\n<ul><li><a href=\"/wiki/Mandsaur_Fort\" title=\"Mandsaur Fort\">Mandsaur</a></li>\\n<li><a href=\"/wiki/Mandu,_Madhya_Pradesh\" title=\"Mandu, Madhya Pradesh\">Mandavgadh</a></li></ul>\\n</div></td></tr><tr><th scope=\"row\" class=\"navbox-group\" style=\"width:1%\"><a href=\"/wiki/Faruqi_dynasty\" class=\"mw-redirect\" title=\"Faruqi dynasty\">Faruqi dynasty</a></th><td class=\"navbox-list navbox-odd hlist\" style=\"text-align:left;border-left-width:2px;border-left-style:solid;width:100%;padding:0px\"><div style=\"padding:0em 0.25em\">\\n<ul><li><a href=\"/wiki/Asirgarh_Fort\" title=\"Asirgarh Fort\">Asirgarh</a></li>\\n<li><a href=\"/wiki/Laling_fort\" title=\"Laling fort\">Laling</a></li>\\n<li><a href=\"/wiki/Thalner\" title=\"Thalner\">Thalner</a></li></ul>\\n</div></td></tr><tr><th scope=\"row\" class=\"navbox-group\" style=\"width:1%\"><a href=\"/wiki/Rajputs\" class=\"mw-redirect\" title=\"Rajputs\">Rajputs</a></th><td class=\"navbox-list navbox-even hlist\" style=\"text-align:left;border-left-width:2px;border-left-style:solid;width:100%;padding:0px\"><div style=\"padding:0em 0.25em\">\\n<ul><li><a href=\"/wiki/Achalgarh_Fort\" title=\"Achalgarh Fort\">Achalgarh</a></li>\\n<li><a href=\"/wiki/Amer_Fort\" title=\"Amer Fort\">Amber</a></li>\\n<li><a href=\"/wiki/Bhangarh_Fort\" title=\"Bhangarh Fort\">Bhangarh</a></li>\\n<li><a href=\"/wiki/Chittor_Fort\" title=\"Chittor Fort\">Chittor</a></li>\\n<li><a href=\"/wiki/Jaigarh_Fort\" title=\"Jaigarh Fort\">Jaigarh</a></li>\\n<li><a href=\"/wiki/Jaisalmer_Fort\" title=\"Jaisalmer Fort\">Jaisalmer</a></li>\\n<li><a href=\"/wiki/Jalore_Fort\" title=\"Jalore Fort\">Jalore</a></li>\\n<li><a href=\"/wiki/Junagarh_Fort\" title=\"Junagarh Fort\">Junagarh</a></li>\\n<li><a href=\"/wiki/Kankwadi\" title=\"Kankwadi\">Kankwadi</a></li>\\n<li><a href=\"/wiki/Kumbhalgarh\" title=\"Kumbhalgarh\">Kumbhalgarh</a></li>\\n<li><a href=\"/wiki/Nahargarh_Fort\" title=\"Nahargarh Fort\">Nahargarh</a></li>\\n<li><a href=\"/wiki/Qila_Rai_Pithora\" title=\"Qila Rai Pithora\">Qila Rai Pithora</a></li>\\n<li><a href=\"/wiki/Taragarh_Fort,_Ajmer\" title=\"Taragarh Fort, Ajmer\">Taragarh</a></li>\\n<li><a href=\"/wiki/Lal_Kot\" class=\"mw-redirect\" title=\"Lal Kot\">Lal Kot</a></li>\\n<li><a href=\"/wiki/Gwalior_Fort\" title=\"Gwalior Fort\">Gwalior</a></li>\\n<li><a href=\"/wiki/Kalinjar\" class=\"mw-redirect\" title=\"Kalinjar\">Kalinjar</a></li>\\n<li><a href=\"/wiki/Hinglajgarh\" title=\"Hinglajgarh\">Hinglajgarh</a></li>\\n<li><a href=\"/wiki/Mehrangarh\" title=\"Mehrangarh\">Mehrangarh</a></li>\\n<li><a href=\"/wiki/Narwar_Fort\" title=\"Narwar Fort\">Narwar</a></li>\\n<li><a href=\"/wiki/Senapati_fortress\" title=\"Senapati fortress\">Senapati fortress</a></li>\\n<li><a href=\"/wiki/Sabalgarh_Fort\" title=\"Sabalgarh Fort\">Sabalgarh</a></li>\\n<li><a href=\"/wiki/Bahu_Fort\" title=\"Bahu Fort\">Bahu</a></li>\\n<li><a href=\"/wiki/Kangra_Fort\" title=\"Kangra Fort\">Kangra</a></li>\\n<li><a href=\"/wiki/Ranthambore_Fort\" title=\"Ranthambore Fort\">Ranthambore</a></li>\\n<li><a href=\"/wiki/Bhatner_fort\" title=\"Bhatner fort\">Bhatner fort</a></li></ul>\\n</div></td></tr><tr><th scope=\"row\" class=\"navbox-group\" style=\"width:1%\"><a href=\"/wiki/Maratha_Empire\" title=\"Maratha Empire\">Maratha Empire</a></th><td class=\"navbox-list navbox-odd hlist\" style=\"text-align:left;border-left-width:2px;border-left-style:solid;width:100%;padding:0px\"><div style=\"padding:0em 0.25em\">\\n<ul><li><a href=\"/wiki/Dongri_Fort\" title=\"Dongri Fort\">Dongri</a></li>\\n<li><a href=\"/wiki/Harishchandragad\" title=\"Harishchandragad\">Harishchandragad</a></li>\\n<li><a href=\"/wiki/Kolaba_Fort\" title=\"Kolaba Fort\">Kolaba</a></li>\\n<li><a href=\"/wiki/Lohagad\" title=\"Lohagad\">Lohagad</a></li>\\n<li><a href=\"/wiki/Sudhagad\" title=\"Sudhagad\">Sudhagad</a></li>\\n<li><a href=\"/wiki/Sinhagad\" title=\"Sinhagad\">Sinhagad</a></li>\\n<li><a href=\"/wiki/Tikona\" title=\"Tikona\">Tikona</a></li>\\n<li><a href=\"/wiki/Panhala_Fort\" title=\"Panhala Fort\">Panhala</a></li>\\n<li><a href=\"/wiki/Pratapgad\" title=\"Pratapgad\">Pratapgad</a></li>\\n<li><a href=\"/wiki/Vishalgad\" title=\"Vishalgad\">Vishalgad</a></li>\\n<li><a href=\"/wiki/Rajgad\" class=\"mw-redirect\" title=\"Rajgad\">Rajgad</a></li>\\n<li><a href=\"/wiki/Sindhudurg\" class=\"mw-redirect\" title=\"Sindhudurg\">Sindhudurg</a></li>\\n<li><a href=\"/wiki/Vijaydurg_Fort\" title=\"Vijaydurg Fort\">Vijaydurg</a></li>\\n<li><a href=\"/wiki/Shivneri\" title=\"Shivneri\">Shivneri</a></li>\\n<li><a href=\"/wiki/Raigad_fort\" class=\"mw-redirect\" title=\"Raigad fort\">Raigad</a></li>\\n<li><a href=\"/wiki/Gajendragarh\" class=\"mw-redirect\" title=\"Gajendragarh\">Gajendragarh</a></li>\\n<li><a href=\"/wiki/Gingee_Fort\" title=\"Gingee Fort\">Gingee</a></li>\\n<li><a href=\"/wiki/Shaniwar_Wada\" title=\"Shaniwar Wada\">Shaniwar Wada</a></li>\\n<li><a href=\"/wiki/Jhansi_Fort\" title=\"Jhansi Fort\">Jhansi</a></li>\\n<li><a href=\"/wiki/Hinglajgarh\" title=\"Hinglajgarh\">Hinglajgarh</a></li>\\n<li><a href=\"/wiki/Manora_Fort,_Thanjavur\" title=\"Manora Fort, Thanjavur\">Manora</a></li>\\n<li><a href=\"/wiki/Visapur_Fort\" title=\"Visapur Fort\">Visapur</a></li>\\n<li><a href=\"/wiki/Sadashivgad\" title=\"Sadashivgad\">Sadashivgad</a></li></ul>\\n</div></td></tr><tr><th scope=\"row\" class=\"navbox-group\" style=\"width:1%\"><a href=\"/wiki/Mughal_Empire\" title=\"Mughal Empire\">Mughal Empire</a></th><td class=\"navbox-list navbox-even hlist\" style=\"text-align:left;border-left-width:2px;border-left-style:solid;width:100%;padding:0px\"><div style=\"padding:0em 0.25em\">\\n<ul><li><a href=\"/wiki/Purana_Qila\" title=\"Purana Qila\">Purana Qila</a></li>\\n<li><a href=\"/wiki/Chanderi_Fort\" class=\"mw-redirect\" title=\"Chanderi Fort\">Chanderi</a></li>\\n<li><a href=\"/wiki/Agra_Fort\" title=\"Agra Fort\">Agra</a></li>\\n<li><a href=\"/wiki/Allahabad_Fort\" title=\"Allahabad Fort\">Allahabad</a></li>\\n<li><a href=\"/wiki/Fatehpur_Sikri\" title=\"Fatehpur Sikri\">Fatehpur Sikri</a></li>\\n<li><a href=\"/wiki/Red_Fort\" title=\"Red Fort\">Red</a></li>\\n<li><a href=\"/wiki/Akola_Fort\" title=\"Akola Fort\">Akola</a></li>\\n<li><a href=\"/wiki/Hari_Parbat\" title=\"Hari Parbat\">Hari Parbat</a></li>\\n<li><a href=\"/wiki/Ramnagar_Fort\" title=\"Ramnagar Fort\">Ramnagar</a></li></ul>\\n</div></td></tr><tr><th scope=\"row\" class=\"navbox-group\" style=\"width:1%\"><a href=\"/wiki/Jat_people\" title=\"Jat people\">Jat</a></th><td class=\"navbox-list navbox-odd hlist\" style=\"text-align:left;border-left-width:2px;border-left-style:solid;width:100%;padding:0px\"><div style=\"padding:0em 0.25em\">\\n<ul><li><a href=\"/wiki/Bawana_Fortress_of_Jat_Zail\" title=\"Bawana Fortress of Jat Zail\">Bawana Fort</a></li>\\n<li><a href=\"/wiki/Gohad_Fort\" title=\"Gohad Fort\">Gohad</a></li>\\n<li><a href=\"/wiki/Lohagarh_Fort\" title=\"Lohagarh Fort\">Lohagarh</a></li>\\n<li><a href=\"/wiki/Nahar_Singh_Mahal\" title=\"Nahar Singh Mahal\">Nahar Singh Mahal</a></li></ul>\\n</div></td></tr><tr><th scope=\"row\" class=\"navbox-group\" style=\"width:1%\"><a href=\"/wiki/Kingdom_of_Mysore\" title=\"Kingdom of Mysore\">Kingdom of Mysore</a></th><td class=\"navbox-list navbox-even hlist\" style=\"text-align:left;border-left-width:2px;border-left-style:solid;width:100%;padding:0px\"><div style=\"padding:0em 0.25em\">\\n<ul><li><a href=\"/wiki/Devanahalli_Fort\" title=\"Devanahalli Fort\">Devanahalli</a></li>\\n<li><a href=\"/wiki/Palakkad_Fort\" title=\"Palakkad Fort\">Palakkad</a></li>\\n<li><a href=\"/wiki/Bekal_Fort\" title=\"Bekal Fort\">Bekal</a></li>\\n<li><a href=\"/wiki/Sankagiri_Fort\" title=\"Sankagiri Fort\">Sankagiri</a></li></ul>\\n</div></td></tr><tr><th scope=\"row\" class=\"navbox-group\" style=\"width:1%\"><a href=\"/wiki/Siddi\" title=\"Siddi\">Siddi</a></th><td class=\"navbox-list navbox-odd hlist\" style=\"text-align:left;border-left-width:2px;border-left-style:solid;width:100%;padding:0px\"><div style=\"padding:0em 0.25em\">\\n<ul><li><a href=\"/wiki/Murud-Janjira\" title=\"Murud-Janjira\">Murud-Janjira</a></li>\\n<li><a href=\"/wiki/Belapur_Fort\" title=\"Belapur Fort\">Belapur</a></li>\\n<li><a href=\"/wiki/Underi\" title=\"Underi\">Underi</a></li></ul>\\n</div></td></tr><tr><th scope=\"row\" class=\"navbox-group\" style=\"width:1%\"><a href=\"/wiki/Travancore\" title=\"Travancore\">Travancore</a></th><td class=\"navbox-list navbox-even hlist\" style=\"text-align:left;border-left-width:2px;border-left-style:solid;width:100%;padding:0px\"><div style=\"padding:0em 0.25em\">\\n<ul><li><a href=\"/wiki/Vattakottai_Fort\" title=\"Vattakottai Fort\">Vattakottai</a></li>\\n<li><a href=\"/wiki/Udayagiri_Fort\" title=\"Udayagiri Fort\">Udayagiri</a></li>\\n<li><a href=\"/wiki/East_Fort\" title=\"East Fort\">East</a></li></ul>\\n</div></td></tr><tr><th scope=\"row\" class=\"navbox-group\" style=\"width:1%\"><a href=\"/wiki/Portuguese_India\" title=\"Portuguese India\">Portuguese</a></th><td class=\"navbox-list navbox-odd hlist\" style=\"text-align:left;border-left-width:2px;border-left-style:solid;width:100%;padding:0px\"><div style=\"padding:0em 0.25em\">\\n<ul><li><a href=\"/wiki/Bassein_Fort\" class=\"mw-redirect\" title=\"Bassein Fort\">Bassein Fort</a></li>\\n<li><a href=\"/wiki/Bombay_Castle\" title=\"Bombay Castle\">Bombay Castle</a></li>\\n<li><a href=\"/wiki/Mahim_Fort\" title=\"Mahim Fort\">Mahim</a></li>\\n<li><a href=\"/wiki/Fort_Arnala\" class=\"mw-redirect\" title=\"Fort Arnala\">Arnala</a></li>\\n<li><a href=\"/wiki/Castella_de_Aguada\" title=\"Castella de Aguada\">Castella de Aguada</a></li>\\n<li><a href=\"/wiki/Diu_Fort\" class=\"mw-redirect\" title=\"Diu Fort\">Diu Fort</a></li>\\n<li><a href=\"/wiki/Surat_Castle\" title=\"Surat Castle\">Surat Castle</a></li>\\n<li><a href=\"/w/index.php?title=Fortim_do_Mar,_Diu&amp;action=edit&amp;redlink=1\" class=\"new\" title=\"Fortim do Mar, Diu (page does not exist)\">Fortim do Mar, Diu</a></li>\\n<li><a href=\"/wiki/Fort_St._Anthony_of_Simbor\" title=\"Fort St. Anthony of Simbor\">Fortim do Mar, Simbor</a></li>\\n<li><a href=\"/wiki/Fort_Emmanuel\" title=\"Fort Emmanuel\">Emmanuel</a></li>\\n<li><a href=\"/wiki/Fort_Anjediva\" title=\"Fort Anjediva\">Fort Anjediva</a></li>\\n<li><a href=\"/wiki/Korlai_Fort\" title=\"Korlai Fort\">Korlai</a></li>\\n<li><a href=\"/wiki/Madh_Fort\" class=\"mw-redirect\" title=\"Madh Fort\">Madh Fort</a></li>\\n<li><a href=\"/wiki/St_Thomas_Fort\" title=\"St Thomas Fort\">St Thomas, Tangasseri</a></li>\\n<li><a href=\"/wiki/St._Angelo_Fort\" title=\"St. Angelo Fort\">St. Angelo</a></li>\\n<li><a href=\"/wiki/Pallipuram_Fort\" title=\"Pallipuram Fort\">Pallipuram</a></li>\\n<li><a href=\"/wiki/Fort_Aguada\" title=\"Fort Aguada\">Aguada</a></li>\\n<li><a href=\"/wiki/Fort_Tiracol\" title=\"Fort Tiracol\">Fort Tiracol</a></li>\\n<li><a href=\"/wiki/Fort_Anjediva\" title=\"Fort Anjediva\">Anjediva</a></li>\\n<li><a href=\"/wiki/Cranganore_Fort\" class=\"mw-redirect\" title=\"Cranganore Fort\">Cranganore</a></li>\\n<li><a href=\"/wiki/Ghodbunder_Fort\" title=\"Ghodbunder Fort\">Ghodbunder</a></li>\\n<li><a href=\"/wiki/Revdanda_fort\" title=\"Revdanda fort\">Fortaleza de Chaul</a></li>\\n<li><a href=\"/wiki/Ponda_Fort\" title=\"Ponda Fort\">Ponda Fort</a></li>\\n<li><a href=\"/wiki/Chapora_Fort\" title=\"Chapora Fort\">Chapora Fort</a></li>\\n<li><a href=\"/wiki/Colvale_Fort_(Goa)\" class=\"mw-redirect\" title=\"Colvale Fort (Goa)\">Fortaleza de S\\xc3\\xa3o Sebasti\\xc3\\xa3o de Tivim</a></li>\\n<li><a href=\"/wiki/Cabo_de_Rama\" title=\"Cabo de Rama\">Cabo de Rama</a></li>\\n<li><a href=\"/wiki/Corjuem_Fort\" title=\"Corjuem Fort\">Corjuem Fort</a></li>\\n<li><a href=\"/wiki/Mormug%C3%A3o_fort\" title=\"Mormug\\xc3\\xa3o fort\">Mormug\\xc3\\xa3o fort</a></li>\\n<li><a href=\"/wiki/Rachol_Fort\" title=\"Rachol Fort\">Rachol Fort</a></li>\\n<li><a href=\"/wiki/Fort_of_S%C3%A3o_Tiago_of_Banastarim\" title=\"Fort of S\\xc3\\xa3o Tiago of Banastarim\">Fort of S\\xc3\\xa3o Tiago of Banastarim</a></li></ul>\\n</div></td></tr><tr><th scope=\"row\" class=\"navbox-group\" style=\"width:1%\"><a href=\"/wiki/Sikh_Empire\" title=\"Sikh Empire\">Sikh Empire</a></th><td class=\"navbox-list navbox-even hlist\" style=\"text-align:left;border-left-width:2px;border-left-style:solid;width:100%;padding:0px\"><div style=\"padding:0em 0.25em\">\\n<ul><li><a href=\"/wiki/Jamrud_Fort\" title=\"Jamrud Fort\">Jamrud</a></li>\\n<li><a href=\"/wiki/Kamlah_Fort\" title=\"Kamlah Fort\">Kamlah</a></li>\\n<li><a href=\"/wiki/Multan_Fort\" title=\"Multan Fort\">Multan</a></li>\\n<li><a href=\"/wiki/Harkishangarh\" class=\"mw-redirect\" title=\"Harkishangarh\">Harkishangarh</a></li>\\n<li><a href=\"/wiki/Lahore_Fort\" title=\"Lahore Fort\">Lahore</a></li></ul>\\n</div></td></tr><tr><th scope=\"row\" class=\"navbox-group\" style=\"width:1%\"><a href=\"/wiki/British_Raj\" title=\"British Raj\">British Raj</a></th><td class=\"navbox-list navbox-odd hlist\" style=\"text-align:left;border-left-width:2px;border-left-style:solid;width:100%;padding:0px\"><div style=\"padding:0em 0.25em\">\\n<ul><li><a href=\"/wiki/Anchuthengu_Fort\" title=\"Anchuthengu Fort\">Anchuthengu</a></li>\\n<li><a href=\"/wiki/Fort_St._George_(India)\" class=\"mw-redirect\" title=\"Fort St. George (India)\">St. George</a></li>\\n<li><a href=\"/wiki/Fort_William_(India)\" class=\"mw-redirect\" title=\"Fort William (India)\">William</a></li>\\n<li><a href=\"/wiki/Bombay_Fort\" class=\"mw-redirect\" title=\"Bombay Fort\">Bombay</a></li>\\n<li><a href=\"/wiki/Riwa_Fort\" title=\"Riwa Fort\">Riwa</a></li>\\n<li><a href=\"/wiki/Worli_Fort\" title=\"Worli Fort\">Worli</a></li>\\n<li><a href=\"/wiki/Mazagon_Fort\" title=\"Mazagon Fort\">Mazagon</a></li>\\n<li><a href=\"/wiki/Sion_Hillock_Fort\" title=\"Sion Hillock Fort\">Sion Hillock</a></li>\\n<li><a href=\"/wiki/Sewri_Fort\" title=\"Sewri Fort\">Sewri</a></li>\\n<li><a href=\"/wiki/Mahim_Fort\" title=\"Mahim Fort\">Mahim</a></li>\\n<li><a href=\"/wiki/Tellicherry_Fort\" title=\"Tellicherry Fort\">Tellicherry</a></li>\\n<li><a href=\"/wiki/Fort_St._David\" title=\"Fort St. David\">St. David</a></li></ul>\\n</div></td></tr><tr><th scope=\"row\" class=\"navbox-group\" style=\"width:1%\"><a href=\"/wiki/Sur_Empire\" title=\"Sur Empire\">Sur Empire</a></th><td class=\"navbox-list navbox-even hlist\" style=\"text-align:left;border-left-width:2px;border-left-style:solid;width:100%;padding:0px\"><div style=\"padding:0em 0.25em\">\\n<ul><li><a href=\"/wiki/Chunar_Fort\" title=\"Chunar Fort\">Chunar</a></li>\\n<li><a href=\"/wiki/Rohtasgarh\" class=\"mw-redirect\" title=\"Rohtasgarh\">Rohtasgarh</a></li>\\n<li><a href=\"/wiki/Munger_Fort\" title=\"Munger Fort\">Munger</a></li></ul>\\n</div></td></tr><tr><th scope=\"row\" class=\"navbox-group\" style=\"width:1%\"><a href=\"/wiki/Eastern_Ganga_dynasty\" title=\"Eastern Ganga dynasty\">Eastern Ganga dynasty</a></th><td class=\"navbox-list navbox-odd hlist\" style=\"text-align:left;border-left-width:2px;border-left-style:solid;width:100%;padding:0px\"><div style=\"padding:0em 0.25em\">\\n<ul><li><a href=\"/wiki/Barabati_fort\" title=\"Barabati fort\">Barabati</a></li>\\n<li><a href=\"/wiki/Raibania_fort\" title=\"Raibania fort\">Raibania</a></li></ul>\\n</div></td></tr><tr><th scope=\"row\" class=\"navbox-group\" style=\"width:1%\"><a href=\"/wiki/Ahom_dynasty\" title=\"Ahom dynasty\">Ahom dynasty</a></th><td class=\"navbox-list navbox-even hlist\" style=\"text-align:left;border-left-width:2px;border-left-style:solid;width:100%;padding:0px\"><div style=\"padding:0em 0.25em\">\\n<ul><li><a href=\"/wiki/Talatal_Ghar\" title=\"Talatal Ghar\">Talatal Ghar</a></li>\\n<li><a href=\"/wiki/Kareng_Ghar\" title=\"Kareng Ghar\">Kareng Ghar</a></li>\\n<li><a href=\"/wiki/Rang_Ghar\" title=\"Rang Ghar\">Rang Ghar</a></li>\\n<li><a href=\"/wiki/Garchuk_Lachit_Garh\" title=\"Garchuk Lachit Garh\">Garchuk Lachit Garh</a></li></ul>\\n</div></td></tr><tr><th scope=\"row\" class=\"navbox-group\" style=\"width:1%\"><a href=\"/wiki/Kakatiya_dynasty\" title=\"Kakatiya dynasty\">Kakatiya dynasty</a></th><td class=\"navbox-list navbox-odd hlist\" style=\"text-align:left;border-left-width:2px;border-left-style:solid;width:100%;padding:0px\"><div style=\"padding:0em 0.25em\">\\n<ul><li><a href=\"/wiki/Warangal_Fort\" title=\"Warangal Fort\">Warangal</a></li></ul>\\n</div></td></tr><tr><th scope=\"row\" class=\"navbox-group\" style=\"width:1%\"><a href=\"/wiki/Bahmani_Sultanate\" title=\"Bahmani Sultanate\">Bahmani Sultanate</a></th><td class=\"navbox-list navbox-even hlist\" style=\"text-align:left;border-left-width:2px;border-left-style:solid;width:100%;padding:0px\"><div style=\"padding:0em 0.25em\">\\n<ul><li><a href=\"/wiki/Bidar_Fort\" title=\"Bidar Fort\">Bidar</a></li>\\n<li><a href=\"/wiki/Gulbarga_Fort\" title=\"Gulbarga Fort\">Gulbarga</a></li></ul>\\n</div></td></tr></tbody></table></div>\\n<div role=\"navigation\" class=\"navbox\" aria-labelledby=\"30x27px&amp;#124;link=Bhagwa_Dhwaj_Maratha_Empire\" style=\"padding:3px\"><table class=\"nowraplinks mw-collapsible autocollapsed navbox-inner\" style=\"border-spacing:0;background:transparent;color:inherit\"><tbody><tr><th scope=\"col\" class=\"navbox-title\" colspan=\"2\"><link rel=\"mw-deduplicated-inline-style\" href=\"mw-data:TemplateStyles:r992953826\"/><div class=\"navbar plainlinks hlist navbar-mini\"><ul><li class=\"nv-view\"><a href=\"/wiki/Template:MarathaEmpire\" title=\"Template:MarathaEmpire\"><abbr title=\"View this template\" style=\";;background:none transparent;border:none;box-shadow:none;padding:0;\">v</abbr></a></li><li class=\"nv-talk\"><a href=\"/wiki/Template_talk:MarathaEmpire\" title=\"Template talk:MarathaEmpire\"><abbr title=\"Discuss this template\" style=\";;background:none transparent;border:none;box-shadow:none;padding:0;\">t</abbr></a></li><li class=\"nv-edit\"><a class=\"external text\" href=\"https://en.wikipedia.org/w/index.php?title=Template:MarathaEmpire&amp;action=edit\"><abbr title=\"Edit this template\" style=\";;background:none transparent;border:none;box-shadow:none;padding:0;\">e</abbr></a></li></ul></div><div id=\"30x27px&amp;#124;link=Bhagwa_Dhwaj_Maratha_Empire\" style=\"font-size:114%;margin:0 4em\"><a href=\"/wiki/Bhagwa_Dhwaj\" title=\"Bhagwa Dhwaj\"><img alt=\"Flag of the Maratha Empire.svg\" src=\"//upload.wikimedia.org/wikipedia/commons/thumb/4/4c/Flag_of_the_Maratha_Empire.svg/30px-Flag_of_the_Maratha_Empire.svg.png\" decoding=\"async\" width=\"30\" height=\"14\" srcset=\"//upload.wikimedia.org/wikipedia/commons/thumb/4/4c/Flag_of_the_Maratha_Empire.svg/45px-Flag_of_the_Maratha_Empire.svg.png 1.5x, //upload.wikimedia.org/wikipedia/commons/thumb/4/4c/Flag_of_the_Maratha_Empire.svg/60px-Flag_of_the_Maratha_Empire.svg.png 2x\" data-file-width=\"600\" data-file-height=\"280\" /></a> <a href=\"/wiki/Maratha_Empire\" title=\"Maratha Empire\">Maratha Empire</a></div></th></tr><tr><th scope=\"row\" class=\"navbox-group\" style=\"width:1%\"><a href=\"/wiki/Maratha_emperors\" class=\"mw-redirect\" title=\"Maratha emperors\">Rulers</a></th><td class=\"navbox-list navbox-odd hlist\" style=\"text-align:left;border-left-width:2px;border-left-style:solid;width:100%;padding:0px\"><div style=\"padding:0em 0.25em\">\\n<ul><li><a href=\"/wiki/Shivaji\" title=\"Shivaji\">Shivaji</a></li>\\n<li><a href=\"/wiki/Sambhaji\" title=\"Sambhaji\">Sambhaji</a></li>\\n<li><a href=\"/wiki/Rajaram_I\" title=\"Rajaram I\">Rajaram I</a></li>\\n<li><a href=\"/wiki/Tarabai\" title=\"Tarabai\">Tarabai</a></li>\\n<li><a href=\"/wiki/Shahu_I\" title=\"Shahu I\">Shahu I</a></li>\\n<li><a href=\"/wiki/Rajaram_II_of_Satara\" title=\"Rajaram II of Satara\">Rajaram II</a></li>\\n<li><a href=\"/wiki/Shahu_II_of_Satara\" title=\"Shahu II of Satara\">Shahu II</a></li>\\n<li><a href=\"/wiki/Pratap_Singh,_Raja_of_Satara\" title=\"Pratap Singh, Raja of Satara\">Pratap Singh</a></li></ul>\\n</div></td></tr><tr><th scope=\"row\" class=\"navbox-group\" style=\"width:1%\"><a href=\"/wiki/Peshwa\" title=\"Peshwa\">Peshwas</a></th><td class=\"navbox-list navbox-even hlist\" style=\"text-align:left;border-left-width:2px;border-left-style:solid;width:100%;padding:0px\"><div style=\"padding:0em 0.25em\">\\n<ul><li><a href=\"/wiki/Moropant_Trimbak_Pingle\" title=\"Moropant Trimbak Pingle\">Moropant Trimbak Pingle</a></li>\\n<li><a href=\"/wiki/Moreshvar_Pingale\" title=\"Moreshvar Pingale\">Moreshvar Pingale</a></li>\\n<li><a href=\"/wiki/Ramchandra_Pant_Amatya\" title=\"Ramchandra Pant Amatya\">Ramchandra Pant Amatya</a></li>\\n<li><a href=\"/wiki/Bahiroji_Pingale\" title=\"Bahiroji Pingale\">Bahiroji Pingale</a></li>\\n<li><a href=\"/wiki/Balaji_Vishwanath\" title=\"Balaji Vishwanath\">Balaji Vishwanath</a></li>\\n<li><a href=\"/wiki/Baji_Rao_I\" title=\"Baji Rao I\">Baji Rao I</a></li>\\n<li><a href=\"/wiki/Balaji_Baji_Rao\" title=\"Balaji Baji Rao\">Balaji Baji Rao</a></li>\\n<li><a href=\"/wiki/Madhavrao_I\" title=\"Madhavrao I\">Madhavrao Ballal</a></li>\\n<li><a href=\"/wiki/Narayan_Rao\" title=\"Narayan Rao\">Narayan Rao</a></li>\\n<li><a href=\"/wiki/Raghunathrao\" title=\"Raghunathrao\">Raghunathrao</a></li>\\n<li><a href=\"/wiki/Madhavrao_II\" title=\"Madhavrao II\">Sawai Madhavrao</a></li>\\n<li><a href=\"/wiki/Baji_Rao_II\" title=\"Baji Rao II\">Baji Rao II</a></li>\\n<li><a href=\"/wiki/Amrut_Rao\" title=\"Amrut Rao\">Amrut Rao</a></li>\\n<li><a href=\"/wiki/Nana_Sahib\" class=\"mw-redirect\" title=\"Nana Sahib\">Nana Sahib</a></li>\\n<li><a href=\"/wiki/Bhat_family\" class=\"mw-redirect\" title=\"Bhat family\">Bhat family</a></li></ul>\\n</div></td></tr><tr><th scope=\"row\" class=\"navbox-group\" style=\"width:1%\"><a href=\"/wiki/Amatya\" class=\"mw-redirect\" title=\"Amatya\">Amatya</a></th><td class=\"navbox-list navbox-odd hlist\" style=\"text-align:left;border-left-width:2px;border-left-style:solid;width:100%;padding:0px\"><div style=\"padding:0em 0.25em\">\\n<ul><li><a href=\"/wiki/Ramchandra_Pant_Amatya\" title=\"Ramchandra Pant Amatya\">Ramchandra Pant Amatya</a></li></ul>\\n</div></td></tr><tr><th scope=\"row\" class=\"navbox-group\" style=\"width:1%\"><a href=\"/wiki/Pratinidhi\" title=\"Pratinidhi\">Pratinidhi</a></th><td class=\"navbox-list navbox-even hlist\" style=\"text-align:left;border-left-width:2px;border-left-style:solid;width:100%;padding:0px\"><div style=\"padding:0em 0.25em\">\\n<ul><li><a href=\"/wiki/Pralhad_Niraji\" title=\"Pralhad Niraji\">Pralhad Niraji</a></li>\\n<li><a href=\"/wiki/Parshuram_Pant_Pratinidhi\" title=\"Parshuram Pant Pratinidhi\">Parshuram Pant Pratinidhi</a> (<i>hereditary</i>)</li>\\n<li><a href=\"/wiki/Shripatrao_Pant_Pratinidhi\" title=\"Shripatrao Pant Pratinidhi\">Shripatrao Pant Pratinidhi</a></li>\\n<li><a href=\"/wiki/Jagjivanrao_Pant_Pratinidhi\" title=\"Jagjivanrao Pant Pratinidhi\">Jagjivanrao Pant Pratinidhi</a></li></ul>\\n</div></td></tr><tr><th scope=\"row\" class=\"navbox-group\" style=\"width:1%\">Women</th><td class=\"navbox-list navbox-odd hlist\" style=\"text-align:left;border-left-width:2px;border-left-style:solid;width:100%;padding:0px\"><div style=\"padding:0em 0.25em\">\\n<ul><li><a href=\"/wiki/Ahilyabai_Holkar\" title=\"Ahilyabai Holkar\">Ahilyabai Holkar</a></li>\\n<li><a href=\"/wiki/Anandibai\" title=\"Anandibai\">Anandibai</a></li>\\n<li><a href=\"/wiki/Gopikabai\" title=\"Gopikabai\">Gopikabai</a></li>\\n<li><a href=\"/wiki/Jankibai\" title=\"Jankibai\">Jankibai</a></li>\\n<li><a href=\"/wiki/Jijabai\" title=\"Jijabai\">Jijabai</a></li>\\n<li><a href=\"/wiki/Kashibai\" title=\"Kashibai\">Kashibai</a></li>\\n<li><a href=\"/wiki/Mastani\" title=\"Mastani\">Mastani</a></li>\\n<li><a href=\"/wiki/Muddupalani\" title=\"Muddupalani\">Muddupalani</a></li>\\n<li><a href=\"/wiki/Parvatibai\" title=\"Parvatibai\">Parvatibai</a></li>\\n<li><a href=\"/wiki/Putalabai\" title=\"Putalabai\">Putalabai</a></li>\\n<li><a href=\"/wiki/Ramabai_Peshwa\" title=\"Ramabai Peshwa\">Ramabai</a></li>\\n<li><a href=\"/wiki/Sai_Bhosale\" class=\"mw-redirect\" title=\"Sai Bhosale\">Saibai</a></li>\\n<li><a href=\"/wiki/Sakvarbai\" title=\"Sakvarbai\">Sakvarbai</a></li>\\n<li><a href=\"/wiki/Soyarabai\" title=\"Soyarabai\">Soyarabai</a></li>\\n<li><a href=\"/wiki/Umabai_Dabhade\" title=\"Umabai Dabhade\">Umabai Dabhade</a></li>\\n<li><a href=\"/wiki/Tulsi_Bai_Holkar\" title=\"Tulsi Bai Holkar\">Tulsi Bai Holkar</a></li></ul>\\n</div></td></tr><tr><th scope=\"row\" class=\"navbox-group\" style=\"width:1%\">Maratha Confederacy</th><td class=\"navbox-list navbox-even hlist\" style=\"text-align:left;border-left-width:2px;border-left-style:solid;width:100%;padding:0px\"><div style=\"padding:0em 0.25em\">\\n<ul><li><a href=\"/wiki/Bhonsle\" title=\"Bhonsle\">Bhonsle of Nagpur</a></li>\\n<li><a href=\"/wiki/Gaekwad_dynasty\" title=\"Gaekwad dynasty\">Gaekwad of Baroda</a></li>\\n<li><a href=\"/wiki/Scindia\" title=\"Scindia\">Scindia of Gwalior</a></li>\\n<li><a href=\"/wiki/Holkar\" title=\"Holkar\">Holkar of Indore</a></li>\\n<li><a href=\"/wiki/Patwardhan_dynasty\" title=\"Patwardhan dynasty\">Patwardhan dynasty</a></li></ul>\\n</div></td></tr><tr><th scope=\"row\" class=\"navbox-group\" style=\"width:1%\"><a href=\"/wiki/Battles_involving_the_Maratha_Empire\" title=\"Battles involving the Maratha Empire\">Battles</a></th><td class=\"navbox-list navbox-odd hlist\" style=\"text-align:left;border-left-width:2px;border-left-style:solid;width:100%;padding:0px\"><div style=\"padding:0em 0.25em\">\\n<ul><li><a href=\"/wiki/Battle_of_Pratapgarh\" title=\"Battle of Pratapgarh\">Pratapgarh</a></li>\\n<li><a href=\"/wiki/Battle_of_Kolhapur\" title=\"Battle of Kolhapur\">Kolhapur</a></li>\\n<li><a href=\"/wiki/Battle_of_Pavan_Khind\" title=\"Battle of Pavan Khind\">Pavan Khind</a></li>\\n<li><a href=\"/wiki/Battle_of_Chakan\" title=\"Battle of Chakan\">Chakan</a></li>\\n<li><a href=\"/wiki/Battle_of_Surat\" title=\"Battle of Surat\">Surat</a></li>\\n<li><a href=\"/wiki/Battle_of_Purandar\" title=\"Battle of Purandar\">Purandar</a></li>\\n<li><a href=\"/wiki/Battle_of_Sinhagad\" title=\"Battle of Sinhagad\">Sinhagad</a></li>\\n<li><a href=\"/wiki/Battle_of_Kalyan\" title=\"Battle of Kalyan\">Kalyan</a></li>\\n<li><a href=\"/wiki/Battle_of_Bhupalgarh\" title=\"Battle of Bhupalgarh\">Bhupalgarh</a></li>\\n<li><a href=\"/wiki/Battle_of_Sangamner\" title=\"Battle of Sangamner\">Sangamner</a></li>\\n<li><a href=\"/wiki/Siege_of_Bijapur\" title=\"Siege of Bijapur\">Bijapur</a></li>\\n<li><a href=\"/wiki/Battle_of_Raigarh_(1689)\" title=\"Battle of Raigarh (1689)\">Raigarh (1689)</a></li>\\n<li><a href=\"/wiki/Siege_of_Jinji\" title=\"Siege of Jinji\">Jinji</a></li>\\n<li><a href=\"/wiki/Battle_of_Satara\" title=\"Battle of Satara\">Satara</a></li>\\n<li><a href=\"/wiki/Battle_of_Khelna\" title=\"Battle of Khelna\">Khelna</a></li>\\n<li><a href=\"/wiki/Battle_of_Raigarh_(1703-1704)\" title=\"Battle of Raigarh (1703-1704)\">Raigarh</a></li>\\n<li><a href=\"/wiki/Battle_of_Torna\" title=\"Battle of Torna\">Torna</a></li>\\n<li><a href=\"/wiki/Battle_of_Palkhed\" title=\"Battle of Palkhed\">Palkhed</a></li>\\n<li><a href=\"/wiki/Battle_of_Mandsaur\" title=\"Battle of Mandsaur\">Mandsaur</a></li>\\n<li><a href=\"/wiki/Battle_of_Delhi_(1737)\" title=\"Battle of Delhi (1737)\">1st Delhi</a></li>\\n<li><a href=\"/wiki/Battle_of_Bhopal\" title=\"Battle of Bhopal\">Bhopal</a></li>\\n<li><a href=\"/wiki/Battle_of_Vasai\" title=\"Battle of Vasai\">Vasai</a></li>\\n<li><a href=\"/wiki/Gajendragad\" title=\"Gajendragad\">Gajendragad</a></li>\\n<li><a href=\"/wiki/Siege_of_Trichinopoly_(1741)\" title=\"Siege of Trichinopoly (1741)\">1st Trichinopoly</a></li>\\n<li><a href=\"/wiki/First_Battle_of_Katwa\" title=\"First Battle of Katwa\">Katwa (1st)</a></li>\\n<li><a href=\"/wiki/Siege_of_Trichinopoly_(1743)\" title=\"Siege of Trichinopoly (1743)\">2nd Trichinopoly</a></li>\\n<li><a href=\"/wiki/Second_Battle_of_Katwa\" title=\"Second Battle of Katwa\">Katwa (2nd)</a></li>\\n<li><a href=\"/wiki/Maratha_invasions_of_Bengal\" title=\"Maratha invasions of Bengal\">Invasions of Bengal</a></li>\\n<li><a href=\"/wiki/Battle_of_Burdwan\" title=\"Battle of Burdwan\">Burdwan</a></li>\\n<li><a href=\"/wiki/Battle_of_Udgir\" title=\"Battle of Udgir\">Udgir</a></li>\\n<li><a href=\"/wiki/Battle_of_Delhi_(1757)\" title=\"Battle of Delhi (1757)\">2nd Delhi</a></li>\\n<li><a href=\"/wiki/Battle_of_Attock_(1758)\" title=\"Battle of Attock (1758)\">Attock</a></li>\\n<li><a href=\"/wiki/Battle_of_Peshawar_(1758)\" title=\"Battle of Peshawar (1758)\">Peshawar</a></li>\\n<li><a href=\"/wiki/Third_Battle_of_Panipat\" title=\"Third Battle of Panipat\">3rd Panipat</a></li>\\n<li><a href=\"/wiki/Battle_of_Alegaon\" title=\"Battle of Alegaon\">Alegaon</a></li>\\n<li><a href=\"/wiki/Battle_of_Rakshasbhuvan\" title=\"Battle of Rakshasbhuvan\">Rakshabhuvan</a></li>\\n<li><a href=\"/wiki/Capture_of_Delhi,_1771\" class=\"mw-redirect\" title=\"Capture of Delhi, 1771\">Capture of Delhi</a></li>\\n<li><a href=\"/wiki/Battle_of_Panchgaon\" title=\"Battle of Panchgaon\">Panchgaon</a></li>\\n<li><a href=\"/wiki/Battle_of_Saunshi\" title=\"Battle of Saunshi\">Saunshi</a></li>\\n<li><a href=\"/wiki/Battle_of_Wadgaon\" title=\"Battle of Wadgaon\">Wadgaon</a></li>\\n<li><a href=\"/wiki/Siege_of_Adoni\" class=\"mw-redirect\" title=\"Siege of Adoni\">Adoni</a></li>\\n<li><a href=\"/wiki/Siege_of_Badami\" class=\"mw-redirect\" title=\"Siege of Badami\">Badami</a></li>\\n<li><a href=\"/wiki/Battle_of_Savanur\" class=\"mw-redirect\" title=\"Battle of Savanur\">Savanur</a></li>\\n<li><a href=\"/wiki/Siege_of_Bahadur_Benda\" class=\"mw-redirect\" title=\"Siege of Bahadur Benda\">Bahadur Benda</a></li>\\n<li><a href=\"/wiki/Battle_of_Lalsot\" title=\"Battle of Lalsot\">Lalsot</a></li>\\n<li><a href=\"/wiki/Battle_of_Chaksana\" title=\"Battle of Chaksana\">Chaksana</a></li>\\n<li><a href=\"/wiki/Battle_of_Patan\" title=\"Battle of Patan\">Patan</a></li>\\n<li><a href=\"/wiki/Battle_of_Kharda\" title=\"Battle of Kharda\">Kharda</a></li>\\n<li><a href=\"/wiki/Battle_of_Poona\" title=\"Battle of Poona\">Poona</a></li>\\n<li><a href=\"/wiki/Battle_of_Delhi_(1803)\" title=\"Battle of Delhi (1803)\">3rd Delhi</a></li>\\n<li><a href=\"/wiki/Battle_of_Assaye\" title=\"Battle of Assaye\">Assaye</a></li>\\n<li><a href=\"/wiki/Battle_of_Laswari\" title=\"Battle of Laswari\">Laswari</a></li>\\n<li><a href=\"/wiki/Battle_of_Farrukhabad\" title=\"Battle of Farrukhabad\">Farrukhabad</a></li>\\n<li><a href=\"/wiki/Siege_of_Bharatpur_(1805)\" title=\"Siege of Bharatpur (1805)\">Bharatpur</a></li>\\n<li><a href=\"/wiki/Battle_of_Khadki\" title=\"Battle of Khadki\">Khadki</a></li>\\n<li><a href=\"/wiki/Battle_of_Koregaon\" title=\"Battle of Koregaon\">Koregaon</a></li>\\n<li><a href=\"/wiki/Battle_of_Mahidpur\" title=\"Battle of Mahidpur\">Mahidpur</a></li></ul>\\n</div></td></tr><tr><th scope=\"row\" class=\"navbox-group\" style=\"width:1%\">Wars</th><td class=\"navbox-list navbox-even hlist\" style=\"text-align:left;border-left-width:2px;border-left-style:solid;width:100%;padding:0px\"><div style=\"padding:0em 0.25em\">\\n<ul><li><a href=\"/wiki/Maratha-Mughal_War_of_27_years\" class=\"mw-redirect\" title=\"Maratha-Mughal War of 27 years\">Maratha-Mughal War of 27 years</a></li>\\n<li><a href=\"/wiki/Maratha%E2%80%93Mysore_War\" title=\"Maratha\\xe2\\x80\\x93Mysore War\">Maratha\\xe2\\x80\\x93Mysore War</a></li>\\n<li><a href=\"/wiki/First_Anglo-Maratha_War\" title=\"First Anglo-Maratha War\">First Anglo-Maratha War</a></li>\\n<li><a href=\"/wiki/Second_Anglo-Maratha_War\" title=\"Second Anglo-Maratha War\">Second Anglo-Maratha War</a></li>\\n<li><a href=\"/wiki/Third_Anglo-Maratha_War\" title=\"Third Anglo-Maratha War\">Third Anglo-Maratha War</a></li></ul>\\n</div></td></tr><tr><th scope=\"row\" class=\"navbox-group\" style=\"width:1%\">Adversaries</th><td class=\"navbox-list navbox-odd hlist\" style=\"text-align:left;border-left-width:2px;border-left-style:solid;width:100%;padding:0px\"><div style=\"padding:0em 0.25em\">\\n<ul><li><a href=\"/wiki/Adil_Shahi_dynasty\" title=\"Adil Shahi dynasty\">Adilshahi</a></li>\\n<li><a href=\"/wiki/Qutb_Shahi_dynasty\" title=\"Qutb Shahi dynasty\">Qutbshahi</a></li>\\n<li><a href=\"/wiki/Mughal_Empire\" title=\"Mughal Empire\">Mughal Empire</a></li>\\n<li><a href=\"/wiki/Durrani_Empire\" title=\"Durrani Empire\">Durrani Empire</a></li>\\n<li><a href=\"/wiki/British_Raj\" title=\"British Raj\">British Empire</a></li>\\n<li><a href=\"/wiki/Portuguese_Empire\" title=\"Portuguese Empire\">Portuguese Empire</a></li>\\n<li><a href=\"/wiki/Nizam_of_Hyderabad\" title=\"Nizam of Hyderabad\">Nizam of Hyderabad</a></li>\\n<li><a href=\"/wiki/Kingdom_of_Mysore\" title=\"Kingdom of Mysore\">Mysore</a></li></ul>\\n</div></td></tr><tr><th scope=\"row\" class=\"navbox-group\" style=\"width:1%\">Forts</th><td class=\"navbox-list navbox-even hlist\" style=\"text-align:left;border-left-width:2px;border-left-style:solid;width:100%;padding:0px\"><div style=\"padding:0em 0.25em\">\\n<ul><li><a href=\"/wiki/Fort_Mangad\" title=\"Fort Mangad\">Fort Mangad</a></li>\\n<li><a href=\"/wiki/Panhala_Fort\" title=\"Panhala Fort\">Panhala</a></li>\\n<li><a href=\"/wiki/Pratapgad\" title=\"Pratapgad\">Pratapgad</a></li>\\n<li><a href=\"/wiki/Purandar_fort\" class=\"mw-redirect\" title=\"Purandar fort\"> Purandar</a></li>\\n<li><a href=\"/wiki/Raigad_Fort\" title=\"Raigad Fort\">Raigad</a></li>\\n<li><a class=\"mw-selflink selflink\">Rajgad</a></li>\\n<li><a href=\"/wiki/Shaniwar_Wada\" title=\"Shaniwar Wada\">Shaniwar Wada</a></li>\\n<li><a href=\"/wiki/Shivneri\" title=\"Shivneri\">Shivneri</a></li>\\n<li><a href=\"/wiki/Sindhudurg_Fort\" title=\"Sindhudurg Fort\">Sindhudurg</a></li>\\n<li><a href=\"/wiki/Sinhagad\" title=\"Sinhagad\">Sinhagad</a></li>\\n<li><a href=\"/wiki/Torna_Fort\" title=\"Torna Fort\">Torna</a></li></ul>\\n</div></td></tr><tr><th scope=\"row\" class=\"navbox-group\" style=\"width:1%\">Coins</th><td class=\"navbox-list navbox-odd hlist\" style=\"text-align:left;border-left-width:2px;border-left-style:solid;width:100%;padding:0px\"><div style=\"padding:0em 0.25em\">\\n<ul><li><a href=\"/wiki/Shivrai\" title=\"Shivrai\">Shivrai</a></li></ul>\\n</div></td></tr></tbody></table></div>\\n<!-- \\nNewPP limit report\\nParsed by mw1279\\nCached time: 20210528112507\\nCache expiry: 1814400\\nReduced expiry: false\\nComplications: [vary\\xe2\\x80\\x90revision\\xe2\\x80\\x90sha1]\\nCPU time usage: 0.782 seconds\\nReal time usage: 1.039 seconds\\nPreprocessor visited node count: 2740/1000000\\nPost\\xe2\\x80\\x90expand include size: 125684/2097152 bytes\\nTemplate argument size: 5926/2097152 bytes\\nHighest expansion depth: 15/40\\nExpensive parser function count: 6/500\\nUnstrip recursion depth: 1/20\\nUnstrip post\\xe2\\x80\\x90expand size: 21603/5000000 bytes\\nLua time usage: 0.320/10.000 seconds\\nLua memory usage: 7805663/52428800 bytes\\nNumber of Wikibase entities loaded: 0/400\\n-->\\n<!--\\nTransclusion expansion time report (%,ms,calls,template)\\n100.00%  827.172      1 -total\\n 23.13%  191.321      1 Template:Infobox_military_installation\\n 21.26%  175.895      1 Template:Infobox\\n 16.45%  136.065      1 Template:Reflist\\n 11.93%   98.669      1 Template:Cite_book\\n 10.47%   86.623      1 Template:Short_description\\n 10.26%   84.858      3 Template:Citation_needed\\n  8.76%   72.470      3 Template:Fix\\n  8.36%   69.114      1 Template:Location_map\\n  7.37%   60.999      3 Template:Navbox\\n-->\\n\\n<!-- Saved in parser cache with key enwiki:pcache:idhash:12475798-0!canonical and timestamp 20210528112508 and revision id 1025588610. Serialized with JSON.\\n -->\\n</div><noscript><img src=\"//en.wikipedia.org/wiki/Special:CentralAutoLogin/start?type=1x1\" alt=\"\" title=\"\" width=\"1\" height=\"1\" style=\"border: none; position: absolute;\" /></noscript>\\n<div class=\"printfooter\">Retrieved from \"<a dir=\"ltr\" href=\"https://en.wikipedia.org/w/index.php?title=Rajgad_Fort&amp;oldid=1025588610\">https://en.wikipedia.org/w/index.php?title=Rajgad_Fort&amp;oldid=1025588610</a>\"</div></div>\\n\\t\\t<div id=\"catlinks\" class=\"catlinks\" data-mw=\"interface\"><div id=\"mw-normal-catlinks\" class=\"mw-normal-catlinks\"><a href=\"/wiki/Help:Category\" title=\"Help:Category\">Categories</a>: <ul><li><a href=\"/wiki/Category:Forts_in_Pune_district\" title=\"Category:Forts in Pune district\">Forts in Pune district</a></li><li><a href=\"/wiki/Category:Former_capital_cities_in_India\" title=\"Category:Former capital cities in India\">Former capital cities in India</a></li></ul></div><div id=\"mw-hidden-catlinks\" class=\"mw-hidden-catlinks mw-hidden-cats-hidden\">Hidden categories: <ul><li><a href=\"/wiki/Category:Articles_with_short_description\" title=\"Category:Articles with short description\">Articles with short description</a></li><li><a href=\"/wiki/Category:Short_description_matches_Wikidata\" title=\"Category:Short description matches Wikidata\">Short description matches Wikidata</a></li><li><a href=\"/wiki/Category:Use_dmy_dates_from_July_2017\" title=\"Category:Use dmy dates from July 2017\">Use dmy dates from July 2017</a></li><li><a href=\"/wiki/Category:Use_Indian_English_from_July_2017\" title=\"Category:Use Indian English from July 2017\">Use Indian English from July 2017</a></li><li><a href=\"/wiki/Category:All_Wikipedia_articles_written_in_Indian_English\" title=\"Category:All Wikipedia articles written in Indian English\">All Wikipedia articles written in Indian English</a></li><li><a href=\"/wiki/Category:All_articles_with_unsourced_statements\" title=\"Category:All articles with unsourced statements\">All articles with unsourced statements</a></li><li><a href=\"/wiki/Category:Articles_with_unsourced_statements_from_July_2017\" title=\"Category:Articles with unsourced statements from July 2017\">Articles with unsourced statements from July 2017</a></li><li><a href=\"/wiki/Category:Commons_category_link_is_on_Wikidata\" title=\"Category:Commons category link is on Wikidata\">Commons category link is on Wikidata</a></li></ul></div></div>\\n\\t</div>\\n</div>\\n<div id=\\'mw-data-after-content\\'>\\n\\t<div class=\"read-more-container\"></div>\\n</div>\\n\\n<div id=\"mw-navigation\">\\n\\t<h2>Navigation menu</h2>\\n\\t<div id=\"mw-head\">\\n\\t\\t<nav id=\"p-personal\" class=\"mw-portlet mw-portlet-personal vector-user-menu-legacy vector-menu\" aria-labelledby=\"p-personal-label\" role=\"navigation\" \\n\\t >\\n\\t<h3 id=\"p-personal-label\" class=\"vector-menu-heading\">\\n\\t\\t<span>Personal tools</span>\\n\\t</h3>\\n\\t<div class=\"vector-menu-content\">\\n\\t\\t<ul class=\"vector-menu-content-list\"><li id=\"pt-anonuserpage\">Not logged in</li><li id=\"pt-anontalk\"><a href=\"/wiki/Special:MyTalk\" title=\"Discussion about edits from this IP address [n]\" accesskey=\"n\">Talk</a></li><li id=\"pt-anoncontribs\"><a href=\"/wiki/Special:MyContributions\" title=\"A list of edits made from this IP address [y]\" accesskey=\"y\">Contributions</a></li><li id=\"pt-createaccount\"><a href=\"/w/index.php?title=Special:CreateAccount&amp;returnto=Rajgad+Fort\" title=\"You are encouraged to create an account and log in; however, it is not mandatory\">Create account</a></li><li id=\"pt-login\"><a href=\"/w/index.php?title=Special:UserLogin&amp;returnto=Rajgad+Fort\" title=\"You&#039;re encouraged to log in; however, it&#039;s not mandatory. [o]\" accesskey=\"o\">Log in</a></li></ul>\\n\\t\\t\\n\\t</div>\\n</nav>\\n\\n\\t\\t<div id=\"left-navigation\">\\n\\t\\t\\t<nav id=\"p-namespaces\" class=\"mw-portlet mw-portlet-namespaces vector-menu vector-menu-tabs\" aria-labelledby=\"p-namespaces-label\" role=\"navigation\" \\n\\t >\\n\\t<h3 id=\"p-namespaces-label\" class=\"vector-menu-heading\">\\n\\t\\t<span>Namespaces</span>\\n\\t</h3>\\n\\t<div class=\"vector-menu-content\">\\n\\t\\t<ul class=\"vector-menu-content-list\"><li id=\"ca-nstab-main\" class=\"selected\"><a href=\"/wiki/Rajgad_Fort\" title=\"View the content page [c]\" accesskey=\"c\">Article</a></li><li id=\"ca-talk\"><a href=\"/wiki/Talk:Rajgad_Fort\" rel=\"discussion\" title=\"Discuss improvements to the content page [t]\" accesskey=\"t\">Talk</a></li></ul>\\n\\t\\t\\n\\t</div>\\n</nav>\\n\\n\\t\\t\\t<nav id=\"p-variants\" class=\"mw-portlet mw-portlet-variants emptyPortlet vector-menu vector-menu-dropdown\" aria-labelledby=\"p-variants-label\" role=\"navigation\" \\n\\t >\\n\\t<input type=\"checkbox\" class=\"vector-menu-checkbox\" aria-labelledby=\"p-variants-label\" />\\n\\t<h3 id=\"p-variants-label\" class=\"vector-menu-heading\">\\n\\t\\t<span>Variants</span>\\n\\t</h3>\\n\\t<div class=\"vector-menu-content\">\\n\\t\\t<ul class=\"vector-menu-content-list\"></ul>\\n\\t\\t\\n\\t</div>\\n</nav>\\n\\n\\t\\t</div>\\n\\t\\t<div id=\"right-navigation\">\\n\\t\\t\\t<nav id=\"p-views\" class=\"mw-portlet mw-portlet-views vector-menu vector-menu-tabs\" aria-labelledby=\"p-views-label\" role=\"navigation\" \\n\\t >\\n\\t<h3 id=\"p-views-label\" class=\"vector-menu-heading\">\\n\\t\\t<span>Views</span>\\n\\t</h3>\\n\\t<div class=\"vector-menu-content\">\\n\\t\\t<ul class=\"vector-menu-content-list\"><li id=\"ca-view\" class=\"selected\"><a href=\"/wiki/Rajgad_Fort\">Read</a></li><li id=\"ca-edit\"><a href=\"/w/index.php?title=Rajgad_Fort&amp;action=edit\" title=\"Edit this page [e]\" accesskey=\"e\">Edit</a></li><li id=\"ca-history\"><a href=\"/w/index.php?title=Rajgad_Fort&amp;action=history\" title=\"Past revisions of this page [h]\" accesskey=\"h\">View history</a></li></ul>\\n\\t\\t\\n\\t</div>\\n</nav>\\n\\n\\t\\t\\t<nav id=\"p-cactions\" class=\"mw-portlet mw-portlet-cactions emptyPortlet vector-menu vector-menu-dropdown\" aria-labelledby=\"p-cactions-label\" role=\"navigation\" \\n\\t >\\n\\t<input type=\"checkbox\" class=\"vector-menu-checkbox\" aria-labelledby=\"p-cactions-label\" />\\n\\t<h3 id=\"p-cactions-label\" class=\"vector-menu-heading\">\\n\\t\\t<span>More</span>\\n\\t</h3>\\n\\t<div class=\"vector-menu-content\">\\n\\t\\t<ul class=\"vector-menu-content-list\"></ul>\\n\\t\\t\\n\\t</div>\\n</nav>\\n\\n\\t\\t\\t<div id=\"p-search\" role=\"search\" >\\n\\t<h3 >\\n\\t\\t<label for=\"searchInput\">Search</label>\\n\\t</h3>\\n\\t<form action=\"/w/index.php\" id=\"searchform\">\\n\\t\\t<div id=\"simpleSearch\" data-search-loc=\"header-navigation\">\\n\\t\\t\\t<input type=\"search\" name=\"search\" placeholder=\"Search Wikipedia\" autocapitalize=\"sentences\" title=\"Search Wikipedia [f]\" accesskey=\"f\" id=\"searchInput\"/>\\n\\t\\t\\t<input type=\"hidden\" name=\"title\" value=\"Special:Search\"/>\\n\\t\\t\\t<input type=\"submit\" name=\"fulltext\" value=\"Search\" title=\"Search Wikipedia for this text\" id=\"mw-searchButton\" class=\"searchButton mw-fallbackSearchButton\"/>\\n\\t\\t\\t<input type=\"submit\" name=\"go\" value=\"Go\" title=\"Go to a page with this exact name if it exists\" id=\"searchButton\" class=\"searchButton\"/>\\n\\t\\t</div>\\n\\t</form>\\n</div>\\n\\n\\t\\t</div>\\n\\t</div>\\n\\t\\n<div id=\"mw-panel\">\\n\\t<div id=\"p-logo\" role=\"banner\">\\n\\t\\t<a class=\"mw-wiki-logo\" href=\"/wiki/Main_Page\"\\n\\t\\t\\ttitle=\"Visit the main page\"></a>\\n\\t</div>\\n\\t<nav id=\"p-navigation\" class=\"mw-portlet mw-portlet-navigation vector-menu vector-menu-portal portal\" aria-labelledby=\"p-navigation-label\" role=\"navigation\" \\n\\t >\\n\\t<h3 id=\"p-navigation-label\" class=\"vector-menu-heading\">\\n\\t\\t<span>Navigation</span>\\n\\t</h3>\\n\\t<div class=\"vector-menu-content\">\\n\\t\\t<ul class=\"vector-menu-content-list\"><li id=\"n-mainpage-description\"><a href=\"/wiki/Main_Page\" title=\"Visit the main page [z]\" accesskey=\"z\">Main page</a></li><li id=\"n-contents\"><a href=\"/wiki/Wikipedia:Contents\" title=\"Guides to browsing Wikipedia\">Contents</a></li><li id=\"n-currentevents\"><a href=\"/wiki/Portal:Current_events\" title=\"Articles related to current events\">Current events</a></li><li id=\"n-randompage\"><a href=\"/wiki/Special:Random\" title=\"Visit a randomly selected article [x]\" accesskey=\"x\">Random article</a></li><li id=\"n-aboutsite\"><a href=\"/wiki/Wikipedia:About\" title=\"Learn about Wikipedia and how it works\">About Wikipedia</a></li><li id=\"n-contactpage\"><a href=\"//en.wikipedia.org/wiki/Wikipedia:Contact_us\" title=\"How to contact Wikipedia\">Contact us</a></li><li id=\"n-sitesupport\"><a href=\"https://donate.wikimedia.org/wiki/Special:FundraiserRedirector?utm_source=donate&amp;utm_medium=sidebar&amp;utm_campaign=C13_en.wikipedia.org&amp;uselang=en\" title=\"Support us by donating to the Wikimedia Foundation\">Donate</a></li></ul>\\n\\t\\t\\n\\t</div>\\n</nav>\\n\\n\\t<nav id=\"p-interaction\" class=\"mw-portlet mw-portlet-interaction vector-menu vector-menu-portal portal\" aria-labelledby=\"p-interaction-label\" role=\"navigation\" \\n\\t >\\n\\t<h3 id=\"p-interaction-label\" class=\"vector-menu-heading\">\\n\\t\\t<span>Contribute</span>\\n\\t</h3>\\n\\t<div class=\"vector-menu-content\">\\n\\t\\t<ul class=\"vector-menu-content-list\"><li id=\"n-help\"><a href=\"/wiki/Help:Contents\" title=\"Guidance on how to use and edit Wikipedia\">Help</a></li><li id=\"n-introduction\"><a href=\"/wiki/Help:Introduction\" title=\"Learn how to edit Wikipedia\">Learn to edit</a></li><li id=\"n-portal\"><a href=\"/wiki/Wikipedia:Community_portal\" title=\"The hub for editors\">Community portal</a></li><li id=\"n-recentchanges\"><a href=\"/wiki/Special:RecentChanges\" title=\"A list of recent changes to Wikipedia [r]\" accesskey=\"r\">Recent changes</a></li><li id=\"n-upload\"><a href=\"/wiki/Wikipedia:File_Upload_Wizard\" title=\"Add images or other media for use on Wikipedia\">Upload file</a></li></ul>\\n\\t\\t\\n\\t</div>\\n</nav>\\n<nav id=\"p-tb\" class=\"mw-portlet mw-portlet-tb vector-menu vector-menu-portal portal\" aria-labelledby=\"p-tb-label\" role=\"navigation\" \\n\\t >\\n\\t<h3 id=\"p-tb-label\" class=\"vector-menu-heading\">\\n\\t\\t<span>Tools</span>\\n\\t</h3>\\n\\t<div class=\"vector-menu-content\">\\n\\t\\t<ul class=\"vector-menu-content-list\"><li id=\"t-whatlinkshere\"><a href=\"/wiki/Special:WhatLinksHere/Rajgad_Fort\" title=\"List of all English Wikipedia pages containing links to this page [j]\" accesskey=\"j\">What links here</a></li><li id=\"t-recentchangeslinked\"><a href=\"/wiki/Special:RecentChangesLinked/Rajgad_Fort\" rel=\"nofollow\" title=\"Recent changes in pages linked from this page [k]\" accesskey=\"k\">Related changes</a></li><li id=\"t-upload\"><a href=\"/wiki/Wikipedia:File_Upload_Wizard\" title=\"Upload files [u]\" accesskey=\"u\">Upload file</a></li><li id=\"t-specialpages\"><a href=\"/wiki/Special:SpecialPages\" title=\"A list of all special pages [q]\" accesskey=\"q\">Special pages</a></li><li id=\"t-permalink\"><a href=\"/w/index.php?title=Rajgad_Fort&amp;oldid=1025588610\" title=\"Permanent link to this revision of this page\">Permanent link</a></li><li id=\"t-info\"><a href=\"/w/index.php?title=Rajgad_Fort&amp;action=info\" title=\"More information about this page\">Page information</a></li><li id=\"t-cite\"><a href=\"/w/index.php?title=Special:CiteThisPage&amp;page=Rajgad_Fort&amp;id=1025588610&amp;wpFormIdentifier=titleform\" title=\"Information on how to cite this page\">Cite this page</a></li><li id=\"t-wikibase\"><a href=\"https://www.wikidata.org/wiki/Special:EntityPage/Q7286112\" title=\"Structured data on this page hosted by Wikidata [g]\" accesskey=\"g\">Wikidata item</a></li></ul>\\n\\t\\t\\n\\t</div>\\n</nav>\\n<nav id=\"p-coll-print_export\" class=\"mw-portlet mw-portlet-coll-print_export vector-menu vector-menu-portal portal\" aria-labelledby=\"p-coll-print_export-label\" role=\"navigation\" \\n\\t >\\n\\t<h3 id=\"p-coll-print_export-label\" class=\"vector-menu-heading\">\\n\\t\\t<span>Print/export</span>\\n\\t</h3>\\n\\t<div class=\"vector-menu-content\">\\n\\t\\t<ul class=\"vector-menu-content-list\"><li id=\"coll-download-as-rl\"><a href=\"/w/index.php?title=Special:DownloadAsPdf&amp;page=Rajgad_Fort&amp;action=show-download-screen\" title=\"Download this page as a PDF file\">Download as PDF</a></li><li id=\"t-print\"><a href=\"/w/index.php?title=Rajgad_Fort&amp;printable=yes\" title=\"Printable version of this page [p]\" accesskey=\"p\">Printable version</a></li></ul>\\n\\t\\t\\n\\t</div>\\n</nav>\\n<nav id=\"p-wikibase-otherprojects\" class=\"mw-portlet mw-portlet-wikibase-otherprojects vector-menu vector-menu-portal portal\" aria-labelledby=\"p-wikibase-otherprojects-label\" role=\"navigation\" \\n\\t >\\n\\t<h3 id=\"p-wikibase-otherprojects-label\" class=\"vector-menu-heading\">\\n\\t\\t<span>In other projects</span>\\n\\t</h3>\\n\\t<div class=\"vector-menu-content\">\\n\\t\\t<ul class=\"vector-menu-content-list\"><li class=\"wb-otherproject-link wb-otherproject-commons\"><a href=\"https://commons.wikimedia.org/wiki/Category:Rajgad_Fort\" hreflang=\"en\">Wikimedia Commons</a></li><li class=\"wb-otherproject-link wb-otherproject-wikivoyage\"><a href=\"https://en.wikivoyage.org/wiki/Rajgad\" hreflang=\"en\">Wikivoyage</a></li></ul>\\n\\t\\t\\n\\t</div>\\n</nav>\\n\\n\\t<nav id=\"p-lang\" class=\"mw-portlet mw-portlet-lang vector-menu vector-menu-portal portal\" aria-labelledby=\"p-lang-label\" role=\"navigation\" \\n\\t >\\n\\t<h3 id=\"p-lang-label\" class=\"vector-menu-heading\">\\n\\t\\t<span>Languages</span>\\n\\t</h3>\\n\\t<div class=\"vector-menu-content\">\\n\\t\\t<ul class=\"vector-menu-content-list\"><li class=\"interlanguage-link interwiki-hi\"><a href=\"https://hi.wikipedia.org/wiki/%E0%A4%B0%E0%A4%BE%E0%A4%9C%E0%A4%97%E0%A4%A2%E0%A4%BC_%E0%A4%95%E0%A4%BE_%E0%A4%95%E0%A4%BF%E0%A4%B2%E0%A4%BE\" title=\"\\xe0\\xa4\\xb0\\xe0\\xa4\\xbe\\xe0\\xa4\\x9c\\xe0\\xa4\\x97\\xe0\\xa4\\xa2\\xe0\\xa4\\xbc \\xe0\\xa4\\x95\\xe0\\xa4\\xbe \\xe0\\xa4\\x95\\xe0\\xa4\\xbf\\xe0\\xa4\\xb2\\xe0\\xa4\\xbe \\xe2\\x80\\x93 Hindi\" lang=\"hi\" hreflang=\"hi\" class=\"interlanguage-link-target\">\\xe0\\xa4\\xb9\\xe0\\xa4\\xbf\\xe0\\xa4\\xa8\\xe0\\xa5\\x8d\\xe0\\xa4\\xa6\\xe0\\xa5\\x80</a></li><li class=\"interlanguage-link interwiki-mr\"><a href=\"https://mr.wikipedia.org/wiki/%E0%A4%B0%E0%A4%BE%E0%A4%9C%E0%A4%97%E0%A4%A1\" title=\"\\xe0\\xa4\\xb0\\xe0\\xa4\\xbe\\xe0\\xa4\\x9c\\xe0\\xa4\\x97\\xe0\\xa4\\xa1 \\xe2\\x80\\x93 Marathi\" lang=\"mr\" hreflang=\"mr\" class=\"interlanguage-link-target\">\\xe0\\xa4\\xae\\xe0\\xa4\\xb0\\xe0\\xa4\\xbe\\xe0\\xa4\\xa0\\xe0\\xa5\\x80</a></li><li class=\"interlanguage-link interwiki-arz\"><a href=\"https://arz.wikipedia.org/wiki/%D8%AC%D8%A8%D9%84_%D8%B1%D8%A7%DA%86%D8%AC%D8%A7%D8%AF_%D9%81%D9%88%D8%B1%D8%AA\" title=\"\\xd8\\xac\\xd8\\xa8\\xd9\\x84 \\xd8\\xb1\\xd8\\xa7\\xda\\x86\\xd8\\xac\\xd8\\xa7\\xd8\\xaf \\xd9\\x81\\xd9\\x88\\xd8\\xb1\\xd8\\xaa \\xe2\\x80\\x93 Egyptian Arabic\" lang=\"arz\" hreflang=\"arz\" class=\"interlanguage-link-target\">\\xd9\\x85\\xd8\\xb5\\xd8\\xb1\\xd9\\x89</a></li><li class=\"interlanguage-link interwiki-pnb\"><a href=\"https://pnb.wikipedia.org/wiki/%D9%82%D9%84%D8%B9%DB%81_%D8%B1%D8%A7%D8%AC_%DA%AF%DA%91%DA%BE\" title=\"\\xd9\\x82\\xd9\\x84\\xd8\\xb9\\xdb\\x81 \\xd8\\xb1\\xd8\\xa7\\xd8\\xac \\xda\\xaf\\xda\\x91\\xda\\xbe \\xe2\\x80\\x93 Western Punjabi\" lang=\"pnb\" hreflang=\"pnb\" class=\"interlanguage-link-target\">\\xd9\\xbe\\xd9\\x86\\xd8\\xac\\xd8\\xa7\\xd8\\xa8\\xdb\\x8c</a></li><li class=\"interlanguage-link interwiki-ur\"><a href=\"https://ur.wikipedia.org/wiki/%D9%82%D9%84%D8%B9%DB%81_%D8%B1%D8%A7%D8%AC_%DA%AF%DA%91%DA%BE\" title=\"\\xd9\\x82\\xd9\\x84\\xd8\\xb9\\xdb\\x81 \\xd8\\xb1\\xd8\\xa7\\xd8\\xac \\xda\\xaf\\xda\\x91\\xda\\xbe \\xe2\\x80\\x93 Urdu\" lang=\"ur\" hreflang=\"ur\" class=\"interlanguage-link-target\">\\xd8\\xa7\\xd8\\xb1\\xd8\\xaf\\xd9\\x88</a></li></ul>\\n\\t\\t<div class=\"after-portlet after-portlet-lang\"><span class=\"wb-langlinks-edit wb-langlinks-link\"><a href=\"https://www.wikidata.org/wiki/Special:EntityPage/Q7286112#sitelinks-wikipedia\" title=\"Edit interlanguage links\" class=\"wbc-editpage\">Edit links</a></span></div>\\n\\t</div>\\n</nav>\\n\\n</div>\\n\\n</div>\\n<footer id=\"footer\" class=\"mw-footer\" role=\"contentinfo\" >\\n\\t<ul id=\"footer-info\" >\\n\\t<li id=\"footer-info-lastmod\"> This page was last edited on 28 May 2021, at 11:25<span class=\"anonymous-show\">&#160;(UTC)</span>.</li>\\n\\t<li id=\"footer-info-copyright\">Text is available under the <a rel=\"license\" href=\"//en.wikipedia.org/wiki/Wikipedia:Text_of_Creative_Commons_Attribution-ShareAlike_3.0_Unported_License\">Creative Commons Attribution-ShareAlike License</a><a rel=\"license\" href=\"//creativecommons.org/licenses/by-sa/3.0/\" style=\"display:none;\"></a>;\\nadditional terms may apply.  By using this site, you agree to the <a href=\"//foundation.wikimedia.org/wiki/Terms_of_Use\">Terms of Use</a> and <a href=\"//foundation.wikimedia.org/wiki/Privacy_policy\">Privacy Policy</a>. Wikipedia\\xc2\\xae is a registered trademark of the <a href=\"//www.wikimediafoundation.org/\">Wikimedia Foundation, Inc.</a>, a non-profit organization.</li>\\n</ul>\\n\\n\\t<ul id=\"footer-places\" >\\n\\t<li id=\"footer-places-privacy\"><a href=\"https://foundation.wikimedia.org/wiki/Privacy_policy\" class=\"extiw\" title=\"wmf:Privacy policy\">Privacy policy</a></li>\\n\\t<li id=\"footer-places-about\"><a href=\"/wiki/Wikipedia:About\" title=\"Wikipedia:About\">About Wikipedia</a></li>\\n\\t<li id=\"footer-places-disclaimer\"><a href=\"/wiki/Wikipedia:General_disclaimer\" title=\"Wikipedia:General disclaimer\">Disclaimers</a></li>\\n\\t<li id=\"footer-places-contact\"><a href=\"//en.wikipedia.org/wiki/Wikipedia:Contact_us\">Contact Wikipedia</a></li>\\n\\t<li id=\"footer-places-mobileview\"><a href=\"//en.m.wikipedia.org/w/index.php?title=Rajgad_Fort&amp;mobileaction=toggle_view_mobile\" class=\"noprint stopMobileRedirectToggle\">Mobile view</a></li>\\n\\t<li id=\"footer-places-developers\"><a href=\"https://www.mediawiki.org/wiki/Special:MyLanguage/How_to_contribute\">Developers</a></li>\\n\\t<li id=\"footer-places-statslink\"><a href=\"https://stats.wikimedia.org/#/en.wikipedia.org\">Statistics</a></li>\\n\\t<li id=\"footer-places-cookiestatement\"><a href=\"https://foundation.wikimedia.org/wiki/Cookie_statement\">Cookie statement</a></li>\\n</ul>\\n\\n\\t<ul id=\"footer-icons\" class=\"noprint\">\\n\\t<li id=\"footer-copyrightico\"><a href=\"https://wikimediafoundation.org/\"><img src=\"/static/images/footer/wikimedia-button.png\" srcset=\"/static/images/footer/wikimedia-button-1.5x.png 1.5x, /static/images/footer/wikimedia-button-2x.png 2x\" width=\"88\" height=\"31\" alt=\"Wikimedia Foundation\" loading=\"lazy\" /></a></li>\\n\\t<li id=\"footer-poweredbyico\"><a href=\"https://www.mediawiki.org/\"><img src=\"/static/images/footer/poweredby_mediawiki_88x31.png\" alt=\"Powered by MediaWiki\" srcset=\"/static/images/footer/poweredby_mediawiki_132x47.png 1.5x, /static/images/footer/poweredby_mediawiki_176x62.png 2x\" width=\"88\" height=\"31\" loading=\"lazy\"/></a></li>\\n</ul>\\n\\n</footer>\\n\\n\\n<script>(RLQ=window.RLQ||[]).push(function(){mw.config.set({\"wgPageParseReport\":{\"limitreport\":{\"cputime\":\"0.782\",\"walltime\":\"1.039\",\"ppvisitednodes\":{\"value\":2740,\"limit\":1000000},\"postexpandincludesize\":{\"value\":125684,\"limit\":2097152},\"templateargumentsize\":{\"value\":5926,\"limit\":2097152},\"expansiondepth\":{\"value\":15,\"limit\":40},\"expensivefunctioncount\":{\"value\":6,\"limit\":500},\"unstrip-depth\":{\"value\":1,\"limit\":20},\"unstrip-size\":{\"value\":21603,\"limit\":5000000},\"entityaccesscount\":{\"value\":0,\"limit\":400},\"timingprofile\":[\"100.00%  827.172      1 -total\",\" 23.13%  191.321      1 Template:Infobox_military_installation\",\" 21.26%  175.895      1 Template:Infobox\",\" 16.45%  136.065      1 Template:Reflist\",\" 11.93%   98.669      1 Template:Cite_book\",\" 10.47%   86.623      1 Template:Short_description\",\" 10.26%   84.858      3 Template:Citation_needed\",\"  8.76%   72.470      3 Template:Fix\",\"  8.36%   69.114      1 Template:Location_map\",\"  7.37%   60.999      3 Template:Navbox\"]},\"scribunto\":{\"limitreport-timeusage\":{\"value\":\"0.320\",\"limit\":\"10.000\"},\"limitreport-memusage\":{\"value\":7805663,\"limit\":52428800}},\"cachereport\":{\"origin\":\"mw1279\",\"timestamp\":\"20210528112507\",\"ttl\":1814400,\"transientcontent\":false}}});});</script>\\n<script type=\"application/ld+json\">{\"@context\":\"https:\\\\/\\\\/schema.org\",\"@type\":\"Article\",\"name\":\"Rajgad Fort\",\"url\":\"https:\\\\/\\\\/en.wikipedia.org\\\\/wiki\\\\/Rajgad_Fort\",\"sameAs\":\"http:\\\\/\\\\/www.wikidata.org\\\\/entity\\\\/Q7286112\",\"mainEntity\":\"http:\\\\/\\\\/www.wikidata.org\\\\/entity\\\\/Q7286112\",\"author\":{\"@type\":\"Organization\",\"name\":\"Contributors to Wikimedia projects\"},\"publisher\":{\"@type\":\"Organization\",\"name\":\"Wikimedia Foundation, Inc.\",\"logo\":{\"@type\":\"ImageObject\",\"url\":\"https:\\\\/\\\\/www.wikimedia.org\\\\/static\\\\/images\\\\/wmf-hor-googpub.png\"}},\"datePublished\":\"2007-07-27T05:44:06Z\",\"dateModified\":\"2021-05-28T11:25:06Z\",\"image\":\"https:\\\\/\\\\/upload.wikimedia.org\\\\/wikipedia\\\\/commons\\\\/1\\\\/14\\\\/India_Maharashtra_location_map.svg\",\"headline\":\"Hill fort in Pune district, Maharashtra, India\"}</script>\\n<script>(RLQ=window.RLQ||[]).push(function(){mw.config.set({\"wgBackendResponseTime\":147,\"wgHostname\":\"mw1333\"});});</script>\\n</body></html>'"
      ]
     },
     "execution_count": 29,
     "metadata": {},
     "output_type": "execute_result"
    }
   ],
   "source": [
    "response = urllib.request.urlopen('https://en.wikipedia.org/wiki/Rajgad_Fort')\n",
    "html = response.read()\n",
    "html"
   ]
  },
  {
   "cell_type": "code",
   "execution_count": 30,
   "id": "endangered-brooks",
   "metadata": {},
   "outputs": [],
   "source": [
    "from bs4 import BeautifulSoup"
   ]
  },
  {
   "cell_type": "code",
   "execution_count": 31,
   "id": "durable-brunswick",
   "metadata": {},
   "outputs": [
    {
     "data": {
      "text/plain": [
       "'Rajgad Fort - WikipediaRajgad FortFrom Wikipedia, the free encyclopediaJump to navigationJump to searchHill fort in Pune district, Maharashtra, IndiaNot to be confused withRaigad Fort.Rajgad FortPart of on MaharashtraPune District,MaharashtraRajgad FortShown withinMaharashtraShow map of MaharashtraRajgad FortRajgad Fort (India)Show map of IndiaCoordinates18°14′48″N73°40′56″E\\ufeff / \\ufeff18.2467°N 73.6823°E\\ufeff /18.2467; 73.6823TypeHill fortHeight1376 mRajgad(literal meaningRuling Fort) is a hill fort situated in thePunedistrict ofMaharashtra,India. Formerly known asMurumdev, the fort was the capital of theMaratha Empireunder the rule ofChatrapati Shivaji Maharajfor almost 26 years, after which the capital was moved to theRaigad Fort.[1]Treasures discovered from an adjacent fort called Torna were used to completely build and fortify the Rajgad Fort.[citation needed]The Rajgad Fort is located around 60\\xa0km (37\\xa0mi) to the south-west of Pune and about 15\\xa0km (9.3\\xa0mi) west ofNasrapurin theSahyadrisrange. The fort lies 1,376\\xa0m (4,514\\xa0ft) above the sea level. The diameter of the base of the fort was about 40\\xa0km (25\\xa0mi) which made it difficult to lay siege on it, which added to its strategic value. The fort\\'s ruins consist of palaces, water cisterns, and caves. This fort was built on a hill called Murumbadevi Dongar (Mountain of the Goddess Murumba). Rajgad boasts of the highest number of days stayed by Chatrapati Shivaji Maharaj on any fort.[citation needed]Contents1History1.1List of Chronological events2Tourism3Gallery4See also5References6External linksHistory[edit]The fort has stood witness to many significant historic events including the birth of Chatrapati Shivaji Maharaj\\'s sonRajaram I, the death of Chatrapati Shivaji Maharaj\\'s QueenSaibai, the return ofChatrapati Shivaji MaharajfromAgra, the burial ofAfzal Khan\\'s head in the Mahadarwaja walls of Balle Killa, the strict words of Sonopant Dabir toChhatrapati Shivaji Maharaj.[citation needed]The Rajgad Fort was also one of the 12 forts thatChatrapati Shivaji Maharajkept when he signed theTreaty of Purandarin 1665, with the Mughal generalJai Singh I, leader of the Mughal forces. Under this treaty, 23 forts were handed over to the Mughals.[2]List of Chronological events[edit]YearDateEvent1490Ahmed Bahiri Nizamshahcaptured the fort.1626During the Nizam\\'s last struggle, Adilshah captured the fort.1630The fort was recaptured by Nizamshah with the help ofShahaji.1642The fort was  in thejagirof Shahaji Raje.1647Chatrapati Shivaji Maharaj captured the fort.1649Repairs on the fort began and Shamrao Neelkanth Ranzekar was appointed as thePeshwa.1654The fort was renamed as \"Rajgad\". Construction on new fortifications and buildings commenced.165814 JanuaryChatrapati Shivaji Maharaj returned to Rajgad after conquering North Konkan.165911 JulyChatrapati Shivaji Maharaj shifted toPratapgadin order to battle withAfzal Khan.16595 SeptemberMaharani Saibai(Chatrapati Shivaji Maharaj\\'s wife) died in the Rajgad Fort.1660JulyChatrapati Shivaji Maharaj escaped from Siddi Jouhar\\'s siege of Panhala and came to Rajgad.1661JulyThe idol ofBhavanimata, which was to be established inPratapgad, was first brought to Rajgad to be inspected byJijabai.1662JanuaryThe construction of the Rajgad fort was completed and Chatrapati Shivaji Maharaj returned to the fort after capturing Pen and Kalyan.1664FebruaryThe booty of Surat was brought to Rajgad.166530 AprilThe Mughals were unsuccessful on their attack of the fort.1665JuneChatrapati Shivaji Maharaj\\'s letter of accepting defeat was sent to Jaisingh.167024 FebruaryRajaram was born on the Fort.1671The repairing of the fort began at an expected cost of 10,000 hons.1689JuneThe fort was captured by the Mughals afterSambhaji Maharajwas murdered.1692Shankarji Narayan captured the fort from the Mughals.1697Rajaram returned to Maharashtra and made Rajgad his new capital[1]17014 AugustShahaji Mohite was made the havaldar of Padmavati Machi170418 FebruaryThe fort was handed over toAurangzebas part of a treaty. The fort was renamed toNabishahagad.  Sidojirao Thopte and Santaji Shilimkar were killed here by Aurangzeb.170729 MayGunaji Sawant captured the fort and The Maratha War of Independence ended.1709Chhattrapati Shahumade provisions for the repairs of the fort.1818The Rajgad Fort passed into the hands of the British.Tourism[edit]The fort is a significant tourist destination and is most sought after especially duringmonsoon. Visitors prefer to stay overnight on the fort considering the fort itself is huge and cannot be explored in a single day. The Padmavati temple on the fort can accommodate around 50 people. Water tanks provide fresh water all throughout the year. Villagers from the foothills of Rajgad sell local antiques and items to these tourists.Gallery[edit]The FortBale Killa, RajgadBallekilla, RajgadSanjivani Machi-view from Rajgad MahadwarRajgadSee also[edit]India portalRajgad fort full information in hindiList of forts in MaharashtraReferences[edit]^abProf. A. R. Kulkarni (1 July 2008). \"Rajgad: The first capital of Chatrapati Shivaji Maharaj\".Medieval Maratha Country. Diamond Publications.ISBN978-81-8483-072-9.^\"Rajgarh Fort History\". Travelomy. Retrieved8 February2012.External links[edit]Wikimedia Commons has media related toRajgad Fort.Amazing MaharashtraPune TrekkersvteForts inMaharashtraAhmednagar districtAhmednagar FortBahadurgadBhairavgadBitangadHarishchandragadKaladgadKhardaKunjargadMadan FortManjarsumbha fortPabargadPatta FortRatangadAkola districtAkola FortBalapurNarnalaAmravati districtAmner FortGawilghurAurangabad districtAntur FortDaulatabad FortChandrapur districtChandrapur FortBallarpur FortBhadravati FortManikgadDhule districtBhamerLalingThalnerKolhapur districtBhudargadGandharvgadPanhalaPargadhPavangadSamangadVishalgadLatur districtUdgirMumbai City districtBombay CastleDongri FortFort GeorgeMahim FortMazagon FortRiwa FortSewri FortSion Hillock FortWorli FortMumbai Suburban districtCastella de AguadaMadhNagpur districtSitabuldiNanded districtKandhar FortNashik districtAavandhagadAchala FortAhivant FortAlangAnjaneriAnkai FortBahulagadBhaskargadChandwadChauler FortDermalDhodapHargadHarihar fortHatgadIndraiKanchangadKanhergadKavnai fortKulangMadangadMalegaonMangi-TungiMoragadMulherNhavigadRajdher fortRamsejSalherSalotaSaptashrungiTankai fortTringalwadiWagheraOsmanabad districtNaldurg FortParanda FortPalghar districtBasseinTandulwadiPune districtAnghaai FortBhorgiri FortChawandDhakobaGhangadHadsar FortInduri FortJivdhanKailasgadKawlaKorigad/KoraigadLohagadMalhargadManaranjanMangalgadMorgiri FortNarayangadNimgiriPurandarRajgadRajmachiRayri FortRohidaSangram DurgSindola FortShaniwar WadaShivneriShrivardhanSinhagadTikonaTornaTungVajragad FortVisapurRaigad districtAgarkotAvchitgadBhimashankar FortBhiwgadBirwadiChambhargadChandragadDhak BahiriDronagiriGadad BahiriGhangadGhosalgadIrshalgadKarnalaKhaderiKhanderiKondhawi FortKorlaiKothaligadPeb fortKulabaKurdugadLinganaMaangadMadgadMalanggadMangalgad (Kangori)ManikgadMirgadMrugagadMurud-JanjiraPadargadPadmadurg/Kasa FortPrabalgadRaigadRatnagadRevdandaSagargadSamrajgadSankshi FortSarasgadSarjekotSongadSongiri FortSudhagadSurgadTalagadUnderiVikatgadPeb fortRatnagiri districtAambolgadAnjanwelBankotFattedurgGopalgadGovindgadGowalkotJaigadKanakdurgMahipatgadMandangadPrachitgadPrunagadRasalgadRatnagiri Fort/RatnadurgSumargadSuvarnadurgYashwantgadSatara districtAjinkyataraBhairavgadBhushangadChandan-VandanDategadGunavantgadJangali JayagadKalyangadKamalgadKenjalgadMahimangadPandavgadPrachitgadPratapgadSajjangadSantoshgadVairatgadVardhangadVarugadVasantgadVasotaSindhudurg districtAasavgadBharatgadRajkot FortSanrjekotSindhudurgVijaydurgThane districtAajobagadAasawaArnalaAsherigadBallalgadBalwantgadBelapur FortBhairavgadBhandargadBhavanigadBhupatgadChanderigadDahanugadDaulatmandalDharaviDurgadi FortGambhirgadGhodbunder FortGorakhgadGotaraJivdhaanigadKaldurgKamandurgKelwegadKohojgadMahuliMalang gadPalasgadPankotTahuliSegwaShirgav FortSiddhgadTarapur FortvteForts in IndiaVijayanagaraGingeeBangaloreUdayagiriVelloreDeccan sultanatesAhmednagarDaulatabadGawilghurGolcondaNarnalaPanhalaGujarat SultanateBhadraDelhi SultanateAligarhBandhavgarhHathrasQila MubarakSiriTughlaqabadSalimgarhNayak dynastyChitradurgaBekalDindigulGingeeTiruchirapalli RockChandragiri FortHosdurgMalwa SultanateMandsaurMandavgadhFaruqi dynastyAsirgarhLalingThalnerRajputsAchalgarhAmberBhangarhChittorJaigarhJaisalmerJaloreJunagarhKankwadiKumbhalgarhNahargarhQila Rai PithoraTaragarhLal KotGwaliorKalinjarHinglajgarhMehrangarhNarwarSenapati fortressSabalgarhBahuKangraRanthamboreBhatner fortMaratha EmpireDongriHarishchandragadKolabaLohagadSudhagadSinhagadTikonaPanhalaPratapgadVishalgadRajgadSindhudurgVijaydurgShivneriRaigadGajendragarhGingeeShaniwar WadaJhansiHinglajgarhManoraVisapurSadashivgadMughal EmpirePurana QilaChanderiAgraAllahabadFatehpur SikriRedAkolaHari ParbatRamnagarJatBawana FortGohadLohagarhNahar Singh MahalKingdom of MysoreDevanahalliPalakkadBekalSankagiriSiddiMurud-JanjiraBelapurUnderiTravancoreVattakottaiUdayagiriEastPortugueseBassein FortBombay CastleMahimArnalaCastella de AguadaDiu FortSurat CastleFortim do Mar, DiuFortim do Mar, SimborEmmanuelFort AnjedivaKorlaiMadh FortSt Thomas, TangasseriSt. AngeloPallipuramAguadaFort TiracolAnjedivaCranganoreGhodbunderFortaleza de ChaulPonda FortChapora FortFortaleza de São Sebastião de TivimCabo de RamaCorjuem FortMormugão fortRachol FortFort of São Tiago of BanastarimSikh EmpireJamrudKamlahMultanHarkishangarhLahoreBritish RajAnchuthenguSt. GeorgeWilliamBombayRiwaWorliMazagonSion HillockSewriMahimTellicherrySt. DavidSur EmpireChunarRohtasgarhMungerEastern Ganga dynastyBarabatiRaibaniaAhom dynastyTalatal GharKareng GharRang GharGarchuk Lachit GarhKakatiya dynastyWarangalBahmani SultanateBidarGulbargavteMaratha EmpireRulersShivajiSambhajiRajaram ITarabaiShahu IRajaram IIShahu IIPratap SinghPeshwasMoropant Trimbak PingleMoreshvar PingaleRamchandra Pant AmatyaBahiroji PingaleBalaji VishwanathBaji Rao IBalaji Baji RaoMadhavrao BallalNarayan RaoRaghunathraoSawai MadhavraoBaji Rao IIAmrut RaoNana SahibBhat familyAmatyaRamchandra Pant AmatyaPratinidhiPralhad NirajiParshuram Pant Pratinidhi(hereditary)Shripatrao Pant PratinidhiJagjivanrao Pant PratinidhiWomenAhilyabai HolkarAnandibaiGopikabaiJankibaiJijabaiKashibaiMastaniMuddupalaniParvatibaiPutalabaiRamabaiSaibaiSakvarbaiSoyarabaiUmabai DabhadeTulsi Bai HolkarMaratha ConfederacyBhonsle of NagpurGaekwad of BarodaScindia of GwaliorHolkar of IndorePatwardhan dynastyBattlesPratapgarhKolhapurPavan KhindChakanSuratPurandarSinhagadKalyanBhupalgarhSangamnerBijapurRaigarh (1689)JinjiSataraKhelnaRaigarhTornaPalkhedMandsaur1st DelhiBhopalVasaiGajendragad1st TrichinopolyKatwa (1st)2nd TrichinopolyKatwa (2nd)Invasions of BengalBurdwanUdgir2nd DelhiAttockPeshawar3rd PanipatAlegaonRakshabhuvanCapture of DelhiPanchgaonSaunshiWadgaonAdoniBadamiSavanurBahadur BendaLalsotChaksanaPatanKhardaPoona3rd DelhiAssayeLaswariFarrukhabadBharatpurKhadkiKoregaonMahidpurWarsMaratha-Mughal War of 27 yearsMaratha–Mysore WarFirst Anglo-Maratha WarSecond Anglo-Maratha WarThird Anglo-Maratha WarAdversariesAdilshahiQutbshahiMughal EmpireDurrani EmpireBritish EmpirePortuguese EmpireNizam of HyderabadMysoreFortsFort MangadPanhalaPratapgadPurandarRaigadRajgadShaniwar WadaShivneriSindhudurgSinhagadTornaCoinsShivraiRetrieved from \"https://en.wikipedia.org/w/index.php?title=Rajgad_Fort&oldid=1025588610\"Categories:Forts in Pune districtFormer capital cities in IndiaHidden categories:Articles with short descriptionShort description matches WikidataUse dmy dates from July 2017Use Indian English from July 2017All Wikipedia articles written in Indian EnglishAll articles with unsourced statementsArticles with unsourced statements from July 2017Commons category link is on WikidataNavigation menuPersonal toolsNot logged inTalkContributionsCreate accountLog inNamespacesArticleTalkVariantsViewsReadEditView historyMoreSearchNavigationMain pageContentsCurrent eventsRandom articleAbout WikipediaContact usDonateContributeHelpLearn to editCommunity portalRecent changesUpload fileToolsWhat links hereRelated changesUpload fileSpecial pagesPermanent linkPage informationCite this pageWikidata itemPrint/exportDownload as PDFPrintable versionIn other projectsWikimedia CommonsWikivoyageLanguagesहिन्दीमराठीمصرىپنجابیاردوEdit linksThis page was last edited on 28 May 2021, at 11:25(UTC).Text is available under theCreative Commons Attribution-ShareAlike License;\\nadditional terms may apply.  By using this site, you agree to theTerms of UseandPrivacy Policy. Wikipedia® is a registered trademark of theWikimedia Foundation, Inc., a non-profit organization.Privacy policyAbout WikipediaDisclaimersContact WikipediaMobile viewDevelopersStatisticsCookie statement'"
      ]
     },
     "execution_count": 31,
     "metadata": {},
     "output_type": "execute_result"
    }
   ],
   "source": [
    "soup = BeautifulSoup(html, \"html.parser\")\n",
    "text = soup.get_text(strip=True)\n",
    "text"
   ]
  },
  {
   "cell_type": "code",
   "execution_count": 32,
   "id": "endangered-headset",
   "metadata": {},
   "outputs": [
    {
     "data": {
      "text/plain": [
       "['Rajgad',\n",
       " 'Fort',\n",
       " '-',\n",
       " 'WikipediaRajgad',\n",
       " 'FortFrom',\n",
       " 'Wikipedia,',\n",
       " 'the',\n",
       " 'free',\n",
       " 'encyclopediaJump',\n",
       " 'to',\n",
       " 'navigationJump',\n",
       " 'to',\n",
       " 'searchHill',\n",
       " 'fort',\n",
       " 'in',\n",
       " 'Pune',\n",
       " 'district,',\n",
       " 'Maharashtra,',\n",
       " 'IndiaNot',\n",
       " 'to',\n",
       " 'be',\n",
       " 'confused',\n",
       " 'withRaigad',\n",
       " 'Fort.Rajgad',\n",
       " 'FortPart',\n",
       " 'of',\n",
       " 'on',\n",
       " 'MaharashtraPune',\n",
       " 'District,MaharashtraRajgad',\n",
       " 'FortShown',\n",
       " 'withinMaharashtraShow',\n",
       " 'map',\n",
       " 'of',\n",
       " 'MaharashtraRajgad',\n",
       " 'FortRajgad',\n",
       " 'Fort',\n",
       " '(India)Show',\n",
       " 'map',\n",
       " 'of',\n",
       " 'IndiaCoordinates18°14′48″N73°40′56″E\\ufeff',\n",
       " '/',\n",
       " '\\ufeff18.2467°N',\n",
       " '73.6823°E\\ufeff',\n",
       " '/18.2467;',\n",
       " '73.6823TypeHill',\n",
       " 'fortHeight1376',\n",
       " 'mRajgad(literal',\n",
       " 'meaningRuling',\n",
       " 'Fort)',\n",
       " 'is',\n",
       " 'a',\n",
       " 'hill',\n",
       " 'fort',\n",
       " 'situated',\n",
       " 'in',\n",
       " 'thePunedistrict',\n",
       " 'ofMaharashtra,India.',\n",
       " 'Formerly',\n",
       " 'known',\n",
       " 'asMurumdev,',\n",
       " 'the',\n",
       " 'fort',\n",
       " 'was',\n",
       " 'the',\n",
       " 'capital',\n",
       " 'of',\n",
       " 'theMaratha',\n",
       " 'Empireunder',\n",
       " 'the',\n",
       " 'rule',\n",
       " 'ofChatrapati',\n",
       " 'Shivaji',\n",
       " 'Maharajfor',\n",
       " 'almost',\n",
       " '26',\n",
       " 'years,',\n",
       " 'after',\n",
       " 'which',\n",
       " 'the',\n",
       " 'capital',\n",
       " 'was',\n",
       " 'moved',\n",
       " 'to',\n",
       " 'theRaigad',\n",
       " 'Fort.[1]Treasures',\n",
       " 'discovered',\n",
       " 'from',\n",
       " 'an',\n",
       " 'adjacent',\n",
       " 'fort',\n",
       " 'called',\n",
       " 'Torna',\n",
       " 'were',\n",
       " 'used',\n",
       " 'to',\n",
       " 'completely',\n",
       " 'build',\n",
       " 'and',\n",
       " 'fortify',\n",
       " 'the',\n",
       " 'Rajgad',\n",
       " 'Fort.[citation',\n",
       " 'needed]The',\n",
       " 'Rajgad',\n",
       " 'Fort',\n",
       " 'is',\n",
       " 'located',\n",
       " 'around',\n",
       " '60',\n",
       " 'km',\n",
       " '(37',\n",
       " 'mi)',\n",
       " 'to',\n",
       " 'the',\n",
       " 'south-west',\n",
       " 'of',\n",
       " 'Pune',\n",
       " 'and',\n",
       " 'about',\n",
       " '15',\n",
       " 'km',\n",
       " '(9.3',\n",
       " 'mi)',\n",
       " 'west',\n",
       " 'ofNasrapurin',\n",
       " 'theSahyadrisrange.',\n",
       " 'The',\n",
       " 'fort',\n",
       " 'lies',\n",
       " '1,376',\n",
       " 'm',\n",
       " '(4,514',\n",
       " 'ft)',\n",
       " 'above',\n",
       " 'the',\n",
       " 'sea',\n",
       " 'level.',\n",
       " 'The',\n",
       " 'diameter',\n",
       " 'of',\n",
       " 'the',\n",
       " 'base',\n",
       " 'of',\n",
       " 'the',\n",
       " 'fort',\n",
       " 'was',\n",
       " 'about',\n",
       " '40',\n",
       " 'km',\n",
       " '(25',\n",
       " 'mi)',\n",
       " 'which',\n",
       " 'made',\n",
       " 'it',\n",
       " 'difficult',\n",
       " 'to',\n",
       " 'lay',\n",
       " 'siege',\n",
       " 'on',\n",
       " 'it,',\n",
       " 'which',\n",
       " 'added',\n",
       " 'to',\n",
       " 'its',\n",
       " 'strategic',\n",
       " 'value.',\n",
       " 'The',\n",
       " \"fort's\",\n",
       " 'ruins',\n",
       " 'consist',\n",
       " 'of',\n",
       " 'palaces,',\n",
       " 'water',\n",
       " 'cisterns,',\n",
       " 'and',\n",
       " 'caves.',\n",
       " 'This',\n",
       " 'fort',\n",
       " 'was',\n",
       " 'built',\n",
       " 'on',\n",
       " 'a',\n",
       " 'hill',\n",
       " 'called',\n",
       " 'Murumbadevi',\n",
       " 'Dongar',\n",
       " '(Mountain',\n",
       " 'of',\n",
       " 'the',\n",
       " 'Goddess',\n",
       " 'Murumba).',\n",
       " 'Rajgad',\n",
       " 'boasts',\n",
       " 'of',\n",
       " 'the',\n",
       " 'highest',\n",
       " 'number',\n",
       " 'of',\n",
       " 'days',\n",
       " 'stayed',\n",
       " 'by',\n",
       " 'Chatrapati',\n",
       " 'Shivaji',\n",
       " 'Maharaj',\n",
       " 'on',\n",
       " 'any',\n",
       " 'fort.[citation',\n",
       " 'needed]Contents1History1.1List',\n",
       " 'of',\n",
       " 'Chronological',\n",
       " 'events2Tourism3Gallery4See',\n",
       " 'also5References6External',\n",
       " 'linksHistory[edit]The',\n",
       " 'fort',\n",
       " 'has',\n",
       " 'stood',\n",
       " 'witness',\n",
       " 'to',\n",
       " 'many',\n",
       " 'significant',\n",
       " 'historic',\n",
       " 'events',\n",
       " 'including',\n",
       " 'the',\n",
       " 'birth',\n",
       " 'of',\n",
       " 'Chatrapati',\n",
       " 'Shivaji',\n",
       " \"Maharaj's\",\n",
       " 'sonRajaram',\n",
       " 'I,',\n",
       " 'the',\n",
       " 'death',\n",
       " 'of',\n",
       " 'Chatrapati',\n",
       " 'Shivaji',\n",
       " \"Maharaj's\",\n",
       " 'QueenSaibai,',\n",
       " 'the',\n",
       " 'return',\n",
       " 'ofChatrapati',\n",
       " 'Shivaji',\n",
       " 'MaharajfromAgra,',\n",
       " 'the',\n",
       " 'burial',\n",
       " 'ofAfzal',\n",
       " \"Khan's\",\n",
       " 'head',\n",
       " 'in',\n",
       " 'the',\n",
       " 'Mahadarwaja',\n",
       " 'walls',\n",
       " 'of',\n",
       " 'Balle',\n",
       " 'Killa,',\n",
       " 'the',\n",
       " 'strict',\n",
       " 'words',\n",
       " 'of',\n",
       " 'Sonopant',\n",
       " 'Dabir',\n",
       " 'toChhatrapati',\n",
       " 'Shivaji',\n",
       " 'Maharaj.[citation',\n",
       " 'needed]The',\n",
       " 'Rajgad',\n",
       " 'Fort',\n",
       " 'was',\n",
       " 'also',\n",
       " 'one',\n",
       " 'of',\n",
       " 'the',\n",
       " '12',\n",
       " 'forts',\n",
       " 'thatChatrapati',\n",
       " 'Shivaji',\n",
       " 'Maharajkept',\n",
       " 'when',\n",
       " 'he',\n",
       " 'signed',\n",
       " 'theTreaty',\n",
       " 'of',\n",
       " 'Purandarin',\n",
       " '1665,',\n",
       " 'with',\n",
       " 'the',\n",
       " 'Mughal',\n",
       " 'generalJai',\n",
       " 'Singh',\n",
       " 'I,',\n",
       " 'leader',\n",
       " 'of',\n",
       " 'the',\n",
       " 'Mughal',\n",
       " 'forces.',\n",
       " 'Under',\n",
       " 'this',\n",
       " 'treaty,',\n",
       " '23',\n",
       " 'forts',\n",
       " 'were',\n",
       " 'handed',\n",
       " 'over',\n",
       " 'to',\n",
       " 'the',\n",
       " 'Mughals.[2]List',\n",
       " 'of',\n",
       " 'Chronological',\n",
       " 'events[edit]YearDateEvent1490Ahmed',\n",
       " 'Bahiri',\n",
       " 'Nizamshahcaptured',\n",
       " 'the',\n",
       " 'fort.1626During',\n",
       " 'the',\n",
       " \"Nizam's\",\n",
       " 'last',\n",
       " 'struggle,',\n",
       " 'Adilshah',\n",
       " 'captured',\n",
       " 'the',\n",
       " 'fort.1630The',\n",
       " 'fort',\n",
       " 'was',\n",
       " 'recaptured',\n",
       " 'by',\n",
       " 'Nizamshah',\n",
       " 'with',\n",
       " 'the',\n",
       " 'help',\n",
       " 'ofShahaji.1642The',\n",
       " 'fort',\n",
       " 'was',\n",
       " 'in',\n",
       " 'thejagirof',\n",
       " 'Shahaji',\n",
       " 'Raje.1647Chatrapati',\n",
       " 'Shivaji',\n",
       " 'Maharaj',\n",
       " 'captured',\n",
       " 'the',\n",
       " 'fort.1649Repairs',\n",
       " 'on',\n",
       " 'the',\n",
       " 'fort',\n",
       " 'began',\n",
       " 'and',\n",
       " 'Shamrao',\n",
       " 'Neelkanth',\n",
       " 'Ranzekar',\n",
       " 'was',\n",
       " 'appointed',\n",
       " 'as',\n",
       " 'thePeshwa.1654The',\n",
       " 'fort',\n",
       " 'was',\n",
       " 'renamed',\n",
       " 'as',\n",
       " '\"Rajgad\".',\n",
       " 'Construction',\n",
       " 'on',\n",
       " 'new',\n",
       " 'fortifications',\n",
       " 'and',\n",
       " 'buildings',\n",
       " 'commenced.165814',\n",
       " 'JanuaryChatrapati',\n",
       " 'Shivaji',\n",
       " 'Maharaj',\n",
       " 'returned',\n",
       " 'to',\n",
       " 'Rajgad',\n",
       " 'after',\n",
       " 'conquering',\n",
       " 'North',\n",
       " 'Konkan.165911',\n",
       " 'JulyChatrapati',\n",
       " 'Shivaji',\n",
       " 'Maharaj',\n",
       " 'shifted',\n",
       " 'toPratapgadin',\n",
       " 'order',\n",
       " 'to',\n",
       " 'battle',\n",
       " 'withAfzal',\n",
       " 'Khan.16595',\n",
       " 'SeptemberMaharani',\n",
       " 'Saibai(Chatrapati',\n",
       " 'Shivaji',\n",
       " \"Maharaj's\",\n",
       " 'wife)',\n",
       " 'died',\n",
       " 'in',\n",
       " 'the',\n",
       " 'Rajgad',\n",
       " 'Fort.1660JulyChatrapati',\n",
       " 'Shivaji',\n",
       " 'Maharaj',\n",
       " 'escaped',\n",
       " 'from',\n",
       " 'Siddi',\n",
       " \"Jouhar's\",\n",
       " 'siege',\n",
       " 'of',\n",
       " 'Panhala',\n",
       " 'and',\n",
       " 'came',\n",
       " 'to',\n",
       " 'Rajgad.1661JulyThe',\n",
       " 'idol',\n",
       " 'ofBhavanimata,',\n",
       " 'which',\n",
       " 'was',\n",
       " 'to',\n",
       " 'be',\n",
       " 'established',\n",
       " 'inPratapgad,',\n",
       " 'was',\n",
       " 'first',\n",
       " 'brought',\n",
       " 'to',\n",
       " 'Rajgad',\n",
       " 'to',\n",
       " 'be',\n",
       " 'inspected',\n",
       " 'byJijabai.1662JanuaryThe',\n",
       " 'construction',\n",
       " 'of',\n",
       " 'the',\n",
       " 'Rajgad',\n",
       " 'fort',\n",
       " 'was',\n",
       " 'completed',\n",
       " 'and',\n",
       " 'Chatrapati',\n",
       " 'Shivaji',\n",
       " 'Maharaj',\n",
       " 'returned',\n",
       " 'to',\n",
       " 'the',\n",
       " 'fort',\n",
       " 'after',\n",
       " 'capturing',\n",
       " 'Pen',\n",
       " 'and',\n",
       " 'Kalyan.1664FebruaryThe',\n",
       " 'booty',\n",
       " 'of',\n",
       " 'Surat',\n",
       " 'was',\n",
       " 'brought',\n",
       " 'to',\n",
       " 'Rajgad.166530',\n",
       " 'AprilThe',\n",
       " 'Mughals',\n",
       " 'were',\n",
       " 'unsuccessful',\n",
       " 'on',\n",
       " 'their',\n",
       " 'attack',\n",
       " 'of',\n",
       " 'the',\n",
       " 'fort.1665JuneChatrapati',\n",
       " 'Shivaji',\n",
       " \"Maharaj's\",\n",
       " 'letter',\n",
       " 'of',\n",
       " 'accepting',\n",
       " 'defeat',\n",
       " 'was',\n",
       " 'sent',\n",
       " 'to',\n",
       " 'Jaisingh.167024',\n",
       " 'FebruaryRajaram',\n",
       " 'was',\n",
       " 'born',\n",
       " 'on',\n",
       " 'the',\n",
       " 'Fort.1671The',\n",
       " 'repairing',\n",
       " 'of',\n",
       " 'the',\n",
       " 'fort',\n",
       " 'began',\n",
       " 'at',\n",
       " 'an',\n",
       " 'expected',\n",
       " 'cost',\n",
       " 'of',\n",
       " '10,000',\n",
       " 'hons.1689JuneThe',\n",
       " 'fort',\n",
       " 'was',\n",
       " 'captured',\n",
       " 'by',\n",
       " 'the',\n",
       " 'Mughals',\n",
       " 'afterSambhaji',\n",
       " 'Maharajwas',\n",
       " 'murdered.1692Shankarji',\n",
       " 'Narayan',\n",
       " 'captured',\n",
       " 'the',\n",
       " 'fort',\n",
       " 'from',\n",
       " 'the',\n",
       " 'Mughals.1697Rajaram',\n",
       " 'returned',\n",
       " 'to',\n",
       " 'Maharashtra',\n",
       " 'and',\n",
       " 'made',\n",
       " 'Rajgad',\n",
       " 'his',\n",
       " 'new',\n",
       " 'capital[1]17014',\n",
       " 'AugustShahaji',\n",
       " 'Mohite',\n",
       " 'was',\n",
       " 'made',\n",
       " 'the',\n",
       " 'havaldar',\n",
       " 'of',\n",
       " 'Padmavati',\n",
       " 'Machi170418',\n",
       " 'FebruaryThe',\n",
       " 'fort',\n",
       " 'was',\n",
       " 'handed',\n",
       " 'over',\n",
       " 'toAurangzebas',\n",
       " 'part',\n",
       " 'of',\n",
       " 'a',\n",
       " 'treaty.',\n",
       " 'The',\n",
       " 'fort',\n",
       " 'was',\n",
       " 'renamed',\n",
       " 'toNabishahagad.',\n",
       " 'Sidojirao',\n",
       " 'Thopte',\n",
       " 'and',\n",
       " 'Santaji',\n",
       " 'Shilimkar',\n",
       " 'were',\n",
       " 'killed',\n",
       " 'here',\n",
       " 'by',\n",
       " 'Aurangzeb.170729',\n",
       " 'MayGunaji',\n",
       " 'Sawant',\n",
       " 'captured',\n",
       " 'the',\n",
       " 'fort',\n",
       " 'and',\n",
       " 'The',\n",
       " 'Maratha',\n",
       " 'War',\n",
       " 'of',\n",
       " 'Independence',\n",
       " 'ended.1709Chhattrapati',\n",
       " 'Shahumade',\n",
       " 'provisions',\n",
       " 'for',\n",
       " 'the',\n",
       " 'repairs',\n",
       " 'of',\n",
       " 'the',\n",
       " 'fort.1818The',\n",
       " 'Rajgad',\n",
       " 'Fort',\n",
       " 'passed',\n",
       " 'into',\n",
       " 'the',\n",
       " 'hands',\n",
       " 'of',\n",
       " 'the',\n",
       " 'British.Tourism[edit]The',\n",
       " 'fort',\n",
       " 'is',\n",
       " 'a',\n",
       " 'significant',\n",
       " 'tourist',\n",
       " 'destination',\n",
       " 'and',\n",
       " 'is',\n",
       " 'most',\n",
       " 'sought',\n",
       " 'after',\n",
       " 'especially',\n",
       " 'duringmonsoon.',\n",
       " 'Visitors',\n",
       " 'prefer',\n",
       " 'to',\n",
       " 'stay',\n",
       " 'overnight',\n",
       " 'on',\n",
       " 'the',\n",
       " 'fort',\n",
       " 'considering',\n",
       " 'the',\n",
       " 'fort',\n",
       " 'itself',\n",
       " 'is',\n",
       " 'huge',\n",
       " 'and',\n",
       " 'cannot',\n",
       " 'be',\n",
       " 'explored',\n",
       " 'in',\n",
       " 'a',\n",
       " 'single',\n",
       " 'day.',\n",
       " 'The',\n",
       " 'Padmavati',\n",
       " 'temple',\n",
       " 'on',\n",
       " 'the',\n",
       " 'fort',\n",
       " 'can',\n",
       " 'accommodate',\n",
       " 'around',\n",
       " '50',\n",
       " 'people.',\n",
       " 'Water',\n",
       " 'tanks',\n",
       " 'provide',\n",
       " 'fresh',\n",
       " 'water',\n",
       " 'all',\n",
       " 'throughout',\n",
       " 'the',\n",
       " 'year.',\n",
       " 'Villagers',\n",
       " 'from',\n",
       " 'the',\n",
       " 'foothills',\n",
       " 'of',\n",
       " 'Rajgad',\n",
       " 'sell',\n",
       " 'local',\n",
       " 'antiques',\n",
       " 'and',\n",
       " 'items',\n",
       " 'to',\n",
       " 'these',\n",
       " 'tourists.Gallery[edit]The',\n",
       " 'FortBale',\n",
       " 'Killa,',\n",
       " 'RajgadBallekilla,',\n",
       " 'RajgadSanjivani',\n",
       " 'Machi-view',\n",
       " 'from',\n",
       " 'Rajgad',\n",
       " 'MahadwarRajgadSee',\n",
       " 'also[edit]India',\n",
       " 'portalRajgad',\n",
       " 'fort',\n",
       " 'full',\n",
       " 'information',\n",
       " 'in',\n",
       " 'hindiList',\n",
       " 'of',\n",
       " 'forts',\n",
       " 'in',\n",
       " 'MaharashtraReferences[edit]^abProf.',\n",
       " 'A.',\n",
       " 'R.',\n",
       " 'Kulkarni',\n",
       " '(1',\n",
       " 'July',\n",
       " '2008).',\n",
       " '\"Rajgad:',\n",
       " 'The',\n",
       " 'first',\n",
       " 'capital',\n",
       " 'of',\n",
       " 'Chatrapati',\n",
       " 'Shivaji',\n",
       " 'Maharaj\".Medieval',\n",
       " 'Maratha',\n",
       " 'Country.',\n",
       " 'Diamond',\n",
       " 'Publications.ISBN978-81-8483-072-9.^\"Rajgarh',\n",
       " 'Fort',\n",
       " 'History\".',\n",
       " 'Travelomy.',\n",
       " 'Retrieved8',\n",
       " 'February2012.External',\n",
       " 'links[edit]Wikimedia',\n",
       " 'Commons',\n",
       " 'has',\n",
       " 'media',\n",
       " 'related',\n",
       " 'toRajgad',\n",
       " 'Fort.Amazing',\n",
       " 'MaharashtraPune',\n",
       " 'TrekkersvteForts',\n",
       " 'inMaharashtraAhmednagar',\n",
       " 'districtAhmednagar',\n",
       " 'FortBahadurgadBhairavgadBitangadHarishchandragadKaladgadKhardaKunjargadMadan',\n",
       " 'FortManjarsumbha',\n",
       " 'fortPabargadPatta',\n",
       " 'FortRatangadAkola',\n",
       " 'districtAkola',\n",
       " 'FortBalapurNarnalaAmravati',\n",
       " 'districtAmner',\n",
       " 'FortGawilghurAurangabad',\n",
       " 'districtAntur',\n",
       " 'FortDaulatabad',\n",
       " 'FortChandrapur',\n",
       " 'districtChandrapur',\n",
       " 'FortBallarpur',\n",
       " 'FortBhadravati',\n",
       " 'FortManikgadDhule',\n",
       " 'districtBhamerLalingThalnerKolhapur',\n",
       " 'districtBhudargadGandharvgadPanhalaPargadhPavangadSamangadVishalgadLatur',\n",
       " 'districtUdgirMumbai',\n",
       " 'City',\n",
       " 'districtBombay',\n",
       " 'CastleDongri',\n",
       " 'FortFort',\n",
       " 'GeorgeMahim',\n",
       " 'FortMazagon',\n",
       " 'FortRiwa',\n",
       " 'FortSewri',\n",
       " 'FortSion',\n",
       " 'Hillock',\n",
       " 'FortWorli',\n",
       " 'FortMumbai',\n",
       " 'Suburban',\n",
       " 'districtCastella',\n",
       " 'de',\n",
       " 'AguadaMadhNagpur',\n",
       " 'districtSitabuldiNanded',\n",
       " 'districtKandhar',\n",
       " 'FortNashik',\n",
       " 'districtAavandhagadAchala',\n",
       " 'FortAhivant',\n",
       " 'FortAlangAnjaneriAnkai',\n",
       " 'FortBahulagadBhaskargadChandwadChauler',\n",
       " 'FortDermalDhodapHargadHarihar',\n",
       " 'fortHatgadIndraiKanchangadKanhergadKavnai',\n",
       " 'fortKulangMadangadMalegaonMangi-TungiMoragadMulherNhavigadRajdher',\n",
       " 'fortRamsejSalherSalotaSaptashrungiTankai',\n",
       " 'fortTringalwadiWagheraOsmanabad',\n",
       " 'districtNaldurg',\n",
       " 'FortParanda',\n",
       " 'FortPalghar',\n",
       " 'districtBasseinTandulwadiPune',\n",
       " 'districtAnghaai',\n",
       " 'FortBhorgiri',\n",
       " 'FortChawandDhakobaGhangadHadsar',\n",
       " 'FortInduri',\n",
       " 'FortJivdhanKailasgadKawlaKorigad/KoraigadLohagadMalhargadManaranjanMangalgadMorgiri',\n",
       " 'FortNarayangadNimgiriPurandarRajgadRajmachiRayri',\n",
       " 'FortRohidaSangram',\n",
       " 'DurgSindola',\n",
       " 'FortShaniwar',\n",
       " 'WadaShivneriShrivardhanSinhagadTikonaTornaTungVajragad',\n",
       " 'FortVisapurRaigad',\n",
       " 'districtAgarkotAvchitgadBhimashankar',\n",
       " 'FortBhiwgadBirwadiChambhargadChandragadDhak',\n",
       " 'BahiriDronagiriGadad',\n",
       " 'BahiriGhangadGhosalgadIrshalgadKarnalaKhaderiKhanderiKondhawi',\n",
       " 'FortKorlaiKothaligadPeb',\n",
       " 'fortKulabaKurdugadLinganaMaangadMadgadMalanggadMangalgad',\n",
       " '(Kangori)ManikgadMirgadMrugagadMurud-JanjiraPadargadPadmadurg/Kasa',\n",
       " 'FortPrabalgadRaigadRatnagadRevdandaSagargadSamrajgadSankshi',\n",
       " 'FortSarasgadSarjekotSongadSongiri',\n",
       " 'FortSudhagadSurgadTalagadUnderiVikatgadPeb',\n",
       " 'fortRatnagiri',\n",
       " 'districtAambolgadAnjanwelBankotFattedurgGopalgadGovindgadGowalkotJaigadKanakdurgMahipatgadMandangadPrachitgadPrunagadRasalgadRatnagiri',\n",
       " 'Fort/RatnadurgSumargadSuvarnadurgYashwantgadSatara',\n",
       " 'districtAjinkyataraBhairavgadBhushangadChandan-VandanDategadGunavantgadJangali',\n",
       " 'JayagadKalyangadKamalgadKenjalgadMahimangadPandavgadPrachitgadPratapgadSajjangadSantoshgadVairatgadVardhangadVarugadVasantgadVasotaSindhudurg',\n",
       " 'districtAasavgadBharatgadRajkot',\n",
       " 'FortSanrjekotSindhudurgVijaydurgThane',\n",
       " 'districtAajobagadAasawaArnalaAsherigadBallalgadBalwantgadBelapur',\n",
       " 'FortBhairavgadBhandargadBhavanigadBhupatgadChanderigadDahanugadDaulatmandalDharaviDurgadi',\n",
       " 'FortGambhirgadGhodbunder',\n",
       " 'FortGorakhgadGotaraJivdhaanigadKaldurgKamandurgKelwegadKohojgadMahuliMalang',\n",
       " 'gadPalasgadPankotTahuliSegwaShirgav',\n",
       " 'FortSiddhgadTarapur',\n",
       " 'FortvteForts',\n",
       " 'in',\n",
       " 'IndiaVijayanagaraGingeeBangaloreUdayagiriVelloreDeccan',\n",
       " 'sultanatesAhmednagarDaulatabadGawilghurGolcondaNarnalaPanhalaGujarat',\n",
       " 'SultanateBhadraDelhi',\n",
       " 'SultanateAligarhBandhavgarhHathrasQila',\n",
       " 'MubarakSiriTughlaqabadSalimgarhNayak',\n",
       " 'dynastyChitradurgaBekalDindigulGingeeTiruchirapalli',\n",
       " 'RockChandragiri',\n",
       " 'FortHosdurgMalwa',\n",
       " 'SultanateMandsaurMandavgadhFaruqi',\n",
       " 'dynastyAsirgarhLalingThalnerRajputsAchalgarhAmberBhangarhChittorJaigarhJaisalmerJaloreJunagarhKankwadiKumbhalgarhNahargarhQila',\n",
       " 'Rai',\n",
       " 'PithoraTaragarhLal',\n",
       " 'KotGwaliorKalinjarHinglajgarhMehrangarhNarwarSenapati',\n",
       " 'fortressSabalgarhBahuKangraRanthamboreBhatner',\n",
       " 'fortMaratha',\n",
       " 'EmpireDongriHarishchandragadKolabaLohagadSudhagadSinhagadTikonaPanhalaPratapgadVishalgadRajgadSindhudurgVijaydurgShivneriRaigadGajendragarhGingeeShaniwar',\n",
       " 'WadaJhansiHinglajgarhManoraVisapurSadashivgadMughal',\n",
       " 'EmpirePurana',\n",
       " 'QilaChanderiAgraAllahabadFatehpur',\n",
       " 'SikriRedAkolaHari',\n",
       " 'ParbatRamnagarJatBawana',\n",
       " 'FortGohadLohagarhNahar',\n",
       " 'Singh',\n",
       " 'MahalKingdom',\n",
       " 'of',\n",
       " 'MysoreDevanahalliPalakkadBekalSankagiriSiddiMurud-JanjiraBelapurUnderiTravancoreVattakottaiUdayagiriEastPortugueseBassein',\n",
       " 'FortBombay',\n",
       " 'CastleMahimArnalaCastella',\n",
       " 'de',\n",
       " 'AguadaDiu',\n",
       " 'FortSurat',\n",
       " 'CastleFortim',\n",
       " 'do',\n",
       " 'Mar,',\n",
       " 'DiuFortim',\n",
       " 'do',\n",
       " 'Mar,',\n",
       " 'SimborEmmanuelFort',\n",
       " 'AnjedivaKorlaiMadh',\n",
       " 'FortSt',\n",
       " 'Thomas,',\n",
       " 'TangasseriSt.',\n",
       " 'AngeloPallipuramAguadaFort',\n",
       " 'TiracolAnjedivaCranganoreGhodbunderFortaleza',\n",
       " 'de',\n",
       " 'ChaulPonda',\n",
       " 'FortChapora',\n",
       " 'FortFortaleza',\n",
       " 'de',\n",
       " 'São',\n",
       " 'Sebastião',\n",
       " 'de',\n",
       " 'TivimCabo',\n",
       " 'de',\n",
       " 'RamaCorjuem',\n",
       " 'FortMormugão',\n",
       " 'fortRachol',\n",
       " 'FortFort',\n",
       " 'of',\n",
       " 'São',\n",
       " 'Tiago',\n",
       " 'of',\n",
       " 'BanastarimSikh',\n",
       " 'EmpireJamrudKamlahMultanHarkishangarhLahoreBritish',\n",
       " 'RajAnchuthenguSt.',\n",
       " 'GeorgeWilliamBombayRiwaWorliMazagonSion',\n",
       " 'HillockSewriMahimTellicherrySt.',\n",
       " 'DavidSur',\n",
       " 'EmpireChunarRohtasgarhMungerEastern',\n",
       " 'Ganga',\n",
       " 'dynastyBarabatiRaibaniaAhom',\n",
       " 'dynastyTalatal',\n",
       " 'GharKareng',\n",
       " 'GharRang',\n",
       " 'GharGarchuk',\n",
       " 'Lachit',\n",
       " 'GarhKakatiya',\n",
       " 'dynastyWarangalBahmani',\n",
       " 'SultanateBidarGulbargavteMaratha',\n",
       " 'EmpireRulersShivajiSambhajiRajaram',\n",
       " 'ITarabaiShahu',\n",
       " 'IRajaram',\n",
       " 'IIShahu',\n",
       " 'IIPratap',\n",
       " 'SinghPeshwasMoropant',\n",
       " 'Trimbak',\n",
       " 'PingleMoreshvar',\n",
       " 'PingaleRamchandra',\n",
       " 'Pant',\n",
       " 'AmatyaBahiroji',\n",
       " 'PingaleBalaji',\n",
       " 'VishwanathBaji',\n",
       " 'Rao',\n",
       " 'IBalaji',\n",
       " 'Baji',\n",
       " 'RaoMadhavrao',\n",
       " 'BallalNarayan',\n",
       " 'RaoRaghunathraoSawai',\n",
       " 'MadhavraoBaji',\n",
       " 'Rao',\n",
       " 'IIAmrut',\n",
       " 'RaoNana',\n",
       " 'SahibBhat',\n",
       " 'familyAmatyaRamchandra',\n",
       " 'Pant',\n",
       " 'AmatyaPratinidhiPralhad',\n",
       " 'NirajiParshuram',\n",
       " 'Pant',\n",
       " 'Pratinidhi(hereditary)Shripatrao',\n",
       " 'Pant',\n",
       " 'PratinidhiJagjivanrao',\n",
       " 'Pant',\n",
       " 'PratinidhiWomenAhilyabai',\n",
       " 'HolkarAnandibaiGopikabaiJankibaiJijabaiKashibaiMastaniMuddupalaniParvatibaiPutalabaiRamabaiSaibaiSakvarbaiSoyarabaiUmabai',\n",
       " 'DabhadeTulsi',\n",
       " 'Bai',\n",
       " 'HolkarMaratha',\n",
       " 'ConfederacyBhonsle',\n",
       " 'of',\n",
       " 'NagpurGaekwad',\n",
       " 'of',\n",
       " 'BarodaScindia',\n",
       " 'of',\n",
       " 'GwaliorHolkar',\n",
       " 'of',\n",
       " 'IndorePatwardhan',\n",
       " 'dynastyBattlesPratapgarhKolhapurPavan',\n",
       " 'KhindChakanSuratPurandarSinhagadKalyanBhupalgarhSangamnerBijapurRaigarh',\n",
       " '(1689)JinjiSataraKhelnaRaigarhTornaPalkhedMandsaur1st',\n",
       " 'DelhiBhopalVasaiGajendragad1st',\n",
       " 'TrichinopolyKatwa',\n",
       " '(1st)2nd',\n",
       " 'TrichinopolyKatwa',\n",
       " '(2nd)Invasions',\n",
       " 'of',\n",
       " 'BengalBurdwanUdgir2nd',\n",
       " 'DelhiAttockPeshawar3rd',\n",
       " 'PanipatAlegaonRakshabhuvanCapture',\n",
       " 'of',\n",
       " 'DelhiPanchgaonSaunshiWadgaonAdoniBadamiSavanurBahadur',\n",
       " 'BendaLalsotChaksanaPatanKhardaPoona3rd',\n",
       " 'DelhiAssayeLaswariFarrukhabadBharatpurKhadkiKoregaonMahidpurWarsMaratha-Mughal',\n",
       " 'War',\n",
       " 'of',\n",
       " '27',\n",
       " 'yearsMaratha–Mysore',\n",
       " 'WarFirst',\n",
       " 'Anglo-Maratha',\n",
       " 'WarSecond',\n",
       " 'Anglo-Maratha',\n",
       " 'WarThird',\n",
       " 'Anglo-Maratha',\n",
       " 'WarAdversariesAdilshahiQutbshahiMughal',\n",
       " 'EmpireDurrani',\n",
       " 'EmpireBritish',\n",
       " 'EmpirePortuguese',\n",
       " 'EmpireNizam',\n",
       " 'of',\n",
       " 'HyderabadMysoreFortsFort',\n",
       " 'MangadPanhalaPratapgadPurandarRaigadRajgadShaniwar',\n",
       " 'WadaShivneriSindhudurgSinhagadTornaCoinsShivraiRetrieved',\n",
       " 'from',\n",
       " '\"https://en.wikipedia.org/w/index.php?title=Rajgad_Fort&oldid=1025588610\"Categories:Forts',\n",
       " 'in',\n",
       " 'Pune',\n",
       " 'districtFormer',\n",
       " 'capital',\n",
       " 'cities',\n",
       " 'in',\n",
       " 'IndiaHidden',\n",
       " 'categories:Articles',\n",
       " 'with',\n",
       " 'short',\n",
       " 'descriptionShort',\n",
       " 'description',\n",
       " 'matches',\n",
       " 'WikidataUse',\n",
       " 'dmy',\n",
       " 'dates',\n",
       " 'from',\n",
       " 'July',\n",
       " '2017Use',\n",
       " 'Indian',\n",
       " 'English',\n",
       " 'from',\n",
       " 'July',\n",
       " '2017All',\n",
       " 'Wikipedia',\n",
       " 'articles',\n",
       " 'written',\n",
       " 'in',\n",
       " 'Indian',\n",
       " 'EnglishAll',\n",
       " 'articles',\n",
       " 'with',\n",
       " 'unsourced',\n",
       " 'statementsArticles',\n",
       " 'with',\n",
       " 'unsourced',\n",
       " 'statements',\n",
       " 'from',\n",
       " 'July',\n",
       " '2017Commons',\n",
       " 'category',\n",
       " 'link',\n",
       " 'is',\n",
       " 'on',\n",
       " 'WikidataNavigation',\n",
       " 'menuPersonal',\n",
       " 'toolsNot',\n",
       " 'logged',\n",
       " 'inTalkContributionsCreate',\n",
       " 'accountLog',\n",
       " 'inNamespacesArticleTalkVariantsViewsReadEditView',\n",
       " ...]"
      ]
     },
     "execution_count": 32,
     "metadata": {},
     "output_type": "execute_result"
    }
   ],
   "source": [
    "tokens = [t for t in text.split()]\n",
    "tokens"
   ]
  },
  {
   "cell_type": "code",
   "execution_count": 33,
   "id": "returning-hybrid",
   "metadata": {},
   "outputs": [
    {
     "data": {
      "image/png": "[encoded data removed]",
      "text/plain": [
       "<Figure size 432x288 with 1 Axes>"
      ]
     },
     "metadata": {
      "needs_background": "light"
     },
     "output_type": "display_data"
    },
    {
     "data": {
      "text/plain": [
       "<AxesSubplot:xlabel='Samples', ylabel='Counts'>"
      ]
     },
     "execution_count": 33,
     "metadata": {},
     "output_type": "execute_result"
    }
   ],
   "source": [
    "freq = nltk.FreqDist(tokens)\n",
    "freq.plot(20, cumulative=False)"
   ]
  },
  {
   "cell_type": "code",
   "execution_count": 34,
   "id": "frozen-morning",
   "metadata": {},
   "outputs": [
    {
     "name": "stderr",
     "output_type": "stream",
     "text": [
      "[nltk_data] Downloading package stopwords to\n",
      "[nltk_data]     /home/shwetal/nltk_data...\n",
      "[nltk_data]   Package stopwords is already up-to-date!\n"
     ]
    },
    {
     "data": {
      "text/plain": [
       "True"
      ]
     },
     "execution_count": 34,
     "metadata": {},
     "output_type": "execute_result"
    }
   ],
   "source": [
    "nltk.download('stopwords')"
   ]
  },
  {
   "cell_type": "code",
   "execution_count": 35,
   "id": "contained-progressive",
   "metadata": {},
   "outputs": [],
   "source": [
    "from nltk.corpus import stopwords"
   ]
  },
  {
   "cell_type": "code",
   "execution_count": 36,
   "id": "scientific-robinson",
   "metadata": {},
   "outputs": [
    {
     "data": {
      "text/plain": [
       "['i',\n",
       " 'me',\n",
       " 'my',\n",
       " 'myself',\n",
       " 'we',\n",
       " 'our',\n",
       " 'ours',\n",
       " 'ourselves',\n",
       " 'you',\n",
       " \"you're\",\n",
       " \"you've\",\n",
       " \"you'll\",\n",
       " \"you'd\",\n",
       " 'your',\n",
       " 'yours',\n",
       " 'yourself',\n",
       " 'yourselves',\n",
       " 'he',\n",
       " 'him',\n",
       " 'his',\n",
       " 'himself',\n",
       " 'she',\n",
       " \"she's\",\n",
       " 'her',\n",
       " 'hers',\n",
       " 'herself',\n",
       " 'it',\n",
       " \"it's\",\n",
       " 'its',\n",
       " 'itself',\n",
       " 'they',\n",
       " 'them',\n",
       " 'their',\n",
       " 'theirs',\n",
       " 'themselves',\n",
       " 'what',\n",
       " 'which',\n",
       " 'who',\n",
       " 'whom',\n",
       " 'this',\n",
       " 'that',\n",
       " \"that'll\",\n",
       " 'these',\n",
       " 'those',\n",
       " 'am',\n",
       " 'is',\n",
       " 'are',\n",
       " 'was',\n",
       " 'were',\n",
       " 'be',\n",
       " 'been',\n",
       " 'being',\n",
       " 'have',\n",
       " 'has',\n",
       " 'had',\n",
       " 'having',\n",
       " 'do',\n",
       " 'does',\n",
       " 'did',\n",
       " 'doing',\n",
       " 'a',\n",
       " 'an',\n",
       " 'the',\n",
       " 'and',\n",
       " 'but',\n",
       " 'if',\n",
       " 'or',\n",
       " 'because',\n",
       " 'as',\n",
       " 'until',\n",
       " 'while',\n",
       " 'of',\n",
       " 'at',\n",
       " 'by',\n",
       " 'for',\n",
       " 'with',\n",
       " 'about',\n",
       " 'against',\n",
       " 'between',\n",
       " 'into',\n",
       " 'through',\n",
       " 'during',\n",
       " 'before',\n",
       " 'after',\n",
       " 'above',\n",
       " 'below',\n",
       " 'to',\n",
       " 'from',\n",
       " 'up',\n",
       " 'down',\n",
       " 'in',\n",
       " 'out',\n",
       " 'on',\n",
       " 'off',\n",
       " 'over',\n",
       " 'under',\n",
       " 'again',\n",
       " 'further',\n",
       " 'then',\n",
       " 'once',\n",
       " 'here',\n",
       " 'there',\n",
       " 'when',\n",
       " 'where',\n",
       " 'why',\n",
       " 'how',\n",
       " 'all',\n",
       " 'any',\n",
       " 'both',\n",
       " 'each',\n",
       " 'few',\n",
       " 'more',\n",
       " 'most',\n",
       " 'other',\n",
       " 'some',\n",
       " 'such',\n",
       " 'no',\n",
       " 'nor',\n",
       " 'not',\n",
       " 'only',\n",
       " 'own',\n",
       " 'same',\n",
       " 'so',\n",
       " 'than',\n",
       " 'too',\n",
       " 'very',\n",
       " 's',\n",
       " 't',\n",
       " 'can',\n",
       " 'will',\n",
       " 'just',\n",
       " 'don',\n",
       " \"don't\",\n",
       " 'should',\n",
       " \"should've\",\n",
       " 'now',\n",
       " 'd',\n",
       " 'll',\n",
       " 'm',\n",
       " 'o',\n",
       " 're',\n",
       " 've',\n",
       " 'y',\n",
       " 'ain',\n",
       " 'aren',\n",
       " \"aren't\",\n",
       " 'couldn',\n",
       " \"couldn't\",\n",
       " 'didn',\n",
       " \"didn't\",\n",
       " 'doesn',\n",
       " \"doesn't\",\n",
       " 'hadn',\n",
       " \"hadn't\",\n",
       " 'hasn',\n",
       " \"hasn't\",\n",
       " 'haven',\n",
       " \"haven't\",\n",
       " 'isn',\n",
       " \"isn't\",\n",
       " 'ma',\n",
       " 'mightn',\n",
       " \"mightn't\",\n",
       " 'mustn',\n",
       " \"mustn't\",\n",
       " 'needn',\n",
       " \"needn't\",\n",
       " 'shan',\n",
       " \"shan't\",\n",
       " 'shouldn',\n",
       " \"shouldn't\",\n",
       " 'wasn',\n",
       " \"wasn't\",\n",
       " 'weren',\n",
       " \"weren't\",\n",
       " 'won',\n",
       " \"won't\",\n",
       " 'wouldn',\n",
       " \"wouldn't\"]"
      ]
     },
     "execution_count": 36,
     "metadata": {},
     "output_type": "execute_result"
    }
   ],
   "source": [
    "sword = stopwords.words('english')\n",
    "sword"
   ]
  },
  {
   "cell_type": "code",
   "execution_count": 37,
   "id": "starting-generator",
   "metadata": {},
   "outputs": [],
   "source": [
    "list_of_words_ = []\n",
    "for word in tokens:\n",
    "    if word.lower() not in  sword:\n",
    "        list_of_words_.append(word.lower())"
   ]
  },
  {
   "cell_type": "code",
   "execution_count": 38,
   "id": "finished-climate",
   "metadata": {},
   "outputs": [
    {
     "data": {
      "image/png": "[encoded data removed]",
      "text/plain": [
       "<Figure size 432x288 with 1 Axes>"
      ]
     },
     "metadata": {
      "needs_background": "light"
     },
     "output_type": "display_data"
    },
    {
     "data": {
      "text/plain": [
       "<AxesSubplot:xlabel='Samples', ylabel='Counts'>"
      ]
     },
     "execution_count": 38,
     "metadata": {},
     "output_type": "execute_result"
    }
   ],
   "source": [
    "freq = nltk.FreqDist(list_of_words_)\n",
    "freq.plot(20, cumulative=False)"
   ]
  },
  {
   "cell_type": "code",
   "execution_count": 39,
   "id": "opposite-world",
   "metadata": {},
   "outputs": [
    {
     "data": {
      "text/plain": [
       "'!\"#$%&\\'()*+,-./:;<=>?@[\\\\]^_`{|}~'"
      ]
     },
     "execution_count": 39,
     "metadata": {},
     "output_type": "execute_result"
    }
   ],
   "source": [
    "import string\n",
    "string.punctuation"
   ]
  },
  {
   "cell_type": "code",
   "execution_count": 40,
   "id": "preceding-record",
   "metadata": {},
   "outputs": [
    {
     "name": "stderr",
     "output_type": "stream",
     "text": [
      "[nltk_data] Downloading package wordnet to /home/shwetal/nltk_data...\n",
      "[nltk_data]   Package wordnet is already up-to-date!\n"
     ]
    },
    {
     "data": {
      "text/plain": [
       "True"
      ]
     },
     "execution_count": 40,
     "metadata": {},
     "output_type": "execute_result"
    }
   ],
   "source": [
    "nltk.download('wordnet')"
   ]
  },
  {
   "cell_type": "code",
   "execution_count": 41,
   "id": "fancy-spirituality",
   "metadata": {},
   "outputs": [],
   "source": [
    "from nltk.corpus import wordnet"
   ]
  },
  {
   "cell_type": "code",
   "execution_count": 42,
   "id": "nuclear-establishment",
   "metadata": {},
   "outputs": [
    {
     "name": "stdout",
     "output_type": "stream",
     "text": [
      "binary compound that occurs at room temperature as a clear colorless odorless tasteless liquid; freezes into ice below 0 degrees centigrade and boils above 100 degrees centigrade; widely used as a solvent\n",
      "[]\n"
     ]
    }
   ],
   "source": [
    "syno = wordnet.synsets('water')\n",
    "\n",
    "print(syno[0].definition())\n",
    "print(syno[0].examples())"
   ]
  },
  {
   "cell_type": "code",
   "execution_count": 43,
   "id": "recorded-documentation",
   "metadata": {},
   "outputs": [],
   "source": [
    "synonyms = []"
   ]
  },
  {
   "cell_type": "code",
   "execution_count": 44,
   "id": "formal-guide",
   "metadata": {},
   "outputs": [],
   "source": [
    "for syn in wordnet.synsets('bear'):\n",
    "    for lemma in syn.lemmas():\n",
    "        synonyms.append(lemma.name())"
   ]
  },
  {
   "cell_type": "code",
   "execution_count": 45,
   "id": "atlantic-psychology",
   "metadata": {},
   "outputs": [
    {
     "name": "stdout",
     "output_type": "stream",
     "text": [
      "{'deliver', 'deport', 'suffer', 'behave', 'stomach', 'take_over', 'yield', 'hold', 'birth', 'support', 'pay', 'have', 'brook', 'give_birth', 'have_a_bun_in_the_oven', 'comport', 'expect', 'acquit', 'contain', 'stick_out', 'put_up', 'accept', 'bear', 'conduct', 'wear', 'endure', 'stand', 'gestate', 'carry', 'abide', 'turn_out', 'assume', 'digest', 'tolerate'}\n"
     ]
    }
   ],
   "source": [
    "print(set(synonyms))"
   ]
  },
  {
   "cell_type": "code",
   "execution_count": 46,
   "id": "unlike-memorabilia",
   "metadata": {},
   "outputs": [],
   "source": [
    "antonyms = []"
   ]
  },
  {
   "cell_type": "code",
   "execution_count": 47,
   "id": "dramatic-impossible",
   "metadata": {},
   "outputs": [],
   "source": [
    "for syn in wordnet.synsets('bear'):\n",
    "    for l in syn.lemmas():\n",
    "        if l.antonyms():\n",
    "            antonyms.append(l.antonyms()[0].name())"
   ]
  },
  {
   "cell_type": "code",
   "execution_count": 48,
   "id": "minute-tablet",
   "metadata": {},
   "outputs": [
    {
     "name": "stdout",
     "output_type": "stream",
     "text": [
      "{'bull'}\n"
     ]
    }
   ],
   "source": [
    "print(set(antonyms))"
   ]
  },
  {
   "cell_type": "code",
   "execution_count": 49,
   "id": "rising-departure",
   "metadata": {},
   "outputs": [],
   "source": [
    "# stemming\n",
    "from nltk.stem import PorterStemmer, LancasterStemmer"
   ]
  },
  {
   "cell_type": "code",
   "execution_count": 50,
   "id": "challenging-philip",
   "metadata": {},
   "outputs": [
    {
     "name": "stdout",
     "output_type": "stream",
     "text": [
      "work\n"
     ]
    }
   ],
   "source": [
    "stemmer = PorterStemmer()\n",
    "print(stemmer.stem('working'))"
   ]
  },
  {
   "cell_type": "code",
   "execution_count": 51,
   "id": "engaging-kansas",
   "metadata": {},
   "outputs": [
    {
     "name": "stdout",
     "output_type": "stream",
     "text": [
      "work\n"
     ]
    }
   ],
   "source": [
    "print(stemmer.stem('worked'))"
   ]
  },
  {
   "cell_type": "code",
   "execution_count": 52,
   "id": "medieval-margin",
   "metadata": {},
   "outputs": [
    {
     "name": "stdout",
     "output_type": "stream",
     "text": [
      "work\n"
     ]
    }
   ],
   "source": [
    "print(stemmer.stem('works'))"
   ]
  },
  {
   "cell_type": "code",
   "execution_count": 53,
   "id": "ruled-playback",
   "metadata": {},
   "outputs": [
    {
     "name": "stdout",
     "output_type": "stream",
     "text": [
      "goe\n"
     ]
    }
   ],
   "source": [
    "print(stemmer.stem('goes'))"
   ]
  },
  {
   "cell_type": "code",
   "execution_count": 54,
   "id": "fitting-olive",
   "metadata": {},
   "outputs": [
    {
     "name": "stdout",
     "output_type": "stream",
     "text": [
      "merg\n"
     ]
    }
   ],
   "source": [
    "print(stemmer.stem('merging'))"
   ]
  },
  {
   "cell_type": "code",
   "execution_count": 55,
   "id": "effective-rough",
   "metadata": {},
   "outputs": [
    {
     "name": "stdout",
     "output_type": "stream",
     "text": [
      "work\n"
     ]
    }
   ],
   "source": [
    "print(stemmer.stem('work'))"
   ]
  },
  {
   "cell_type": "code",
   "execution_count": 56,
   "id": "fixed-kinase",
   "metadata": {},
   "outputs": [
    {
     "name": "stdout",
     "output_type": "stream",
     "text": [
      "work\n",
      "work\n",
      "work\n",
      "gone\n",
      "merg\n"
     ]
    }
   ],
   "source": [
    "stemmer = PorterStemmer()\n",
    "print(stemmer.stem('working'))\n",
    "print(stemmer.stem('worked'))\n",
    "print(stemmer.stem('works'))\n",
    "print(stemmer.stem('gone'))\n",
    "print(stemmer.stem('merging'))"
   ]
  },
  {
   "cell_type": "code",
   "execution_count": 57,
   "id": "considered-scout",
   "metadata": {},
   "outputs": [
    {
     "name": "stdout",
     "output_type": "stream",
     "text": [
      "work\n",
      "work\n",
      "work\n",
      "gon\n",
      "merg\n"
     ]
    }
   ],
   "source": [
    "stemmer = LancasterStemmer()\n",
    "print(stemmer.stem('working'))\n",
    "print(stemmer.stem('worked'))\n",
    "print(stemmer.stem('works'))\n",
    "print(stemmer.stem('gone'))\n",
    "print(stemmer.stem('merging'))"
   ]
  },
  {
   "cell_type": "code",
   "execution_count": 58,
   "id": "drawn-phoenix",
   "metadata": {},
   "outputs": [],
   "source": [
    "from nltk.stem import WordNetLemmatizer\n",
    "lemmatizer = WordNetLemmatizer()"
   ]
  },
  {
   "cell_type": "code",
   "execution_count": 59,
   "id": "painted-repository",
   "metadata": {},
   "outputs": [
    {
     "name": "stdout",
     "output_type": "stream",
     "text": [
      "eat\n"
     ]
    }
   ],
   "source": [
    "print(lemmatizer.lemmatize('ate', pos='v'))"
   ]
  },
  {
   "cell_type": "code",
   "execution_count": 60,
   "id": "covered-cheat",
   "metadata": {},
   "outputs": [
    {
     "name": "stdout",
     "output_type": "stream",
     "text": [
      "drink\n"
     ]
    }
   ],
   "source": [
    "print(lemmatizer.lemmatize('drank', pos='v'))"
   ]
  },
  {
   "cell_type": "code",
   "execution_count": 61,
   "id": "impaired-slovak",
   "metadata": {},
   "outputs": [
    {
     "name": "stdout",
     "output_type": "stream",
     "text": [
      "play\n"
     ]
    }
   ],
   "source": [
    "print(lemmatizer.lemmatize('played', pos='v'))"
   ]
  },
  {
   "cell_type": "code",
   "execution_count": 62,
   "id": "provincial-collect",
   "metadata": {},
   "outputs": [
    {
     "name": "stdout",
     "output_type": "stream",
     "text": [
      "eat\n",
      "ate\n",
      "ate\n",
      "ate\n"
     ]
    }
   ],
   "source": [
    "# Verb\n",
    "print(lemmatizer.lemmatize('ate', pos='v'))\n",
    "# Noun\n",
    "print(lemmatizer.lemmatize('ate', pos='n'))\n",
    "# Adjective\n",
    "print(lemmatizer.lemmatize('ate', pos='a'))\n",
    "# Adverb\n",
    "print(lemmatizer.lemmatize('ate', pos='r'))"
   ]
  },
  {
   "cell_type": "code",
   "execution_count": 63,
   "id": "prospective-frederick",
   "metadata": {},
   "outputs": [],
   "source": [
    "sent = '''He has played a finest innings in world.\n",
    "The opportunities will never come again'''"
   ]
  },
  {
   "cell_type": "code",
   "execution_count": 64,
   "id": "subject-rogers",
   "metadata": {},
   "outputs": [
    {
     "name": "stdout",
     "output_type": "stream",
     "text": [
      "He\n",
      "ha\n",
      "played\n",
      "a\n",
      "finest\n",
      "inning\n",
      "in\n",
      "world.\n",
      "The\n",
      "opportunity\n",
      "will\n",
      "never\n",
      "come\n",
      "again\n"
     ]
    }
   ],
   "source": [
    "for word in sent.split():\n",
    "    print(lemmatizer.lemmatize(word, pos='n'))"
   ]
  },
  {
   "cell_type": "code",
   "execution_count": 65,
   "id": "duplicate-beverage",
   "metadata": {},
   "outputs": [
    {
     "name": "stdout",
     "output_type": "stream",
     "text": [
      "He\n",
      "have\n",
      "play\n",
      "a\n",
      "finest\n",
      "innings\n",
      "in\n",
      "world.\n",
      "The\n",
      "opportunities\n",
      "will\n",
      "never\n",
      "come\n",
      "again\n"
     ]
    }
   ],
   "source": [
    "for word in sent.split():\n",
    "    print(lemmatizer.lemmatize(word, pos='v'))"
   ]
  },
  {
   "cell_type": "code",
   "execution_count": 66,
   "id": "medical-preliminary",
   "metadata": {},
   "outputs": [
    {
     "name": "stdout",
     "output_type": "stream",
     "text": [
      "He\n",
      "has\n",
      "played\n",
      "a\n",
      "fine\n",
      "innings\n",
      "in\n",
      "world.\n",
      "The\n",
      "opportunities\n",
      "will\n",
      "never\n",
      "come\n",
      "again\n"
     ]
    }
   ],
   "source": [
    "for word in sent.split():\n",
    "    print(lemmatizer.lemmatize(word, pos='a'))"
   ]
  },
  {
   "cell_type": "code",
   "execution_count": 67,
   "id": "minute-speaking",
   "metadata": {},
   "outputs": [
    {
     "name": "stdout",
     "output_type": "stream",
     "text": [
      "He\n",
      "has\n",
      "played\n",
      "a\n",
      "finest\n",
      "innings\n",
      "in\n",
      "world.\n",
      "The\n",
      "opportunities\n",
      "will\n",
      "never\n",
      "come\n",
      "again\n"
     ]
    }
   ],
   "source": [
    "for word in sent.split():\n",
    "    print(lemmatizer.lemmatize(word, pos='r'))"
   ]
  },
  {
   "cell_type": "code",
   "execution_count": 68,
   "id": "distinct-greenhouse",
   "metadata": {},
   "outputs": [],
   "source": [
    "import nltk"
   ]
  },
  {
   "cell_type": "code",
   "execution_count": 69,
   "id": "neutral-ceremony",
   "metadata": {},
   "outputs": [
    {
     "name": "stderr",
     "output_type": "stream",
     "text": [
      "[nltk_data] Downloading package averaged_perceptron_tagger to\n",
      "[nltk_data]     /home/shwetal/nltk_data...\n",
      "[nltk_data]   Package averaged_perceptron_tagger is already up-to-\n",
      "[nltk_data]       date!\n"
     ]
    },
    {
     "data": {
      "text/plain": [
       "True"
      ]
     },
     "execution_count": 69,
     "metadata": {},
     "output_type": "execute_result"
    }
   ],
   "source": [
    "from nltk.corpus import stopwords\n",
    "from nltk.tokenize import word_tokenize, sent_tokenize\n",
    "nltk.download('averaged_perceptron_tagger')"
   ]
  },
  {
   "cell_type": "code",
   "execution_count": 70,
   "id": "alien-quebec",
   "metadata": {},
   "outputs": [],
   "source": [
    "swords = stopwords.words('english')"
   ]
  },
  {
   "cell_type": "code",
   "execution_count": 71,
   "id": "criminal-rotation",
   "metadata": {},
   "outputs": [],
   "source": [
    "text = '''A large body of Western Chalukya literature in the Kannada language was produced during the empire's \n",
    "reign (973–1200) in present-day India (map pictured). Kannada literature from this period, usually considered Old \n",
    "Kannada, constituted the bulk of the Chalukya court's textual production and pertained mostly to the \n",
    "socio-religious development of the Jain faith, with some of that of the Shaiva faith. Important literary \n",
    "contributions in the Kannada language came not only from court poets, noblemen, royalty, ascetics and saints who \n",
    "wrote in the marga (mainstream) style, but also from commoners and artisans, including cobblers, weavers, cowherds \n",
    "and shepherds who wrote in the desi (folk) style.'''"
   ]
  },
  {
   "cell_type": "code",
   "execution_count": 72,
   "id": "quality-borough",
   "metadata": {},
   "outputs": [
    {
     "data": {
      "text/plain": [
       "[\"A large body of Western Chalukya literature in the Kannada language was produced during the empire's \\nreign (973–1200) in present-day India (map pictured).\",\n",
       " \"Kannada literature from this period, usually considered Old \\nKannada, constituted the bulk of the Chalukya court's textual production and pertained mostly to the \\nsocio-religious development of the Jain faith, with some of that of the Shaiva faith.\",\n",
       " 'Important literary \\ncontributions in the Kannada language came not only from court poets, noblemen, royalty, ascetics and saints who \\nwrote in the marga (mainstream) style, but also from commoners and artisans, including cobblers, weavers, cowherds \\nand shepherds who wrote in the desi (folk) style.']"
      ]
     },
     "execution_count": 72,
     "metadata": {},
     "output_type": "execute_result"
    }
   ],
   "source": [
    "sent = sent_tokenize(text)\n",
    "sent"
   ]
  },
  {
   "cell_type": "code",
   "execution_count": 73,
   "id": "operating-proxy",
   "metadata": {},
   "outputs": [],
   "source": [
    "for word in sent:\n",
    "    words = word_tokenize(word)\n",
    "    words = [w for w in  words if not w in swords]\n",
    "    tagged = nltk.pos_tag(words)"
   ]
  },
  {
   "cell_type": "code",
   "execution_count": 74,
   "id": "patent-karma",
   "metadata": {},
   "outputs": [
    {
     "name": "stdout",
     "output_type": "stream",
     "text": [
      "('Important', 'NNP')\n",
      "('contributions', 'NNS')\n",
      "('Kannada', 'NNP')\n",
      "('language', 'NN')\n",
      "('court', 'NN')\n",
      "('poets', 'NNS')\n",
      "('noblemen', 'NNS')\n",
      "('royalty', 'NN')\n",
      "('ascetics', 'NNS')\n",
      "('saints', 'NNS')\n",
      "('marga', 'NN')\n",
      "('mainstream', 'NN')\n",
      "('style', 'NN')\n",
      "('commoners', 'NNS')\n",
      "('artisans', 'NNS')\n",
      "('cobblers', 'NNS')\n",
      "('weavers', 'NNS')\n",
      "('cowherds', 'NNS')\n",
      "('shepherds', 'NNS')\n",
      "('desi', 'NN')\n",
      "('folk', 'NN')\n",
      "('style', 'NN')\n"
     ]
    }
   ],
   "source": [
    "for word in tagged:\n",
    "    if word[1].startswith('NN'):\n",
    "        print(word)"
   ]
  },
  {
   "cell_type": "code",
   "execution_count": null,
   "id": "unauthorized-metallic",
   "metadata": {},
   "outputs": [],
   "source": []
  },
  {
   "cell_type": "code",
   "execution_count": null,
   "id": "manual-developer",
   "metadata": {},
   "outputs": [],
   "source": []
  },
  {
   "cell_type": "code",
   "execution_count": null,
   "id": "vanilla-roulette",
   "metadata": {},
   "outputs": [],
   "source": []
  }
 ],
 "metadata": {
  "kernelspec": {
   "display_name": "Python 3",
   "language": "python",
   "name": "python3"
  },
  "language_info": {
   "codemirror_mode": {
    "name": "ipython",
    "version": 3
   },
   "file_extension": ".py",
   "mimetype": "text/x-python",
   "name": "python",
   "nbconvert_exporter": "python",
   "pygments_lexer": "ipython3",
   "version": "3.8.10"
  }
 },
 "nbformat": 4,
 "nbformat_minor": 5
}
